{
 "cells": [
  {
   "cell_type": "markdown",
   "metadata": {},
   "source": [
    "# 1.Introduction"
   ]
  },
  {
   "cell_type": "markdown",
   "metadata": {},
   "source": [
    "Milestone 2\n",
    "\n",
    "Nama : Stephanus Adinata S\n",
    "\n",
    "Batch : SBY-001\n",
    "\n",
    "Data : [Dataset](https://www.kaggle.com/datasets/tawfikelmetwally/employee-dataset/)\n",
    "\n",
    "Objective : The objective of this project is to predict employee turnover using best parameter pipeline, the dataset is from India"
   ]
  },
  {
   "cell_type": "markdown",
   "metadata": {},
   "source": [
    "# 2.Import Libraries"
   ]
  },
  {
   "cell_type": "code",
   "execution_count": 80,
   "metadata": {},
   "outputs": [],
   "source": [
    "import pandas as pd\n",
    "import numpy as np\n",
    "import matplotlib.pyplot as plt\n",
    "import seaborn as sns\n",
    "\n",
    "# preprocessing\n",
    "from sklearn.model_selection import train_test_split, GridSearchCV, cross_val_score #\n",
    "from sklearn.preprocessing import StandardScaler, MinMaxScaler, OneHotEncoder, OrdinalEncoder\n",
    "\n",
    "#model\n",
    "from sklearn.linear_model import LogisticRegression, SGDClassifier\n",
    "from sklearn.neighbors import NearestNeighbors, KNeighborsClassifier\n",
    "from sklearn.svm import SVC\n",
    "from sklearn.tree import DecisionTreeClassifier\n",
    "from sklearn.ensemble import RandomForestClassifier\n",
    "from sklearn.naive_bayes import GaussianNB, BernoulliNB\n",
    "\n",
    "#evaluasi Logistics\n",
    "from sklearn.metrics import confusion_matrix, classification_report, precision_score, recall_score, accuracy_score, f1_score, ConfusionMatrixDisplay\n",
    "\n",
    "#save model\n",
    "import pickle\n",
    "import json\n",
    "\n",
    "# Model Training - Random Forest - Using SVM as Base Model\n",
    "from sklearn.ensemble import AdaBoostClassifier\n",
    "\n",
    "#pipeline\n",
    "from sklearn.pipeline import Pipeline\n",
    "from sklearn.compose import ColumnTransformer\n",
    "\n",
    "\n",
    "import warnings\n",
    "warnings.filterwarnings(\"ignore\")\n",
    "\n",
    "pd.set_option('display.max_columns', None) # Atur agar semua kolom ter load"
   ]
  },
  {
   "cell_type": "markdown",
   "metadata": {},
   "source": [
    "# 3. Loading Data"
   ]
  },
  {
   "cell_type": "markdown",
   "metadata": {},
   "source": [
    "Data yang digunakan berasal dari [Dataset](https://www.kaggle.com/datasets/tawfikelmetwally/employee-dataset/)"
   ]
  },
  {
   "cell_type": "code",
   "execution_count": 81,
   "metadata": {},
   "outputs": [],
   "source": [
    "df_ori = pd.read_csv(\"Employee.csv\")"
   ]
  },
  {
   "cell_type": "code",
   "execution_count": 82,
   "metadata": {},
   "outputs": [],
   "source": [
    "df = df_ori.copy() #backup df"
   ]
  },
  {
   "cell_type": "code",
   "execution_count": 83,
   "metadata": {},
   "outputs": [
    {
     "name": "stdout",
     "output_type": "stream",
     "text": [
      "<class 'pandas.core.frame.DataFrame'>\n",
      "RangeIndex: 4653 entries, 0 to 4652\n",
      "Data columns (total 9 columns):\n",
      " #   Column                     Non-Null Count  Dtype \n",
      "---  ------                     --------------  ----- \n",
      " 0   Education                  4653 non-null   object\n",
      " 1   JoiningYear                4653 non-null   int64 \n",
      " 2   City                       4653 non-null   object\n",
      " 3   PaymentTier                4653 non-null   int64 \n",
      " 4   Age                        4653 non-null   int64 \n",
      " 5   Gender                     4653 non-null   object\n",
      " 6   EverBenched                4653 non-null   object\n",
      " 7   ExperienceInCurrentDomain  4653 non-null   int64 \n",
      " 8   LeaveOrNot                 4653 non-null   int64 \n",
      "dtypes: int64(5), object(4)\n",
      "memory usage: 327.3+ KB\n"
     ]
    }
   ],
   "source": [
    "df.info()"
   ]
  },
  {
   "cell_type": "code",
   "execution_count": 84,
   "metadata": {},
   "outputs": [
    {
     "data": {
      "text/html": [
       "<div>\n",
       "<style scoped>\n",
       "    .dataframe tbody tr th:only-of-type {\n",
       "        vertical-align: middle;\n",
       "    }\n",
       "\n",
       "    .dataframe tbody tr th {\n",
       "        vertical-align: top;\n",
       "    }\n",
       "\n",
       "    .dataframe thead th {\n",
       "        text-align: right;\n",
       "    }\n",
       "</style>\n",
       "<table border=\"1\" class=\"dataframe\">\n",
       "  <thead>\n",
       "    <tr style=\"text-align: right;\">\n",
       "      <th></th>\n",
       "      <th>JoiningYear</th>\n",
       "      <th>PaymentTier</th>\n",
       "      <th>Age</th>\n",
       "      <th>ExperienceInCurrentDomain</th>\n",
       "      <th>LeaveOrNot</th>\n",
       "    </tr>\n",
       "  </thead>\n",
       "  <tbody>\n",
       "    <tr>\n",
       "      <th>count</th>\n",
       "      <td>4653.000000</td>\n",
       "      <td>4653.000000</td>\n",
       "      <td>4653.000000</td>\n",
       "      <td>4653.000000</td>\n",
       "      <td>4653.000000</td>\n",
       "    </tr>\n",
       "    <tr>\n",
       "      <th>mean</th>\n",
       "      <td>2015.062970</td>\n",
       "      <td>2.698259</td>\n",
       "      <td>29.393295</td>\n",
       "      <td>2.905652</td>\n",
       "      <td>0.343864</td>\n",
       "    </tr>\n",
       "    <tr>\n",
       "      <th>std</th>\n",
       "      <td>1.863377</td>\n",
       "      <td>0.561435</td>\n",
       "      <td>4.826087</td>\n",
       "      <td>1.558240</td>\n",
       "      <td>0.475047</td>\n",
       "    </tr>\n",
       "    <tr>\n",
       "      <th>min</th>\n",
       "      <td>2012.000000</td>\n",
       "      <td>1.000000</td>\n",
       "      <td>22.000000</td>\n",
       "      <td>0.000000</td>\n",
       "      <td>0.000000</td>\n",
       "    </tr>\n",
       "    <tr>\n",
       "      <th>25%</th>\n",
       "      <td>2013.000000</td>\n",
       "      <td>3.000000</td>\n",
       "      <td>26.000000</td>\n",
       "      <td>2.000000</td>\n",
       "      <td>0.000000</td>\n",
       "    </tr>\n",
       "    <tr>\n",
       "      <th>50%</th>\n",
       "      <td>2015.000000</td>\n",
       "      <td>3.000000</td>\n",
       "      <td>28.000000</td>\n",
       "      <td>3.000000</td>\n",
       "      <td>0.000000</td>\n",
       "    </tr>\n",
       "    <tr>\n",
       "      <th>75%</th>\n",
       "      <td>2017.000000</td>\n",
       "      <td>3.000000</td>\n",
       "      <td>32.000000</td>\n",
       "      <td>4.000000</td>\n",
       "      <td>1.000000</td>\n",
       "    </tr>\n",
       "    <tr>\n",
       "      <th>max</th>\n",
       "      <td>2018.000000</td>\n",
       "      <td>3.000000</td>\n",
       "      <td>41.000000</td>\n",
       "      <td>7.000000</td>\n",
       "      <td>1.000000</td>\n",
       "    </tr>\n",
       "  </tbody>\n",
       "</table>\n",
       "</div>"
      ],
      "text/plain": [
       "       JoiningYear  PaymentTier          Age  ExperienceInCurrentDomain  \\\n",
       "count  4653.000000  4653.000000  4653.000000                4653.000000   \n",
       "mean   2015.062970     2.698259    29.393295                   2.905652   \n",
       "std       1.863377     0.561435     4.826087                   1.558240   \n",
       "min    2012.000000     1.000000    22.000000                   0.000000   \n",
       "25%    2013.000000     3.000000    26.000000                   2.000000   \n",
       "50%    2015.000000     3.000000    28.000000                   3.000000   \n",
       "75%    2017.000000     3.000000    32.000000                   4.000000   \n",
       "max    2018.000000     3.000000    41.000000                   7.000000   \n",
       "\n",
       "        LeaveOrNot  \n",
       "count  4653.000000  \n",
       "mean      0.343864  \n",
       "std       0.475047  \n",
       "min       0.000000  \n",
       "25%       0.000000  \n",
       "50%       0.000000  \n",
       "75%       1.000000  \n",
       "max       1.000000  "
      ]
     },
     "execution_count": 84,
     "metadata": {},
     "output_type": "execute_result"
    }
   ],
   "source": [
    "df.describe()"
   ]
  },
  {
   "cell_type": "code",
   "execution_count": 85,
   "metadata": {},
   "outputs": [
    {
     "data": {
      "text/html": [
       "<div>\n",
       "<style scoped>\n",
       "    .dataframe tbody tr th:only-of-type {\n",
       "        vertical-align: middle;\n",
       "    }\n",
       "\n",
       "    .dataframe tbody tr th {\n",
       "        vertical-align: top;\n",
       "    }\n",
       "\n",
       "    .dataframe thead th {\n",
       "        text-align: right;\n",
       "    }\n",
       "</style>\n",
       "<table border=\"1\" class=\"dataframe\">\n",
       "  <thead>\n",
       "    <tr style=\"text-align: right;\">\n",
       "      <th></th>\n",
       "      <th>Education</th>\n",
       "      <th>JoiningYear</th>\n",
       "      <th>City</th>\n",
       "      <th>PaymentTier</th>\n",
       "      <th>Age</th>\n",
       "      <th>Gender</th>\n",
       "      <th>EverBenched</th>\n",
       "      <th>ExperienceInCurrentDomain</th>\n",
       "      <th>LeaveOrNot</th>\n",
       "    </tr>\n",
       "  </thead>\n",
       "  <tbody>\n",
       "    <tr>\n",
       "      <th>0</th>\n",
       "      <td>Bachelors</td>\n",
       "      <td>2017</td>\n",
       "      <td>Bangalore</td>\n",
       "      <td>3</td>\n",
       "      <td>34</td>\n",
       "      <td>Male</td>\n",
       "      <td>No</td>\n",
       "      <td>0</td>\n",
       "      <td>0</td>\n",
       "    </tr>\n",
       "    <tr>\n",
       "      <th>1</th>\n",
       "      <td>Bachelors</td>\n",
       "      <td>2013</td>\n",
       "      <td>Pune</td>\n",
       "      <td>1</td>\n",
       "      <td>28</td>\n",
       "      <td>Female</td>\n",
       "      <td>No</td>\n",
       "      <td>3</td>\n",
       "      <td>1</td>\n",
       "    </tr>\n",
       "    <tr>\n",
       "      <th>2</th>\n",
       "      <td>Bachelors</td>\n",
       "      <td>2014</td>\n",
       "      <td>New Delhi</td>\n",
       "      <td>3</td>\n",
       "      <td>38</td>\n",
       "      <td>Female</td>\n",
       "      <td>No</td>\n",
       "      <td>2</td>\n",
       "      <td>0</td>\n",
       "    </tr>\n",
       "    <tr>\n",
       "      <th>3</th>\n",
       "      <td>Masters</td>\n",
       "      <td>2016</td>\n",
       "      <td>Bangalore</td>\n",
       "      <td>3</td>\n",
       "      <td>27</td>\n",
       "      <td>Male</td>\n",
       "      <td>No</td>\n",
       "      <td>5</td>\n",
       "      <td>1</td>\n",
       "    </tr>\n",
       "    <tr>\n",
       "      <th>4</th>\n",
       "      <td>Masters</td>\n",
       "      <td>2017</td>\n",
       "      <td>Pune</td>\n",
       "      <td>3</td>\n",
       "      <td>24</td>\n",
       "      <td>Male</td>\n",
       "      <td>Yes</td>\n",
       "      <td>2</td>\n",
       "      <td>1</td>\n",
       "    </tr>\n",
       "    <tr>\n",
       "      <th>...</th>\n",
       "      <td>...</td>\n",
       "      <td>...</td>\n",
       "      <td>...</td>\n",
       "      <td>...</td>\n",
       "      <td>...</td>\n",
       "      <td>...</td>\n",
       "      <td>...</td>\n",
       "      <td>...</td>\n",
       "      <td>...</td>\n",
       "    </tr>\n",
       "    <tr>\n",
       "      <th>4648</th>\n",
       "      <td>Bachelors</td>\n",
       "      <td>2013</td>\n",
       "      <td>Bangalore</td>\n",
       "      <td>3</td>\n",
       "      <td>26</td>\n",
       "      <td>Female</td>\n",
       "      <td>No</td>\n",
       "      <td>4</td>\n",
       "      <td>0</td>\n",
       "    </tr>\n",
       "    <tr>\n",
       "      <th>4649</th>\n",
       "      <td>Masters</td>\n",
       "      <td>2013</td>\n",
       "      <td>Pune</td>\n",
       "      <td>2</td>\n",
       "      <td>37</td>\n",
       "      <td>Male</td>\n",
       "      <td>No</td>\n",
       "      <td>2</td>\n",
       "      <td>1</td>\n",
       "    </tr>\n",
       "    <tr>\n",
       "      <th>4650</th>\n",
       "      <td>Masters</td>\n",
       "      <td>2018</td>\n",
       "      <td>New Delhi</td>\n",
       "      <td>3</td>\n",
       "      <td>27</td>\n",
       "      <td>Male</td>\n",
       "      <td>No</td>\n",
       "      <td>5</td>\n",
       "      <td>1</td>\n",
       "    </tr>\n",
       "    <tr>\n",
       "      <th>4651</th>\n",
       "      <td>Bachelors</td>\n",
       "      <td>2012</td>\n",
       "      <td>Bangalore</td>\n",
       "      <td>3</td>\n",
       "      <td>30</td>\n",
       "      <td>Male</td>\n",
       "      <td>Yes</td>\n",
       "      <td>2</td>\n",
       "      <td>0</td>\n",
       "    </tr>\n",
       "    <tr>\n",
       "      <th>4652</th>\n",
       "      <td>Bachelors</td>\n",
       "      <td>2015</td>\n",
       "      <td>Bangalore</td>\n",
       "      <td>3</td>\n",
       "      <td>33</td>\n",
       "      <td>Male</td>\n",
       "      <td>Yes</td>\n",
       "      <td>4</td>\n",
       "      <td>0</td>\n",
       "    </tr>\n",
       "  </tbody>\n",
       "</table>\n",
       "<p>4653 rows × 9 columns</p>\n",
       "</div>"
      ],
      "text/plain": [
       "      Education  JoiningYear       City  PaymentTier  Age  Gender EverBenched  \\\n",
       "0     Bachelors         2017  Bangalore            3   34    Male          No   \n",
       "1     Bachelors         2013       Pune            1   28  Female          No   \n",
       "2     Bachelors         2014  New Delhi            3   38  Female          No   \n",
       "3       Masters         2016  Bangalore            3   27    Male          No   \n",
       "4       Masters         2017       Pune            3   24    Male         Yes   \n",
       "...         ...          ...        ...          ...  ...     ...         ...   \n",
       "4648  Bachelors         2013  Bangalore            3   26  Female          No   \n",
       "4649    Masters         2013       Pune            2   37    Male          No   \n",
       "4650    Masters         2018  New Delhi            3   27    Male          No   \n",
       "4651  Bachelors         2012  Bangalore            3   30    Male         Yes   \n",
       "4652  Bachelors         2015  Bangalore            3   33    Male         Yes   \n",
       "\n",
       "      ExperienceInCurrentDomain  LeaveOrNot  \n",
       "0                             0           0  \n",
       "1                             3           1  \n",
       "2                             2           0  \n",
       "3                             5           1  \n",
       "4                             2           1  \n",
       "...                         ...         ...  \n",
       "4648                          4           0  \n",
       "4649                          2           1  \n",
       "4650                          5           1  \n",
       "4651                          2           0  \n",
       "4652                          4           0  \n",
       "\n",
       "[4653 rows x 9 columns]"
      ]
     },
     "execution_count": 85,
     "metadata": {},
     "output_type": "execute_result"
    }
   ],
   "source": [
    "df"
   ]
  },
  {
   "cell_type": "code",
   "execution_count": 86,
   "metadata": {},
   "outputs": [
    {
     "data": {
      "text/plain": [
       "41"
      ]
     },
     "execution_count": 86,
     "metadata": {},
     "output_type": "execute_result"
    }
   ],
   "source": [
    "df['Age'].max()"
   ]
  },
  {
   "cell_type": "markdown",
   "metadata": {},
   "source": [
    "## 3.1 Colomn Creation"
   ]
  },
  {
   "cell_type": "markdown",
   "metadata": {},
   "source": [
    "Kita akan mengganti value pada Education menjadi value angka agar mudah pada saat encoding ordinal"
   ]
  },
  {
   "cell_type": "code",
   "execution_count": 87,
   "metadata": {},
   "outputs": [],
   "source": [
    "angka = {'Bachelors': 1, 'Masters': 2, 'PHD': 3}\n",
    "df['Education'] = df['Education'].replace(angka)\n"
   ]
  },
  {
   "cell_type": "markdown",
   "metadata": {},
   "source": [
    "Berikut Keterangan kolom Education yang baru"
   ]
  },
  {
   "cell_type": "markdown",
   "metadata": {},
   "source": [
    "| Value | Meaning |\n",
    "| --- | --- |\n",
    "| 1 | Bachelors |\n",
    "| 2 | Masters |\n",
    "| 3 | PHD |"
   ]
  },
  {
   "cell_type": "code",
   "execution_count": 88,
   "metadata": {},
   "outputs": [
    {
     "data": {
      "text/html": [
       "<div>\n",
       "<style scoped>\n",
       "    .dataframe tbody tr th:only-of-type {\n",
       "        vertical-align: middle;\n",
       "    }\n",
       "\n",
       "    .dataframe tbody tr th {\n",
       "        vertical-align: top;\n",
       "    }\n",
       "\n",
       "    .dataframe thead th {\n",
       "        text-align: right;\n",
       "    }\n",
       "</style>\n",
       "<table border=\"1\" class=\"dataframe\">\n",
       "  <thead>\n",
       "    <tr style=\"text-align: right;\">\n",
       "      <th></th>\n",
       "      <th>Education</th>\n",
       "      <th>JoiningYear</th>\n",
       "      <th>City</th>\n",
       "      <th>PaymentTier</th>\n",
       "      <th>Age</th>\n",
       "      <th>Gender</th>\n",
       "      <th>EverBenched</th>\n",
       "      <th>ExperienceInCurrentDomain</th>\n",
       "      <th>LeaveOrNot</th>\n",
       "    </tr>\n",
       "  </thead>\n",
       "  <tbody>\n",
       "    <tr>\n",
       "      <th>0</th>\n",
       "      <td>1</td>\n",
       "      <td>2017</td>\n",
       "      <td>Bangalore</td>\n",
       "      <td>3</td>\n",
       "      <td>34</td>\n",
       "      <td>Male</td>\n",
       "      <td>No</td>\n",
       "      <td>0</td>\n",
       "      <td>0</td>\n",
       "    </tr>\n",
       "    <tr>\n",
       "      <th>1</th>\n",
       "      <td>1</td>\n",
       "      <td>2013</td>\n",
       "      <td>Pune</td>\n",
       "      <td>1</td>\n",
       "      <td>28</td>\n",
       "      <td>Female</td>\n",
       "      <td>No</td>\n",
       "      <td>3</td>\n",
       "      <td>1</td>\n",
       "    </tr>\n",
       "    <tr>\n",
       "      <th>2</th>\n",
       "      <td>1</td>\n",
       "      <td>2014</td>\n",
       "      <td>New Delhi</td>\n",
       "      <td>3</td>\n",
       "      <td>38</td>\n",
       "      <td>Female</td>\n",
       "      <td>No</td>\n",
       "      <td>2</td>\n",
       "      <td>0</td>\n",
       "    </tr>\n",
       "    <tr>\n",
       "      <th>3</th>\n",
       "      <td>2</td>\n",
       "      <td>2016</td>\n",
       "      <td>Bangalore</td>\n",
       "      <td>3</td>\n",
       "      <td>27</td>\n",
       "      <td>Male</td>\n",
       "      <td>No</td>\n",
       "      <td>5</td>\n",
       "      <td>1</td>\n",
       "    </tr>\n",
       "    <tr>\n",
       "      <th>4</th>\n",
       "      <td>2</td>\n",
       "      <td>2017</td>\n",
       "      <td>Pune</td>\n",
       "      <td>3</td>\n",
       "      <td>24</td>\n",
       "      <td>Male</td>\n",
       "      <td>Yes</td>\n",
       "      <td>2</td>\n",
       "      <td>1</td>\n",
       "    </tr>\n",
       "    <tr>\n",
       "      <th>...</th>\n",
       "      <td>...</td>\n",
       "      <td>...</td>\n",
       "      <td>...</td>\n",
       "      <td>...</td>\n",
       "      <td>...</td>\n",
       "      <td>...</td>\n",
       "      <td>...</td>\n",
       "      <td>...</td>\n",
       "      <td>...</td>\n",
       "    </tr>\n",
       "    <tr>\n",
       "      <th>4648</th>\n",
       "      <td>1</td>\n",
       "      <td>2013</td>\n",
       "      <td>Bangalore</td>\n",
       "      <td>3</td>\n",
       "      <td>26</td>\n",
       "      <td>Female</td>\n",
       "      <td>No</td>\n",
       "      <td>4</td>\n",
       "      <td>0</td>\n",
       "    </tr>\n",
       "    <tr>\n",
       "      <th>4649</th>\n",
       "      <td>2</td>\n",
       "      <td>2013</td>\n",
       "      <td>Pune</td>\n",
       "      <td>2</td>\n",
       "      <td>37</td>\n",
       "      <td>Male</td>\n",
       "      <td>No</td>\n",
       "      <td>2</td>\n",
       "      <td>1</td>\n",
       "    </tr>\n",
       "    <tr>\n",
       "      <th>4650</th>\n",
       "      <td>2</td>\n",
       "      <td>2018</td>\n",
       "      <td>New Delhi</td>\n",
       "      <td>3</td>\n",
       "      <td>27</td>\n",
       "      <td>Male</td>\n",
       "      <td>No</td>\n",
       "      <td>5</td>\n",
       "      <td>1</td>\n",
       "    </tr>\n",
       "    <tr>\n",
       "      <th>4651</th>\n",
       "      <td>1</td>\n",
       "      <td>2012</td>\n",
       "      <td>Bangalore</td>\n",
       "      <td>3</td>\n",
       "      <td>30</td>\n",
       "      <td>Male</td>\n",
       "      <td>Yes</td>\n",
       "      <td>2</td>\n",
       "      <td>0</td>\n",
       "    </tr>\n",
       "    <tr>\n",
       "      <th>4652</th>\n",
       "      <td>1</td>\n",
       "      <td>2015</td>\n",
       "      <td>Bangalore</td>\n",
       "      <td>3</td>\n",
       "      <td>33</td>\n",
       "      <td>Male</td>\n",
       "      <td>Yes</td>\n",
       "      <td>4</td>\n",
       "      <td>0</td>\n",
       "    </tr>\n",
       "  </tbody>\n",
       "</table>\n",
       "<p>4653 rows × 9 columns</p>\n",
       "</div>"
      ],
      "text/plain": [
       "      Education  JoiningYear       City  PaymentTier  Age  Gender EverBenched  \\\n",
       "0             1         2017  Bangalore            3   34    Male          No   \n",
       "1             1         2013       Pune            1   28  Female          No   \n",
       "2             1         2014  New Delhi            3   38  Female          No   \n",
       "3             2         2016  Bangalore            3   27    Male          No   \n",
       "4             2         2017       Pune            3   24    Male         Yes   \n",
       "...         ...          ...        ...          ...  ...     ...         ...   \n",
       "4648          1         2013  Bangalore            3   26  Female          No   \n",
       "4649          2         2013       Pune            2   37    Male          No   \n",
       "4650          2         2018  New Delhi            3   27    Male          No   \n",
       "4651          1         2012  Bangalore            3   30    Male         Yes   \n",
       "4652          1         2015  Bangalore            3   33    Male         Yes   \n",
       "\n",
       "      ExperienceInCurrentDomain  LeaveOrNot  \n",
       "0                             0           0  \n",
       "1                             3           1  \n",
       "2                             2           0  \n",
       "3                             5           1  \n",
       "4                             2           1  \n",
       "...                         ...         ...  \n",
       "4648                          4           0  \n",
       "4649                          2           1  \n",
       "4650                          5           1  \n",
       "4651                          2           0  \n",
       "4652                          4           0  \n",
       "\n",
       "[4653 rows x 9 columns]"
      ]
     },
     "execution_count": 88,
     "metadata": {},
     "output_type": "execute_result"
    }
   ],
   "source": [
    "df"
   ]
  },
  {
   "cell_type": "code",
   "execution_count": 89,
   "metadata": {},
   "outputs": [
    {
     "data": {
      "text/plain": [
       "7"
      ]
     },
     "execution_count": 89,
     "metadata": {},
     "output_type": "execute_result"
    }
   ],
   "source": [
    "df['ExperienceInCurrentDomain'].max()"
   ]
  },
  {
   "cell_type": "markdown",
   "metadata": {},
   "source": [
    "# 4.EDA"
   ]
  },
  {
   "cell_type": "markdown",
   "metadata": {},
   "source": [
    "## 4.1 EDA Kolom Target (LeaveOrNot)"
   ]
  },
  {
   "cell_type": "code",
   "execution_count": 90,
   "metadata": {},
   "outputs": [
    {
     "data": {
      "text/html": [
       "<div>\n",
       "<style scoped>\n",
       "    .dataframe tbody tr th:only-of-type {\n",
       "        vertical-align: middle;\n",
       "    }\n",
       "\n",
       "    .dataframe tbody tr th {\n",
       "        vertical-align: top;\n",
       "    }\n",
       "\n",
       "    .dataframe thead th {\n",
       "        text-align: right;\n",
       "    }\n",
       "</style>\n",
       "<table border=\"1\" class=\"dataframe\">\n",
       "  <thead>\n",
       "    <tr style=\"text-align: right;\">\n",
       "      <th></th>\n",
       "      <th>index</th>\n",
       "      <th>LeaveOrNot</th>\n",
       "      <th>percentage</th>\n",
       "    </tr>\n",
       "  </thead>\n",
       "  <tbody>\n",
       "    <tr>\n",
       "      <th>0</th>\n",
       "      <td>0</td>\n",
       "      <td>3053</td>\n",
       "      <td>0.656136</td>\n",
       "    </tr>\n",
       "    <tr>\n",
       "      <th>1</th>\n",
       "      <td>1</td>\n",
       "      <td>1600</td>\n",
       "      <td>0.343864</td>\n",
       "    </tr>\n",
       "  </tbody>\n",
       "</table>\n",
       "</div>"
      ],
      "text/plain": [
       "   index  LeaveOrNot  percentage\n",
       "0      0        3053    0.656136\n",
       "1      1        1600    0.343864"
      ]
     },
     "execution_count": 90,
     "metadata": {},
     "output_type": "execute_result"
    }
   ],
   "source": [
    "target = df[\"LeaveOrNot\"].value_counts().reset_index()\n",
    "persen = df[\"LeaveOrNot\"].value_counts(normalize=True).reset_index()\n",
    "target[\"percentage\"] = persen[\"LeaveOrNot\"]\n",
    "target"
   ]
  },
  {
   "cell_type": "code",
   "execution_count": 91,
   "metadata": {},
   "outputs": [
    {
     "data": {
      "text/plain": [
       "<matplotlib.legend.Legend at 0x1e359e6e490>"
      ]
     },
     "execution_count": 91,
     "metadata": {},
     "output_type": "execute_result"
    },
    {
     "data": {
      "image/png": "[encoded data removed]",
      "text/plain": [
       "<Figure size 700x500 with 1 Axes>"
      ]
     },
     "metadata": {},
     "output_type": "display_data"
    }
   ],
   "source": [
    "plt.figure(figsize=(7,5))\n",
    "\n",
    "\n",
    "#sns.barplot(target[\"index\"], target[\"percentage\"])\n",
    "plt.pie(target[\"percentage\"], labels = target[\"index\"], autopct='%.0f%%')\n",
    "plt.title(\"Pie Chart Employee Resign / Tidak\")\n",
    "plt.xticks(fontsize=12)\n",
    "plt.yticks(fontsize=12)\n",
    "plt.legend(fontsize=12)"
   ]
  },
  {
   "cell_type": "markdown",
   "metadata": {},
   "source": [
    "| Value | Meaning |\n",
    "| --- | --- |\n",
    "| 0 | Tidak Resign |\n",
    "| 1 | Resign |"
   ]
  },
  {
   "cell_type": "markdown",
   "metadata": {},
   "source": [
    "Dari plot diatas ditemukan bahwa jumlah karyawan pada dataset ini adalah 4653. Karyawan yang stay /  tidak resign sebesar 3053 orang (66%), sedangkan sisanya 1600 orang (34%) memutuskan untuk resign."
   ]
  },
  {
   "cell_type": "markdown",
   "metadata": {},
   "source": [
    "## 4.2 EDA Kolom Numerical Joining Year"
   ]
  },
  {
   "cell_type": "code",
   "execution_count": 92,
   "metadata": {},
   "outputs": [
    {
     "data": {
      "text/plain": [
       "<Figure size 1000x500 with 0 Axes>"
      ]
     },
     "execution_count": 92,
     "metadata": {},
     "output_type": "execute_result"
    },
    {
     "data": {
      "image/png": "[encoded data removed]",
      "text/plain": [
       "<Figure size 640x480 with 1 Axes>"
      ]
     },
     "metadata": {},
     "output_type": "display_data"
    },
    {
     "data": {
      "text/plain": [
       "<Figure size 1000x500 with 0 Axes>"
      ]
     },
     "metadata": {},
     "output_type": "display_data"
    }
   ],
   "source": [
    "sns.countplot(x = 'JoiningYear' , hue = 'LeaveOrNot', data = df)\n",
    "plt.figure(figsize = (10, 5))"
   ]
  },
  {
   "cell_type": "code",
   "execution_count": 93,
   "metadata": {},
   "outputs": [
    {
     "name": "stdout",
     "output_type": "stream",
     "text": [
      "    JoiningYear  LeaveOrNot  Count\n",
      "0          2012           0    395\n",
      "1          2012           1    109\n",
      "2          2013           0    445\n",
      "3          2013           1    224\n",
      "4          2014           0    526\n",
      "5          2014           1    173\n",
      "6          2015           0    463\n",
      "7          2015           1    318\n",
      "8          2016           0    408\n",
      "9          2016           1    117\n",
      "10         2017           0    811\n",
      "11         2017           1    297\n",
      "12         2018           0      5\n",
      "13         2018           1    362\n"
     ]
    }
   ],
   "source": [
    "# Menghitung value count untuk setiap kombinasi 'JoiningYear' dan 'LeaveOrNot'\n",
    "value_counts = df.groupby(['JoiningYear', 'LeaveOrNot']).size().reset_index(name='Count')\n",
    "\n",
    "# Menampilkan hasil value count\n",
    "print(value_counts)"
   ]
  },
  {
   "cell_type": "markdown",
   "metadata": {},
   "source": [
    "Dari plot di atas diketahui bahwa karywan yang bergabung pada 2018 mayoritas memutuskan untuk resign"
   ]
  },
  {
   "cell_type": "markdown",
   "metadata": {},
   "source": [
    "## 4.3 EDA Kolom Categorial"
   ]
  },
  {
   "cell_type": "markdown",
   "metadata": {},
   "source": [
    "### 4.3.1.1 EDA Kolom  Nominal Gender"
   ]
  },
  {
   "cell_type": "code",
   "execution_count": 94,
   "metadata": {},
   "outputs": [
    {
     "data": {
      "text/html": [
       "<div>\n",
       "<style scoped>\n",
       "    .dataframe tbody tr th:only-of-type {\n",
       "        vertical-align: middle;\n",
       "    }\n",
       "\n",
       "    .dataframe tbody tr th {\n",
       "        vertical-align: top;\n",
       "    }\n",
       "\n",
       "    .dataframe thead th {\n",
       "        text-align: right;\n",
       "    }\n",
       "</style>\n",
       "<table border=\"1\" class=\"dataframe\">\n",
       "  <thead>\n",
       "    <tr style=\"text-align: right;\">\n",
       "      <th></th>\n",
       "      <th>index</th>\n",
       "      <th>Gender</th>\n",
       "      <th>percentage</th>\n",
       "    </tr>\n",
       "  </thead>\n",
       "  <tbody>\n",
       "    <tr>\n",
       "      <th>0</th>\n",
       "      <td>Male</td>\n",
       "      <td>2778</td>\n",
       "      <td>0.597034</td>\n",
       "    </tr>\n",
       "    <tr>\n",
       "      <th>1</th>\n",
       "      <td>Female</td>\n",
       "      <td>1875</td>\n",
       "      <td>0.402966</td>\n",
       "    </tr>\n",
       "  </tbody>\n",
       "</table>\n",
       "</div>"
      ],
      "text/plain": [
       "    index  Gender  percentage\n",
       "0    Male    2778    0.597034\n",
       "1  Female    1875    0.402966"
      ]
     },
     "execution_count": 94,
     "metadata": {},
     "output_type": "execute_result"
    }
   ],
   "source": [
    "target = df[\"Gender\"].value_counts().reset_index()\n",
    "persen = df[\"Gender\"].value_counts(normalize=True).reset_index()\n",
    "target[\"percentage\"] = persen[\"Gender\"]\n",
    "target"
   ]
  },
  {
   "cell_type": "code",
   "execution_count": 95,
   "metadata": {},
   "outputs": [
    {
     "data": {
      "text/plain": [
       "Text(0.5, 1.0, 'Gender Distribution Gender')"
      ]
     },
     "execution_count": 95,
     "metadata": {},
     "output_type": "execute_result"
    },
    {
     "data": {
      "image/png": "[encoded data removed]",
      "text/plain": [
       "<Figure size 640x480 with 1 Axes>"
      ]
     },
     "metadata": {},
     "output_type": "display_data"
    }
   ],
   "source": [
    "plt.pie(df['Gender'].value_counts(), labels = df['Gender'].value_counts().index, autopct = '%1.1f%%',)\n",
    "plt.title(\"Gender Distribution Gender\")"
   ]
  },
  {
   "cell_type": "markdown",
   "metadata": {},
   "source": [
    "Diketahui pada dataset ini 2778 orang (59.7%) adalah laki-laki, sedangkan sisanya 1875 (40.3%) adalah perempuan"
   ]
  },
  {
   "cell_type": "markdown",
   "metadata": {},
   "source": [
    "### 4.3.1.2 EDA Kolom Nominal PaymentTier"
   ]
  },
  {
   "cell_type": "code",
   "execution_count": 96,
   "metadata": {},
   "outputs": [
    {
     "data": {
      "text/plain": [
       "<Figure size 1400x1000 with 0 Axes>"
      ]
     },
     "execution_count": 96,
     "metadata": {},
     "output_type": "execute_result"
    },
    {
     "data": {
      "image/png": "[encoded data removed]",
      "text/plain": [
       "<Figure size 640x480 with 1 Axes>"
      ]
     },
     "metadata": {},
     "output_type": "display_data"
    },
    {
     "data": {
      "text/plain": [
       "<Figure size 1400x1000 with 0 Axes>"
      ]
     },
     "metadata": {},
     "output_type": "display_data"
    }
   ],
   "source": [
    "sns.countplot(x=\"PaymentTier\",hue=\"LeaveOrNot\",data=df)\n",
    "plt.figure(figsize=(14,10))"
   ]
  },
  {
   "cell_type": "markdown",
   "metadata": {},
   "source": [
    "Dari grafik di atas diketahui bahwa mayoritas karyawan yang menerima payment di tier 2 memutuskan untuk resign"
   ]
  },
  {
   "cell_type": "code",
   "execution_count": 97,
   "metadata": {},
   "outputs": [
    {
     "data": {
      "text/plain": [
       "<Figure size 1400x1000 with 0 Axes>"
      ]
     },
     "execution_count": 97,
     "metadata": {},
     "output_type": "execute_result"
    },
    {
     "data": {
      "image/png": "[encoded data removed]",
      "text/plain": [
       "<Figure size 640x480 with 1 Axes>"
      ]
     },
     "metadata": {},
     "output_type": "display_data"
    },
    {
     "data": {
      "text/plain": [
       "<Figure size 1400x1000 with 0 Axes>"
      ]
     },
     "metadata": {},
     "output_type": "display_data"
    }
   ],
   "source": [
    "sns.countplot(x=\"PaymentTier\",hue=\"Education\",data=df)\n",
    "plt.figure(figsize=(14,10))"
   ]
  },
  {
   "cell_type": "markdown",
   "metadata": {},
   "source": [
    "Dari grafik di atas diketahui bahwa karyawan yang bergelar Bachelor mayoritas memiliki payment pada tier 3 (paling rendah)"
   ]
  },
  {
   "cell_type": "markdown",
   "metadata": {},
   "source": [
    "### 4.3.1.3 EDA Kolom Age"
   ]
  },
  {
   "cell_type": "code",
   "execution_count": 98,
   "metadata": {},
   "outputs": [
    {
     "data": {
      "text/plain": [
       "count    4653.000000\n",
       "mean       29.393295\n",
       "std         4.826087\n",
       "min        22.000000\n",
       "25%        26.000000\n",
       "50%        28.000000\n",
       "75%        32.000000\n",
       "max        41.000000\n",
       "Name: Age, dtype: float64"
      ]
     },
     "execution_count": 98,
     "metadata": {},
     "output_type": "execute_result"
    }
   ],
   "source": [
    "df['Age'].describe()"
   ]
  },
  {
   "cell_type": "code",
   "execution_count": 99,
   "metadata": {},
   "outputs": [
    {
     "data": {
      "image/png": "[encoded data removed]",
      "text/plain": [
       "<Figure size 640x480 with 1 Axes>"
      ]
     },
     "metadata": {},
     "output_type": "display_data"
    }
   ],
   "source": [
    "plt.hist(df['Age'], bins=20, edgecolor='k')\n",
    "plt.xlabel('Age')\n",
    "plt.ylabel('Frequency')\n",
    "plt.title('Histogram of Age')\n",
    "plt.show()"
   ]
  },
  {
   "cell_type": "code",
   "execution_count": 100,
   "metadata": {},
   "outputs": [
    {
     "data": {
      "text/plain": [
       "26    645\n",
       "28    630\n",
       "27    625\n",
       "25    418\n",
       "24    385\n",
       "29    230\n",
       "30    220\n",
       "37    141\n",
       "36    139\n",
       "34    136\n",
       "38    136\n",
       "40    134\n",
       "32    132\n",
       "39    131\n",
       "31    125\n",
       "33    124\n",
       "35    123\n",
       "41     82\n",
       "22     49\n",
       "23     48\n",
       "Name: Age, dtype: int64"
      ]
     },
     "execution_count": 100,
     "metadata": {},
     "output_type": "execute_result"
    }
   ],
   "source": [
    "df['Age'].value_counts()"
   ]
  },
  {
   "cell_type": "markdown",
   "metadata": {},
   "source": [
    "Dapat dilihat pada dataset ini umur maksimal karyawan adalah 41 tahun dan umur yang paling kecil adalah 22, sedangkan rata-rata umur pada dataset ini adalah 29"
   ]
  },
  {
   "cell_type": "markdown",
   "metadata": {},
   "source": [
    "### 4.3.2.1 EDA Kolom Ordinal Education"
   ]
  },
  {
   "cell_type": "code",
   "execution_count": 101,
   "metadata": {},
   "outputs": [
    {
     "data": {
      "text/html": [
       "<div>\n",
       "<style scoped>\n",
       "    .dataframe tbody tr th:only-of-type {\n",
       "        vertical-align: middle;\n",
       "    }\n",
       "\n",
       "    .dataframe tbody tr th {\n",
       "        vertical-align: top;\n",
       "    }\n",
       "\n",
       "    .dataframe thead th {\n",
       "        text-align: right;\n",
       "    }\n",
       "</style>\n",
       "<table border=\"1\" class=\"dataframe\">\n",
       "  <thead>\n",
       "    <tr style=\"text-align: right;\">\n",
       "      <th></th>\n",
       "      <th>index</th>\n",
       "      <th>Education</th>\n",
       "      <th>percentage</th>\n",
       "    </tr>\n",
       "  </thead>\n",
       "  <tbody>\n",
       "    <tr>\n",
       "      <th>0</th>\n",
       "      <td>1</td>\n",
       "      <td>3601</td>\n",
       "      <td>0.773909</td>\n",
       "    </tr>\n",
       "    <tr>\n",
       "      <th>1</th>\n",
       "      <td>2</td>\n",
       "      <td>873</td>\n",
       "      <td>0.187621</td>\n",
       "    </tr>\n",
       "    <tr>\n",
       "      <th>2</th>\n",
       "      <td>3</td>\n",
       "      <td>179</td>\n",
       "      <td>0.038470</td>\n",
       "    </tr>\n",
       "  </tbody>\n",
       "</table>\n",
       "</div>"
      ],
      "text/plain": [
       "   index  Education  percentage\n",
       "0      1       3601    0.773909\n",
       "1      2        873    0.187621\n",
       "2      3        179    0.038470"
      ]
     },
     "execution_count": 101,
     "metadata": {},
     "output_type": "execute_result"
    }
   ],
   "source": [
    "target = df[\"Education\"].value_counts().reset_index()\n",
    "persen = df[\"Education\"].value_counts(normalize=True).reset_index()\n",
    "target[\"percentage\"] = persen[\"Education\"]\n",
    "target"
   ]
  },
  {
   "cell_type": "markdown",
   "metadata": {},
   "source": [
    "| Value | Meaning |\n",
    "| --- | --- |\n",
    "| 1 | Bachelors |\n",
    "| 2 | Masters |\n",
    "| 3 | PHD |"
   ]
  },
  {
   "cell_type": "code",
   "execution_count": 102,
   "metadata": {},
   "outputs": [
    {
     "data": {
      "text/plain": [
       "Text(0.5, 1.0, 'Diagram from Degree Convention')"
      ]
     },
     "execution_count": 102,
     "metadata": {},
     "output_type": "execute_result"
    },
    {
     "data": {
      "image/png": "[encoded data removed]",
      "text/plain": [
       "<Figure size 640x480 with 1 Axes>"
      ]
     },
     "metadata": {},
     "output_type": "display_data"
    }
   ],
   "source": [
    "plt.pie(x = df['Education'].value_counts(), labels = df['Education'].value_counts().index, autopct = '%1.1f%%' ,  explode = [0.05, 0.05,0 ], startangle = 360)\n",
    "plt.title(\"Diagram from Degree Convention\")"
   ]
  },
  {
   "cell_type": "markdown",
   "metadata": {},
   "source": [
    "Diketahui sebaran Education pada dataset ini Bachelor adalah 3601 (77%) orang, Master sebanyak 873 (18%) dan sisanya PHD sebanyak 179 (3.8%) orang"
   ]
  },
  {
   "cell_type": "code",
   "execution_count": 103,
   "metadata": {},
   "outputs": [
    {
     "data": {
      "image/png": "[encoded data removed]",
      "text/plain": [
       "<Figure size 1500x1000 with 1 Axes>"
      ]
     },
     "metadata": {},
     "output_type": "display_data"
    }
   ],
   "source": [
    "plt.figure(figsize = (15, 10))\n",
    "sns.countplot(data = df, x = 'Education', hue = 'LeaveOrNot')\n",
    "plt.title('Education and Rate of Leave')\n",
    "plt.show()"
   ]
  },
  {
   "cell_type": "code",
   "execution_count": 104,
   "metadata": {},
   "outputs": [
    {
     "name": "stdout",
     "output_type": "stream",
     "text": [
      "   Education  LeaveOrNot  Count\n",
      "0          1           0   2472\n",
      "1          1           1   1129\n",
      "2          2           0    447\n",
      "3          2           1    426\n",
      "4          3           0    134\n",
      "5          3           1     45\n"
     ]
    }
   ],
   "source": [
    "# Menghitung value count untuk setiap kombinasi 'Education' dan 'LeaveOrNot'\n",
    "value_counts = df.groupby(['Education', 'LeaveOrNot']).size().reset_index(name='Count')\n",
    "\n",
    "# Menampilkan hasil value count\n",
    "print(value_counts)\n"
   ]
  },
  {
   "cell_type": "markdown",
   "metadata": {},
   "source": [
    "Dari Grafik di atas di ketahui bahwa seluruh karyawan dengan Education level baik itu Bachelors, Master, dan PHD mayoritas tetap akan stay (tidak resign)"
   ]
  },
  {
   "cell_type": "markdown",
   "metadata": {},
   "source": [
    "# 5. Feature Engineering"
   ]
  },
  {
   "cell_type": "markdown",
   "metadata": {},
   "source": [
    "## 5.1 Split Feature"
   ]
  },
  {
   "cell_type": "code",
   "execution_count": 105,
   "metadata": {},
   "outputs": [
    {
     "name": "stdout",
     "output_type": "stream",
     "text": [
      "<class 'pandas.core.frame.DataFrame'>\n",
      "RangeIndex: 4653 entries, 0 to 4652\n",
      "Data columns (total 9 columns):\n",
      " #   Column                     Non-Null Count  Dtype \n",
      "---  ------                     --------------  ----- \n",
      " 0   Education                  4653 non-null   int64 \n",
      " 1   JoiningYear                4653 non-null   int64 \n",
      " 2   City                       4653 non-null   object\n",
      " 3   PaymentTier                4653 non-null   int64 \n",
      " 4   Age                        4653 non-null   int64 \n",
      " 5   Gender                     4653 non-null   object\n",
      " 6   EverBenched                4653 non-null   object\n",
      " 7   ExperienceInCurrentDomain  4653 non-null   int64 \n",
      " 8   LeaveOrNot                 4653 non-null   int64 \n",
      "dtypes: int64(6), object(3)\n",
      "memory usage: 327.3+ KB\n"
     ]
    }
   ],
   "source": [
    "df.info()"
   ]
  },
  {
   "cell_type": "code",
   "execution_count": 106,
   "metadata": {},
   "outputs": [],
   "source": [
    "# Define X (features) and y (target variable)\n",
    "X = df[['Education', 'JoiningYear', 'PaymentTier', 'Age', 'EverBenched', 'ExperienceInCurrentDomain']]\n",
    "y = df['LeaveOrNot']"
   ]
  },
  {
   "cell_type": "markdown",
   "metadata": {},
   "source": [
    "## 5.2 Split Train Set and Test"
   ]
  },
  {
   "cell_type": "code",
   "execution_count": 107,
   "metadata": {},
   "outputs": [
    {
     "name": "stdout",
     "output_type": "stream",
     "text": [
      "Train Size: (3722, 6)\n",
      "Test Size: (931, 6)\n"
     ]
    },
    {
     "data": {
      "text/html": [
       "<div>\n",
       "<style scoped>\n",
       "    .dataframe tbody tr th:only-of-type {\n",
       "        vertical-align: middle;\n",
       "    }\n",
       "\n",
       "    .dataframe tbody tr th {\n",
       "        vertical-align: top;\n",
       "    }\n",
       "\n",
       "    .dataframe thead th {\n",
       "        text-align: right;\n",
       "    }\n",
       "</style>\n",
       "<table border=\"1\" class=\"dataframe\">\n",
       "  <thead>\n",
       "    <tr style=\"text-align: right;\">\n",
       "      <th></th>\n",
       "      <th>Education</th>\n",
       "      <th>JoiningYear</th>\n",
       "      <th>PaymentTier</th>\n",
       "      <th>Age</th>\n",
       "      <th>EverBenched</th>\n",
       "      <th>ExperienceInCurrentDomain</th>\n",
       "    </tr>\n",
       "  </thead>\n",
       "  <tbody>\n",
       "    <tr>\n",
       "      <th>1847</th>\n",
       "      <td>1</td>\n",
       "      <td>2016</td>\n",
       "      <td>3</td>\n",
       "      <td>26</td>\n",
       "      <td>Yes</td>\n",
       "      <td>4</td>\n",
       "    </tr>\n",
       "    <tr>\n",
       "      <th>2905</th>\n",
       "      <td>1</td>\n",
       "      <td>2012</td>\n",
       "      <td>3</td>\n",
       "      <td>26</td>\n",
       "      <td>No</td>\n",
       "      <td>4</td>\n",
       "    </tr>\n",
       "    <tr>\n",
       "      <th>4610</th>\n",
       "      <td>1</td>\n",
       "      <td>2015</td>\n",
       "      <td>3</td>\n",
       "      <td>24</td>\n",
       "      <td>No</td>\n",
       "      <td>2</td>\n",
       "    </tr>\n",
       "    <tr>\n",
       "      <th>2228</th>\n",
       "      <td>1</td>\n",
       "      <td>2012</td>\n",
       "      <td>3</td>\n",
       "      <td>28</td>\n",
       "      <td>No</td>\n",
       "      <td>1</td>\n",
       "    </tr>\n",
       "    <tr>\n",
       "      <th>5</th>\n",
       "      <td>1</td>\n",
       "      <td>2016</td>\n",
       "      <td>3</td>\n",
       "      <td>22</td>\n",
       "      <td>No</td>\n",
       "      <td>0</td>\n",
       "    </tr>\n",
       "    <tr>\n",
       "      <th>...</th>\n",
       "      <td>...</td>\n",
       "      <td>...</td>\n",
       "      <td>...</td>\n",
       "      <td>...</td>\n",
       "      <td>...</td>\n",
       "      <td>...</td>\n",
       "    </tr>\n",
       "    <tr>\n",
       "      <th>3335</th>\n",
       "      <td>1</td>\n",
       "      <td>2016</td>\n",
       "      <td>3</td>\n",
       "      <td>37</td>\n",
       "      <td>No</td>\n",
       "      <td>0</td>\n",
       "    </tr>\n",
       "    <tr>\n",
       "      <th>1099</th>\n",
       "      <td>2</td>\n",
       "      <td>2017</td>\n",
       "      <td>2</td>\n",
       "      <td>27</td>\n",
       "      <td>No</td>\n",
       "      <td>5</td>\n",
       "    </tr>\n",
       "    <tr>\n",
       "      <th>2514</th>\n",
       "      <td>1</td>\n",
       "      <td>2016</td>\n",
       "      <td>3</td>\n",
       "      <td>29</td>\n",
       "      <td>No</td>\n",
       "      <td>5</td>\n",
       "    </tr>\n",
       "    <tr>\n",
       "      <th>3606</th>\n",
       "      <td>1</td>\n",
       "      <td>2013</td>\n",
       "      <td>2</td>\n",
       "      <td>34</td>\n",
       "      <td>No</td>\n",
       "      <td>3</td>\n",
       "    </tr>\n",
       "    <tr>\n",
       "      <th>2575</th>\n",
       "      <td>1</td>\n",
       "      <td>2013</td>\n",
       "      <td>3</td>\n",
       "      <td>29</td>\n",
       "      <td>No</td>\n",
       "      <td>2</td>\n",
       "    </tr>\n",
       "  </tbody>\n",
       "</table>\n",
       "<p>3722 rows × 6 columns</p>\n",
       "</div>"
      ],
      "text/plain": [
       "      Education  JoiningYear  PaymentTier  Age EverBenched  \\\n",
       "1847          1         2016            3   26         Yes   \n",
       "2905          1         2012            3   26          No   \n",
       "4610          1         2015            3   24          No   \n",
       "2228          1         2012            3   28          No   \n",
       "5             1         2016            3   22          No   \n",
       "...         ...          ...          ...  ...         ...   \n",
       "3335          1         2016            3   37          No   \n",
       "1099          2         2017            2   27          No   \n",
       "2514          1         2016            3   29          No   \n",
       "3606          1         2013            2   34          No   \n",
       "2575          1         2013            3   29          No   \n",
       "\n",
       "      ExperienceInCurrentDomain  \n",
       "1847                          4  \n",
       "2905                          4  \n",
       "4610                          2  \n",
       "2228                          1  \n",
       "5                             0  \n",
       "...                         ...  \n",
       "3335                          0  \n",
       "1099                          5  \n",
       "2514                          5  \n",
       "3606                          3  \n",
       "2575                          2  \n",
       "\n",
       "[3722 rows x 6 columns]"
      ]
     },
     "execution_count": 107,
     "metadata": {},
     "output_type": "execute_result"
    }
   ],
   "source": [
    "X_train, X_test, y_train, y_test = train_test_split(X, y, test_size = 0.2, random_state=2)\n",
    "print('Train Size:' , X_train.shape)\n",
    "print('Test Size:' , X_test.shape)\n",
    "X_train"
   ]
  },
  {
   "cell_type": "markdown",
   "metadata": {},
   "source": [
    "## 5.3 Handling Missing Value"
   ]
  },
  {
   "cell_type": "code",
   "execution_count": 108,
   "metadata": {},
   "outputs": [
    {
     "data": {
      "text/plain": [
       "Education                    0\n",
       "JoiningYear                  0\n",
       "PaymentTier                  0\n",
       "Age                          0\n",
       "EverBenched                  0\n",
       "ExperienceInCurrentDomain    0\n",
       "dtype: int64"
      ]
     },
     "execution_count": 108,
     "metadata": {},
     "output_type": "execute_result"
    }
   ],
   "source": [
    "# Check X_train\n",
    "\n",
    "X_train.isnull().sum()"
   ]
  },
  {
   "cell_type": "code",
   "execution_count": 109,
   "metadata": {},
   "outputs": [
    {
     "data": {
      "text/plain": [
       "Education                    0\n",
       "JoiningYear                  0\n",
       "PaymentTier                  0\n",
       "Age                          0\n",
       "EverBenched                  0\n",
       "ExperienceInCurrentDomain    0\n",
       "dtype: int64"
      ]
     },
     "execution_count": 109,
     "metadata": {},
     "output_type": "execute_result"
    }
   ],
   "source": [
    "# Check X_test\n",
    "\n",
    "X_test.isnull().sum()"
   ]
  },
  {
   "cell_type": "code",
   "execution_count": 110,
   "metadata": {},
   "outputs": [
    {
     "data": {
      "text/plain": [
       "0"
      ]
     },
     "execution_count": 110,
     "metadata": {},
     "output_type": "execute_result"
    }
   ],
   "source": [
    "# Check y_train\n",
    "\n",
    "y_train.isnull().sum()"
   ]
  },
  {
   "cell_type": "code",
   "execution_count": 111,
   "metadata": {},
   "outputs": [
    {
     "data": {
      "text/plain": [
       "0"
      ]
     },
     "execution_count": 111,
     "metadata": {},
     "output_type": "execute_result"
    }
   ],
   "source": [
    "# Check y_test\n",
    "\n",
    "y_test.isnull().sum()"
   ]
  },
  {
   "cell_type": "markdown",
   "metadata": {},
   "source": [
    "## 5.4 - Split numerical column and categorical column"
   ]
  },
  {
   "cell_type": "code",
   "execution_count": 112,
   "metadata": {},
   "outputs": [],
   "source": [
    "# Define X (features) and y (target variable)\n",
    "X = df[['Education', 'JoiningYear', 'PaymentTier', 'Age', 'EverBenched', 'ExperienceInCurrentDomain']]\n",
    "y = df['LeaveOrNot']"
   ]
  },
  {
   "cell_type": "code",
   "execution_count": 113,
   "metadata": {},
   "outputs": [],
   "source": [
    "#Define kolom numerikal dan kategorial\n",
    "num_col = ['JoiningYear']\n",
    "cat_col = ['Education', 'Age', 'PaymentTier', 'EverBenched', 'ExperienceInCurrentDomain']\n",
    "\n",
    "#Define kolom kategorial nominal dan ordinal\n",
    "cat_col_n = ['Age', 'ExperienceInCurrentDomain', 'EverBenched']\n",
    "cat_col_o = ['Education', 'PaymentTier']"
   ]
  },
  {
   "cell_type": "code",
   "execution_count": 114,
   "metadata": {},
   "outputs": [],
   "source": [
    "X_train_num = X_train[num_col] # X_train Numerical Data\n",
    "X_test_num = X_test[num_col] # X_test Numerical Data\n",
    "\n",
    "X_train_cat_n = X_train[cat_col_n] # X_train Categorical Nominal Data\n",
    "X_test_cat_n = X_test[cat_col_n] # X_test Categorical Nominal Data\n",
    "\n",
    "X_train_cat_o = X_train[cat_col_o] # X_train Categorical Ordinal Data\n",
    "X_test_cat_o = X_test[cat_col_o] # X_test Categorical Ordinal Data"
   ]
  },
  {
   "cell_type": "markdown",
   "metadata": {},
   "source": [
    "## 5.5 Feature Scalling"
   ]
  },
  {
   "cell_type": "markdown",
   "metadata": {},
   "source": [
    "Sebelum melakukan scalling pada kolom numerikal kita akan mengecek dahulu apakah data termasuk skew / normal"
   ]
  },
  {
   "cell_type": "code",
   "execution_count": 115,
   "metadata": {},
   "outputs": [
    {
     "name": "stdout",
     "output_type": "stream",
     "text": [
      "-0.11346207232249321\n"
     ]
    }
   ],
   "source": [
    "skew = df['JoiningYear'].skew()\n",
    "print (skew)"
   ]
  },
  {
   "cell_type": "markdown",
   "metadata": {},
   "source": [
    "Dari perhitungan di atas diketahui bahwa data pada kolom JoiningYear adalah data normal karena nilai skew berada diantara -0.5 sampai 0.5"
   ]
  },
  {
   "cell_type": "markdown",
   "metadata": {},
   "source": [
    "Karena data normal maka kita akan menggunakan metode standart scaler"
   ]
  },
  {
   "cell_type": "code",
   "execution_count": 116,
   "metadata": {},
   "outputs": [
    {
     "data": {
      "text/html": [
       "<style>#sk-container-id-17 {color: black;}#sk-container-id-17 pre{padding: 0;}#sk-container-id-17 div.sk-toggleable {background-color: white;}#sk-container-id-17 label.sk-toggleable__label {cursor: pointer;display: block;width: 100%;margin-bottom: 0;padding: 0.3em;box-sizing: border-box;text-align: center;}#sk-container-id-17 label.sk-toggleable__label-arrow:before {content: \"▸\";float: left;margin-right: 0.25em;color: #696969;}#sk-container-id-17 label.sk-toggleable__label-arrow:hover:before {color: black;}#sk-container-id-17 div.sk-estimator:hover label.sk-toggleable__label-arrow:before {color: black;}#sk-container-id-17 div.sk-toggleable__content {max-height: 0;max-width: 0;overflow: hidden;text-align: left;background-color: #f0f8ff;}#sk-container-id-17 div.sk-toggleable__content pre {margin: 0.2em;color: black;border-radius: 0.25em;background-color: #f0f8ff;}#sk-container-id-17 input.sk-toggleable__control:checked~div.sk-toggleable__content {max-height: 200px;max-width: 100%;overflow: auto;}#sk-container-id-17 input.sk-toggleable__control:checked~label.sk-toggleable__label-arrow:before {content: \"▾\";}#sk-container-id-17 div.sk-estimator input.sk-toggleable__control:checked~label.sk-toggleable__label {background-color: #d4ebff;}#sk-container-id-17 div.sk-label input.sk-toggleable__control:checked~label.sk-toggleable__label {background-color: #d4ebff;}#sk-container-id-17 input.sk-hidden--visually {border: 0;clip: rect(1px 1px 1px 1px);clip: rect(1px, 1px, 1px, 1px);height: 1px;margin: -1px;overflow: hidden;padding: 0;position: absolute;width: 1px;}#sk-container-id-17 div.sk-estimator {font-family: monospace;background-color: #f0f8ff;border: 1px dotted black;border-radius: 0.25em;box-sizing: border-box;margin-bottom: 0.5em;}#sk-container-id-17 div.sk-estimator:hover {background-color: #d4ebff;}#sk-container-id-17 div.sk-parallel-item::after {content: \"\";width: 100%;border-bottom: 1px solid gray;flex-grow: 1;}#sk-container-id-17 div.sk-label:hover label.sk-toggleable__label {background-color: #d4ebff;}#sk-container-id-17 div.sk-serial::before {content: \"\";position: absolute;border-left: 1px solid gray;box-sizing: border-box;top: 0;bottom: 0;left: 50%;z-index: 0;}#sk-container-id-17 div.sk-serial {display: flex;flex-direction: column;align-items: center;background-color: white;padding-right: 0.2em;padding-left: 0.2em;position: relative;}#sk-container-id-17 div.sk-item {position: relative;z-index: 1;}#sk-container-id-17 div.sk-parallel {display: flex;align-items: stretch;justify-content: center;background-color: white;position: relative;}#sk-container-id-17 div.sk-item::before, #sk-container-id-17 div.sk-parallel-item::before {content: \"\";position: absolute;border-left: 1px solid gray;box-sizing: border-box;top: 0;bottom: 0;left: 50%;z-index: -1;}#sk-container-id-17 div.sk-parallel-item {display: flex;flex-direction: column;z-index: 1;position: relative;background-color: white;}#sk-container-id-17 div.sk-parallel-item:first-child::after {align-self: flex-end;width: 50%;}#sk-container-id-17 div.sk-parallel-item:last-child::after {align-self: flex-start;width: 50%;}#sk-container-id-17 div.sk-parallel-item:only-child::after {width: 0;}#sk-container-id-17 div.sk-dashed-wrapped {border: 1px dashed gray;margin: 0 0.4em 0.5em 0.4em;box-sizing: border-box;padding-bottom: 0.4em;background-color: white;}#sk-container-id-17 div.sk-label label {font-family: monospace;font-weight: bold;display: inline-block;line-height: 1.2em;}#sk-container-id-17 div.sk-label-container {text-align: center;}#sk-container-id-17 div.sk-container {/* jupyter's `normalize.less` sets `[hidden] { display: none; }` but bootstrap.min.css set `[hidden] { display: none !important; }` so we also need the `!important` here to be able to override the default hidden behavior on the sphinx rendered scikit-learn.org. See: https://github.com/scikit-learn/scikit-learn/issues/21755 */display: inline-block !important;position: relative;}#sk-container-id-17 div.sk-text-repr-fallback {display: none;}</style><div id=\"sk-container-id-17\" class=\"sk-top-container\"><div class=\"sk-text-repr-fallback\"><pre>StandardScaler()</pre><b>In a Jupyter environment, please rerun this cell to show the HTML representation or trust the notebook. <br />On GitHub, the HTML representation is unable to render, please try loading this page with nbviewer.org.</b></div><div class=\"sk-container\" hidden><div class=\"sk-item\"><div class=\"sk-estimator sk-toggleable\"><input class=\"sk-toggleable__control sk-hidden--visually\" id=\"sk-estimator-id-73\" type=\"checkbox\" checked><label for=\"sk-estimator-id-73\" class=\"sk-toggleable__label sk-toggleable__label-arrow\">StandardScaler</label><div class=\"sk-toggleable__content\"><pre>StandardScaler()</pre></div></div></div></div></div>"
      ],
      "text/plain": [
       "StandardScaler()"
      ]
     },
     "execution_count": 116,
     "metadata": {},
     "output_type": "execute_result"
    }
   ],
   "source": [
    "scaler = StandardScaler()\n",
    "scaler.fit(X_train_num)"
   ]
  },
  {
   "cell_type": "code",
   "execution_count": 117,
   "metadata": {},
   "outputs": [],
   "source": [
    "X_train_num_scaled = scaler.transform(X_train_num) # Scalling train\n",
    "X_test_num_scaled = scaler.transform(X_test_num) # Scalling test"
   ]
  },
  {
   "cell_type": "markdown",
   "metadata": {},
   "source": [
    "## 5.6 Feature Encoding"
   ]
  },
  {
   "cell_type": "markdown",
   "metadata": {},
   "source": [
    "### 5.6.1 Feature Encoding Nominal"
   ]
  },
  {
   "cell_type": "code",
   "execution_count": 118,
   "metadata": {},
   "outputs": [
    {
     "data": {
      "text/html": [
       "<div>\n",
       "<style scoped>\n",
       "    .dataframe tbody tr th:only-of-type {\n",
       "        vertical-align: middle;\n",
       "    }\n",
       "\n",
       "    .dataframe tbody tr th {\n",
       "        vertical-align: top;\n",
       "    }\n",
       "\n",
       "    .dataframe thead th {\n",
       "        text-align: right;\n",
       "    }\n",
       "</style>\n",
       "<table border=\"1\" class=\"dataframe\">\n",
       "  <thead>\n",
       "    <tr style=\"text-align: right;\">\n",
       "      <th></th>\n",
       "      <th>Age</th>\n",
       "      <th>ExperienceInCurrentDomain</th>\n",
       "      <th>EverBenched</th>\n",
       "    </tr>\n",
       "  </thead>\n",
       "  <tbody>\n",
       "    <tr>\n",
       "      <th>1847</th>\n",
       "      <td>26</td>\n",
       "      <td>4</td>\n",
       "      <td>Yes</td>\n",
       "    </tr>\n",
       "    <tr>\n",
       "      <th>2905</th>\n",
       "      <td>26</td>\n",
       "      <td>4</td>\n",
       "      <td>No</td>\n",
       "    </tr>\n",
       "    <tr>\n",
       "      <th>4610</th>\n",
       "      <td>24</td>\n",
       "      <td>2</td>\n",
       "      <td>No</td>\n",
       "    </tr>\n",
       "    <tr>\n",
       "      <th>2228</th>\n",
       "      <td>28</td>\n",
       "      <td>1</td>\n",
       "      <td>No</td>\n",
       "    </tr>\n",
       "    <tr>\n",
       "      <th>5</th>\n",
       "      <td>22</td>\n",
       "      <td>0</td>\n",
       "      <td>No</td>\n",
       "    </tr>\n",
       "    <tr>\n",
       "      <th>...</th>\n",
       "      <td>...</td>\n",
       "      <td>...</td>\n",
       "      <td>...</td>\n",
       "    </tr>\n",
       "    <tr>\n",
       "      <th>3335</th>\n",
       "      <td>37</td>\n",
       "      <td>0</td>\n",
       "      <td>No</td>\n",
       "    </tr>\n",
       "    <tr>\n",
       "      <th>1099</th>\n",
       "      <td>27</td>\n",
       "      <td>5</td>\n",
       "      <td>No</td>\n",
       "    </tr>\n",
       "    <tr>\n",
       "      <th>2514</th>\n",
       "      <td>29</td>\n",
       "      <td>5</td>\n",
       "      <td>No</td>\n",
       "    </tr>\n",
       "    <tr>\n",
       "      <th>3606</th>\n",
       "      <td>34</td>\n",
       "      <td>3</td>\n",
       "      <td>No</td>\n",
       "    </tr>\n",
       "    <tr>\n",
       "      <th>2575</th>\n",
       "      <td>29</td>\n",
       "      <td>2</td>\n",
       "      <td>No</td>\n",
       "    </tr>\n",
       "  </tbody>\n",
       "</table>\n",
       "<p>3722 rows × 3 columns</p>\n",
       "</div>"
      ],
      "text/plain": [
       "      Age  ExperienceInCurrentDomain EverBenched\n",
       "1847   26                          4         Yes\n",
       "2905   26                          4          No\n",
       "4610   24                          2          No\n",
       "2228   28                          1          No\n",
       "5      22                          0          No\n",
       "...   ...                        ...         ...\n",
       "3335   37                          0          No\n",
       "1099   27                          5          No\n",
       "2514   29                          5          No\n",
       "3606   34                          3          No\n",
       "2575   29                          2          No\n",
       "\n",
       "[3722 rows x 3 columns]"
      ]
     },
     "execution_count": 118,
     "metadata": {},
     "output_type": "execute_result"
    }
   ],
   "source": [
    "X_train_cat_n"
   ]
  },
  {
   "cell_type": "code",
   "execution_count": 119,
   "metadata": {},
   "outputs": [],
   "source": [
    "encodern = OneHotEncoder()\n",
    "\n",
    "encodern.fit(X_train_cat_n)\n",
    "\n",
    "X_train_catn_encoded = encodern.transform(X_train_cat_n).toarray() # Encoding Nominal Train\n",
    "X_test_catn_encoded = encodern.transform(X_test_cat_n).toarray() # Encoding Nominal Test"
   ]
  },
  {
   "cell_type": "markdown",
   "metadata": {},
   "source": [
    "### 5.6.2 Feature Encoding Ordinal"
   ]
  },
  {
   "cell_type": "code",
   "execution_count": 120,
   "metadata": {},
   "outputs": [
    {
     "data": {
      "text/plain": [
       "array([1, 3, 2], dtype=int64)"
      ]
     },
     "execution_count": 120,
     "metadata": {},
     "output_type": "execute_result"
    }
   ],
   "source": [
    "X_train_cat_o['Education'].unique()"
   ]
  },
  {
   "cell_type": "code",
   "execution_count": 121,
   "metadata": {},
   "outputs": [],
   "source": [
    "encoder = OrdinalEncoder(categories=[[1,2,3], [1,2,3]])"
   ]
  },
  {
   "cell_type": "code",
   "execution_count": 122,
   "metadata": {},
   "outputs": [
    {
     "data": {
      "text/html": [
       "<style>#sk-container-id-18 {color: black;}#sk-container-id-18 pre{padding: 0;}#sk-container-id-18 div.sk-toggleable {background-color: white;}#sk-container-id-18 label.sk-toggleable__label {cursor: pointer;display: block;width: 100%;margin-bottom: 0;padding: 0.3em;box-sizing: border-box;text-align: center;}#sk-container-id-18 label.sk-toggleable__label-arrow:before {content: \"▸\";float: left;margin-right: 0.25em;color: #696969;}#sk-container-id-18 label.sk-toggleable__label-arrow:hover:before {color: black;}#sk-container-id-18 div.sk-estimator:hover label.sk-toggleable__label-arrow:before {color: black;}#sk-container-id-18 div.sk-toggleable__content {max-height: 0;max-width: 0;overflow: hidden;text-align: left;background-color: #f0f8ff;}#sk-container-id-18 div.sk-toggleable__content pre {margin: 0.2em;color: black;border-radius: 0.25em;background-color: #f0f8ff;}#sk-container-id-18 input.sk-toggleable__control:checked~div.sk-toggleable__content {max-height: 200px;max-width: 100%;overflow: auto;}#sk-container-id-18 input.sk-toggleable__control:checked~label.sk-toggleable__label-arrow:before {content: \"▾\";}#sk-container-id-18 div.sk-estimator input.sk-toggleable__control:checked~label.sk-toggleable__label {background-color: #d4ebff;}#sk-container-id-18 div.sk-label input.sk-toggleable__control:checked~label.sk-toggleable__label {background-color: #d4ebff;}#sk-container-id-18 input.sk-hidden--visually {border: 0;clip: rect(1px 1px 1px 1px);clip: rect(1px, 1px, 1px, 1px);height: 1px;margin: -1px;overflow: hidden;padding: 0;position: absolute;width: 1px;}#sk-container-id-18 div.sk-estimator {font-family: monospace;background-color: #f0f8ff;border: 1px dotted black;border-radius: 0.25em;box-sizing: border-box;margin-bottom: 0.5em;}#sk-container-id-18 div.sk-estimator:hover {background-color: #d4ebff;}#sk-container-id-18 div.sk-parallel-item::after {content: \"\";width: 100%;border-bottom: 1px solid gray;flex-grow: 1;}#sk-container-id-18 div.sk-label:hover label.sk-toggleable__label {background-color: #d4ebff;}#sk-container-id-18 div.sk-serial::before {content: \"\";position: absolute;border-left: 1px solid gray;box-sizing: border-box;top: 0;bottom: 0;left: 50%;z-index: 0;}#sk-container-id-18 div.sk-serial {display: flex;flex-direction: column;align-items: center;background-color: white;padding-right: 0.2em;padding-left: 0.2em;position: relative;}#sk-container-id-18 div.sk-item {position: relative;z-index: 1;}#sk-container-id-18 div.sk-parallel {display: flex;align-items: stretch;justify-content: center;background-color: white;position: relative;}#sk-container-id-18 div.sk-item::before, #sk-container-id-18 div.sk-parallel-item::before {content: \"\";position: absolute;border-left: 1px solid gray;box-sizing: border-box;top: 0;bottom: 0;left: 50%;z-index: -1;}#sk-container-id-18 div.sk-parallel-item {display: flex;flex-direction: column;z-index: 1;position: relative;background-color: white;}#sk-container-id-18 div.sk-parallel-item:first-child::after {align-self: flex-end;width: 50%;}#sk-container-id-18 div.sk-parallel-item:last-child::after {align-self: flex-start;width: 50%;}#sk-container-id-18 div.sk-parallel-item:only-child::after {width: 0;}#sk-container-id-18 div.sk-dashed-wrapped {border: 1px dashed gray;margin: 0 0.4em 0.5em 0.4em;box-sizing: border-box;padding-bottom: 0.4em;background-color: white;}#sk-container-id-18 div.sk-label label {font-family: monospace;font-weight: bold;display: inline-block;line-height: 1.2em;}#sk-container-id-18 div.sk-label-container {text-align: center;}#sk-container-id-18 div.sk-container {/* jupyter's `normalize.less` sets `[hidden] { display: none; }` but bootstrap.min.css set `[hidden] { display: none !important; }` so we also need the `!important` here to be able to override the default hidden behavior on the sphinx rendered scikit-learn.org. See: https://github.com/scikit-learn/scikit-learn/issues/21755 */display: inline-block !important;position: relative;}#sk-container-id-18 div.sk-text-repr-fallback {display: none;}</style><div id=\"sk-container-id-18\" class=\"sk-top-container\"><div class=\"sk-text-repr-fallback\"><pre>OrdinalEncoder(categories=[[1, 2, 3], [1, 2, 3]])</pre><b>In a Jupyter environment, please rerun this cell to show the HTML representation or trust the notebook. <br />On GitHub, the HTML representation is unable to render, please try loading this page with nbviewer.org.</b></div><div class=\"sk-container\" hidden><div class=\"sk-item\"><div class=\"sk-estimator sk-toggleable\"><input class=\"sk-toggleable__control sk-hidden--visually\" id=\"sk-estimator-id-74\" type=\"checkbox\" checked><label for=\"sk-estimator-id-74\" class=\"sk-toggleable__label sk-toggleable__label-arrow\">OrdinalEncoder</label><div class=\"sk-toggleable__content\"><pre>OrdinalEncoder(categories=[[1, 2, 3], [1, 2, 3]])</pre></div></div></div></div></div>"
      ],
      "text/plain": [
       "OrdinalEncoder(categories=[[1, 2, 3], [1, 2, 3]])"
      ]
     },
     "execution_count": 122,
     "metadata": {},
     "output_type": "execute_result"
    }
   ],
   "source": [
    "encoder.fit(X_train_cat_o)"
   ]
  },
  {
   "cell_type": "code",
   "execution_count": 123,
   "metadata": {},
   "outputs": [],
   "source": [
    "X_train_cat_encoded_o = encoder.transform(X_train_cat_o)\n",
    "X_test_cat_encoded_o = encoder.transform(X_test_cat_o)"
   ]
  },
  {
   "cell_type": "markdown",
   "metadata": {},
   "source": [
    "## 5.7 Merge / Concat Data"
   ]
  },
  {
   "cell_type": "code",
   "execution_count": 124,
   "metadata": {},
   "outputs": [],
   "source": [
    "X_train_final = np.concatenate([X_train_num_scaled, X_train_cat_encoded_o, X_train_catn_encoded], axis=1)\n",
    "X_test_final = np.concatenate([X_test_num_scaled, X_test_cat_encoded_o, X_test_catn_encoded], axis=1)"
   ]
  },
  {
   "cell_type": "markdown",
   "metadata": {},
   "source": [
    "## 5.8 Pipeline"
   ]
  },
  {
   "cell_type": "code",
   "execution_count": 125,
   "metadata": {},
   "outputs": [],
   "source": [
    "numeric_transformer = Pipeline([\n",
    "    ('scaler', StandardScaler())\n",
    "])\n",
    "\n",
    "categorical_transformer_1 = Pipeline([\n",
    "    ('encodern', OneHotEncoder())\n",
    "])\n",
    "\n",
    "categorical_transformer_2 = Pipeline([\n",
    "    ('encoder', OrdinalEncoder(categories=[[1,2,3], [1,2,3]]))\n",
    "])\n",
    "# define preprocessing pipeline using ColumnTransformer\n",
    "preprocessor = ColumnTransformer(transformers=[\n",
    "    ('num', numeric_transformer, num_col),\n",
    "    ('cat', categorical_transformer_1, cat_col_n),\n",
    "    ('cato', categorical_transformer_2, cat_col_o)\n",
    "])\n",
    "\n"
   ]
  },
  {
   "cell_type": "markdown",
   "metadata": {},
   "source": [
    "# 6. Model Definition"
   ]
  },
  {
   "cell_type": "markdown",
   "metadata": {},
   "source": [
    "Dalam penelitian ini kita akan menggunakan 5 model yaitu:"
   ]
  },
  {
   "cell_type": "markdown",
   "metadata": {},
   "source": [
    "## 6.1 Logistic Regression"
   ]
  },
  {
   "cell_type": "code",
   "execution_count": 126,
   "metadata": {},
   "outputs": [],
   "source": [
    "log_model = LogisticRegression() "
   ]
  },
  {
   "cell_type": "code",
   "execution_count": 127,
   "metadata": {},
   "outputs": [],
   "source": [
    "# Define the pipeline with preprocessing and classification steps\n",
    "pipeline_log = Pipeline([\n",
    "    ('preprocessor', preprocessor),\n",
    "    ('classifier', LogisticRegression())\n",
    "])"
   ]
  },
  {
   "cell_type": "markdown",
   "metadata": {},
   "source": [
    "## 6.2 SVM"
   ]
  },
  {
   "cell_type": "code",
   "execution_count": 128,
   "metadata": {},
   "outputs": [],
   "source": [
    "svc = SVC()"
   ]
  },
  {
   "cell_type": "code",
   "execution_count": 129,
   "metadata": {},
   "outputs": [],
   "source": [
    "# Define the pipeline with preprocessing and classification steps\n",
    "pipeline_svm = Pipeline([\n",
    "    ('preprocessor', preprocessor),\n",
    "    ('classifier', SVC())\n",
    "])"
   ]
  },
  {
   "cell_type": "markdown",
   "metadata": {},
   "source": [
    "## 6.3 Decision Tree"
   ]
  },
  {
   "cell_type": "code",
   "execution_count": 130,
   "metadata": {},
   "outputs": [],
   "source": [
    "dtr = DecisionTreeClassifier()"
   ]
  },
  {
   "cell_type": "code",
   "execution_count": 131,
   "metadata": {},
   "outputs": [],
   "source": [
    "# Define the pipeline with preprocessing and classification steps\n",
    "pipeline_dtr = Pipeline([\n",
    "    ('preprocessor', preprocessor),\n",
    "    ('classifier', DecisionTreeClassifier())\n",
    "])"
   ]
  },
  {
   "cell_type": "markdown",
   "metadata": {},
   "source": [
    "## 6.4 Random Forest"
   ]
  },
  {
   "cell_type": "code",
   "execution_count": 132,
   "metadata": {},
   "outputs": [],
   "source": [
    "rf = RandomForestClassifier()"
   ]
  },
  {
   "cell_type": "code",
   "execution_count": 133,
   "metadata": {},
   "outputs": [],
   "source": [
    "# Define the pipeline with preprocessing and classification steps\n",
    "pipeline_rf = Pipeline([\n",
    "    ('preprocessor', preprocessor),\n",
    "    ('classifier', RandomForestClassifier())\n",
    "])"
   ]
  },
  {
   "cell_type": "markdown",
   "metadata": {},
   "source": [
    "## 6.5 KNN"
   ]
  },
  {
   "cell_type": "markdown",
   "metadata": {},
   "source": [
    "### 6.5.1 KNN Euclidean"
   ]
  },
  {
   "cell_type": "code",
   "execution_count": 134,
   "metadata": {},
   "outputs": [],
   "source": [
    "cls_knn_euclidean = KNeighborsClassifier()"
   ]
  },
  {
   "cell_type": "code",
   "execution_count": 135,
   "metadata": {},
   "outputs": [],
   "source": [
    "# Define the pipeline with preprocessing and classification steps\n",
    "pipeline_cls = Pipeline([\n",
    "    ('preprocessor', preprocessor),\n",
    "    ('classifier', KNeighborsClassifier())\n",
    "])"
   ]
  },
  {
   "cell_type": "markdown",
   "metadata": {},
   "source": [
    "### 6.5.2 KNN Manhattan"
   ]
  },
  {
   "cell_type": "code",
   "execution_count": 136,
   "metadata": {},
   "outputs": [],
   "source": [
    "cls_knn_manhattan = KNeighborsClassifier()"
   ]
  },
  {
   "cell_type": "code",
   "execution_count": 137,
   "metadata": {},
   "outputs": [],
   "source": [
    "# Define the pipeline with preprocessing and classification steps\n",
    "pipeline_cls1 = Pipeline([\n",
    "    ('preprocessor', preprocessor),\n",
    "    ('classifier', KNeighborsClassifier())\n",
    "])"
   ]
  },
  {
   "cell_type": "markdown",
   "metadata": {},
   "source": [
    "## 6.6 Boosting"
   ]
  },
  {
   "cell_type": "code",
   "execution_count": 138,
   "metadata": {},
   "outputs": [],
   "source": [
    "ada_clf = AdaBoostClassifier()"
   ]
  },
  {
   "cell_type": "code",
   "execution_count": 139,
   "metadata": {},
   "outputs": [],
   "source": [
    "# Define the pipeline with preprocessing and classification steps\n",
    "pipeline_ada = Pipeline([\n",
    "    ('preprocessor', preprocessor),\n",
    "    ('classifier', AdaBoostClassifier())\n",
    "])"
   ]
  },
  {
   "cell_type": "markdown",
   "metadata": {},
   "source": [
    "# 7. Model Training"
   ]
  },
  {
   "cell_type": "markdown",
   "metadata": {},
   "source": [
    "## 7.1 Logistic Regression"
   ]
  },
  {
   "cell_type": "code",
   "execution_count": 140,
   "metadata": {},
   "outputs": [
    {
     "data": {
      "text/html": [
       "<style>#sk-container-id-19 {color: black;}#sk-container-id-19 pre{padding: 0;}#sk-container-id-19 div.sk-toggleable {background-color: white;}#sk-container-id-19 label.sk-toggleable__label {cursor: pointer;display: block;width: 100%;margin-bottom: 0;padding: 0.3em;box-sizing: border-box;text-align: center;}#sk-container-id-19 label.sk-toggleable__label-arrow:before {content: \"▸\";float: left;margin-right: 0.25em;color: #696969;}#sk-container-id-19 label.sk-toggleable__label-arrow:hover:before {color: black;}#sk-container-id-19 div.sk-estimator:hover label.sk-toggleable__label-arrow:before {color: black;}#sk-container-id-19 div.sk-toggleable__content {max-height: 0;max-width: 0;overflow: hidden;text-align: left;background-color: #f0f8ff;}#sk-container-id-19 div.sk-toggleable__content pre {margin: 0.2em;color: black;border-radius: 0.25em;background-color: #f0f8ff;}#sk-container-id-19 input.sk-toggleable__control:checked~div.sk-toggleable__content {max-height: 200px;max-width: 100%;overflow: auto;}#sk-container-id-19 input.sk-toggleable__control:checked~label.sk-toggleable__label-arrow:before {content: \"▾\";}#sk-container-id-19 div.sk-estimator input.sk-toggleable__control:checked~label.sk-toggleable__label {background-color: #d4ebff;}#sk-container-id-19 div.sk-label input.sk-toggleable__control:checked~label.sk-toggleable__label {background-color: #d4ebff;}#sk-container-id-19 input.sk-hidden--visually {border: 0;clip: rect(1px 1px 1px 1px);clip: rect(1px, 1px, 1px, 1px);height: 1px;margin: -1px;overflow: hidden;padding: 0;position: absolute;width: 1px;}#sk-container-id-19 div.sk-estimator {font-family: monospace;background-color: #f0f8ff;border: 1px dotted black;border-radius: 0.25em;box-sizing: border-box;margin-bottom: 0.5em;}#sk-container-id-19 div.sk-estimator:hover {background-color: #d4ebff;}#sk-container-id-19 div.sk-parallel-item::after {content: \"\";width: 100%;border-bottom: 1px solid gray;flex-grow: 1;}#sk-container-id-19 div.sk-label:hover label.sk-toggleable__label {background-color: #d4ebff;}#sk-container-id-19 div.sk-serial::before {content: \"\";position: absolute;border-left: 1px solid gray;box-sizing: border-box;top: 0;bottom: 0;left: 50%;z-index: 0;}#sk-container-id-19 div.sk-serial {display: flex;flex-direction: column;align-items: center;background-color: white;padding-right: 0.2em;padding-left: 0.2em;position: relative;}#sk-container-id-19 div.sk-item {position: relative;z-index: 1;}#sk-container-id-19 div.sk-parallel {display: flex;align-items: stretch;justify-content: center;background-color: white;position: relative;}#sk-container-id-19 div.sk-item::before, #sk-container-id-19 div.sk-parallel-item::before {content: \"\";position: absolute;border-left: 1px solid gray;box-sizing: border-box;top: 0;bottom: 0;left: 50%;z-index: -1;}#sk-container-id-19 div.sk-parallel-item {display: flex;flex-direction: column;z-index: 1;position: relative;background-color: white;}#sk-container-id-19 div.sk-parallel-item:first-child::after {align-self: flex-end;width: 50%;}#sk-container-id-19 div.sk-parallel-item:last-child::after {align-self: flex-start;width: 50%;}#sk-container-id-19 div.sk-parallel-item:only-child::after {width: 0;}#sk-container-id-19 div.sk-dashed-wrapped {border: 1px dashed gray;margin: 0 0.4em 0.5em 0.4em;box-sizing: border-box;padding-bottom: 0.4em;background-color: white;}#sk-container-id-19 div.sk-label label {font-family: monospace;font-weight: bold;display: inline-block;line-height: 1.2em;}#sk-container-id-19 div.sk-label-container {text-align: center;}#sk-container-id-19 div.sk-container {/* jupyter's `normalize.less` sets `[hidden] { display: none; }` but bootstrap.min.css set `[hidden] { display: none !important; }` so we also need the `!important` here to be able to override the default hidden behavior on the sphinx rendered scikit-learn.org. See: https://github.com/scikit-learn/scikit-learn/issues/21755 */display: inline-block !important;position: relative;}#sk-container-id-19 div.sk-text-repr-fallback {display: none;}</style><div id=\"sk-container-id-19\" class=\"sk-top-container\"><div class=\"sk-text-repr-fallback\"><pre>LogisticRegression()</pre><b>In a Jupyter environment, please rerun this cell to show the HTML representation or trust the notebook. <br />On GitHub, the HTML representation is unable to render, please try loading this page with nbviewer.org.</b></div><div class=\"sk-container\" hidden><div class=\"sk-item\"><div class=\"sk-estimator sk-toggleable\"><input class=\"sk-toggleable__control sk-hidden--visually\" id=\"sk-estimator-id-75\" type=\"checkbox\" checked><label for=\"sk-estimator-id-75\" class=\"sk-toggleable__label sk-toggleable__label-arrow\">LogisticRegression</label><div class=\"sk-toggleable__content\"><pre>LogisticRegression()</pre></div></div></div></div></div>"
      ],
      "text/plain": [
       "LogisticRegression()"
      ]
     },
     "execution_count": 140,
     "metadata": {},
     "output_type": "execute_result"
    }
   ],
   "source": [
    "log_model.fit(X_train_final, y_train)"
   ]
  },
  {
   "cell_type": "code",
   "execution_count": 141,
   "metadata": {},
   "outputs": [
    {
     "data": {
      "text/html": [
       "<style>#sk-container-id-20 {color: black;}#sk-container-id-20 pre{padding: 0;}#sk-container-id-20 div.sk-toggleable {background-color: white;}#sk-container-id-20 label.sk-toggleable__label {cursor: pointer;display: block;width: 100%;margin-bottom: 0;padding: 0.3em;box-sizing: border-box;text-align: center;}#sk-container-id-20 label.sk-toggleable__label-arrow:before {content: \"▸\";float: left;margin-right: 0.25em;color: #696969;}#sk-container-id-20 label.sk-toggleable__label-arrow:hover:before {color: black;}#sk-container-id-20 div.sk-estimator:hover label.sk-toggleable__label-arrow:before {color: black;}#sk-container-id-20 div.sk-toggleable__content {max-height: 0;max-width: 0;overflow: hidden;text-align: left;background-color: #f0f8ff;}#sk-container-id-20 div.sk-toggleable__content pre {margin: 0.2em;color: black;border-radius: 0.25em;background-color: #f0f8ff;}#sk-container-id-20 input.sk-toggleable__control:checked~div.sk-toggleable__content {max-height: 200px;max-width: 100%;overflow: auto;}#sk-container-id-20 input.sk-toggleable__control:checked~label.sk-toggleable__label-arrow:before {content: \"▾\";}#sk-container-id-20 div.sk-estimator input.sk-toggleable__control:checked~label.sk-toggleable__label {background-color: #d4ebff;}#sk-container-id-20 div.sk-label input.sk-toggleable__control:checked~label.sk-toggleable__label {background-color: #d4ebff;}#sk-container-id-20 input.sk-hidden--visually {border: 0;clip: rect(1px 1px 1px 1px);clip: rect(1px, 1px, 1px, 1px);height: 1px;margin: -1px;overflow: hidden;padding: 0;position: absolute;width: 1px;}#sk-container-id-20 div.sk-estimator {font-family: monospace;background-color: #f0f8ff;border: 1px dotted black;border-radius: 0.25em;box-sizing: border-box;margin-bottom: 0.5em;}#sk-container-id-20 div.sk-estimator:hover {background-color: #d4ebff;}#sk-container-id-20 div.sk-parallel-item::after {content: \"\";width: 100%;border-bottom: 1px solid gray;flex-grow: 1;}#sk-container-id-20 div.sk-label:hover label.sk-toggleable__label {background-color: #d4ebff;}#sk-container-id-20 div.sk-serial::before {content: \"\";position: absolute;border-left: 1px solid gray;box-sizing: border-box;top: 0;bottom: 0;left: 50%;z-index: 0;}#sk-container-id-20 div.sk-serial {display: flex;flex-direction: column;align-items: center;background-color: white;padding-right: 0.2em;padding-left: 0.2em;position: relative;}#sk-container-id-20 div.sk-item {position: relative;z-index: 1;}#sk-container-id-20 div.sk-parallel {display: flex;align-items: stretch;justify-content: center;background-color: white;position: relative;}#sk-container-id-20 div.sk-item::before, #sk-container-id-20 div.sk-parallel-item::before {content: \"\";position: absolute;border-left: 1px solid gray;box-sizing: border-box;top: 0;bottom: 0;left: 50%;z-index: -1;}#sk-container-id-20 div.sk-parallel-item {display: flex;flex-direction: column;z-index: 1;position: relative;background-color: white;}#sk-container-id-20 div.sk-parallel-item:first-child::after {align-self: flex-end;width: 50%;}#sk-container-id-20 div.sk-parallel-item:last-child::after {align-self: flex-start;width: 50%;}#sk-container-id-20 div.sk-parallel-item:only-child::after {width: 0;}#sk-container-id-20 div.sk-dashed-wrapped {border: 1px dashed gray;margin: 0 0.4em 0.5em 0.4em;box-sizing: border-box;padding-bottom: 0.4em;background-color: white;}#sk-container-id-20 div.sk-label label {font-family: monospace;font-weight: bold;display: inline-block;line-height: 1.2em;}#sk-container-id-20 div.sk-label-container {text-align: center;}#sk-container-id-20 div.sk-container {/* jupyter's `normalize.less` sets `[hidden] { display: none; }` but bootstrap.min.css set `[hidden] { display: none !important; }` so we also need the `!important` here to be able to override the default hidden behavior on the sphinx rendered scikit-learn.org. See: https://github.com/scikit-learn/scikit-learn/issues/21755 */display: inline-block !important;position: relative;}#sk-container-id-20 div.sk-text-repr-fallback {display: none;}</style><div id=\"sk-container-id-20\" class=\"sk-top-container\"><div class=\"sk-text-repr-fallback\"><pre>Pipeline(steps=[(&#x27;preprocessor&#x27;,\n",
       "                 ColumnTransformer(transformers=[(&#x27;num&#x27;,\n",
       "                                                  Pipeline(steps=[(&#x27;scaler&#x27;,\n",
       "                                                                   StandardScaler())]),\n",
       "                                                  [&#x27;JoiningYear&#x27;]),\n",
       "                                                 (&#x27;cat&#x27;,\n",
       "                                                  Pipeline(steps=[(&#x27;encodern&#x27;,\n",
       "                                                                   OneHotEncoder())]),\n",
       "                                                  [&#x27;Age&#x27;,\n",
       "                                                   &#x27;ExperienceInCurrentDomain&#x27;,\n",
       "                                                   &#x27;EverBenched&#x27;]),\n",
       "                                                 (&#x27;cato&#x27;,\n",
       "                                                  Pipeline(steps=[(&#x27;encoder&#x27;,\n",
       "                                                                   OrdinalEncoder(categories=[[1,\n",
       "                                                                                               2,\n",
       "                                                                                               3],\n",
       "                                                                                              [1,\n",
       "                                                                                               2,\n",
       "                                                                                               3]]))]),\n",
       "                                                  [&#x27;Education&#x27;,\n",
       "                                                   &#x27;PaymentTier&#x27;])])),\n",
       "                (&#x27;classifier&#x27;, LogisticRegression())])</pre><b>In a Jupyter environment, please rerun this cell to show the HTML representation or trust the notebook. <br />On GitHub, the HTML representation is unable to render, please try loading this page with nbviewer.org.</b></div><div class=\"sk-container\" hidden><div class=\"sk-item sk-dashed-wrapped\"><div class=\"sk-label-container\"><div class=\"sk-label sk-toggleable\"><input class=\"sk-toggleable__control sk-hidden--visually\" id=\"sk-estimator-id-76\" type=\"checkbox\" ><label for=\"sk-estimator-id-76\" class=\"sk-toggleable__label sk-toggleable__label-arrow\">Pipeline</label><div class=\"sk-toggleable__content\"><pre>Pipeline(steps=[(&#x27;preprocessor&#x27;,\n",
       "                 ColumnTransformer(transformers=[(&#x27;num&#x27;,\n",
       "                                                  Pipeline(steps=[(&#x27;scaler&#x27;,\n",
       "                                                                   StandardScaler())]),\n",
       "                                                  [&#x27;JoiningYear&#x27;]),\n",
       "                                                 (&#x27;cat&#x27;,\n",
       "                                                  Pipeline(steps=[(&#x27;encodern&#x27;,\n",
       "                                                                   OneHotEncoder())]),\n",
       "                                                  [&#x27;Age&#x27;,\n",
       "                                                   &#x27;ExperienceInCurrentDomain&#x27;,\n",
       "                                                   &#x27;EverBenched&#x27;]),\n",
       "                                                 (&#x27;cato&#x27;,\n",
       "                                                  Pipeline(steps=[(&#x27;encoder&#x27;,\n",
       "                                                                   OrdinalEncoder(categories=[[1,\n",
       "                                                                                               2,\n",
       "                                                                                               3],\n",
       "                                                                                              [1,\n",
       "                                                                                               2,\n",
       "                                                                                               3]]))]),\n",
       "                                                  [&#x27;Education&#x27;,\n",
       "                                                   &#x27;PaymentTier&#x27;])])),\n",
       "                (&#x27;classifier&#x27;, LogisticRegression())])</pre></div></div></div><div class=\"sk-serial\"><div class=\"sk-item sk-dashed-wrapped\"><div class=\"sk-label-container\"><div class=\"sk-label sk-toggleable\"><input class=\"sk-toggleable__control sk-hidden--visually\" id=\"sk-estimator-id-77\" type=\"checkbox\" ><label for=\"sk-estimator-id-77\" class=\"sk-toggleable__label sk-toggleable__label-arrow\">preprocessor: ColumnTransformer</label><div class=\"sk-toggleable__content\"><pre>ColumnTransformer(transformers=[(&#x27;num&#x27;,\n",
       "                                 Pipeline(steps=[(&#x27;scaler&#x27;, StandardScaler())]),\n",
       "                                 [&#x27;JoiningYear&#x27;]),\n",
       "                                (&#x27;cat&#x27;,\n",
       "                                 Pipeline(steps=[(&#x27;encodern&#x27;,\n",
       "                                                  OneHotEncoder())]),\n",
       "                                 [&#x27;Age&#x27;, &#x27;ExperienceInCurrentDomain&#x27;,\n",
       "                                  &#x27;EverBenched&#x27;]),\n",
       "                                (&#x27;cato&#x27;,\n",
       "                                 Pipeline(steps=[(&#x27;encoder&#x27;,\n",
       "                                                  OrdinalEncoder(categories=[[1,\n",
       "                                                                              2,\n",
       "                                                                              3],\n",
       "                                                                             [1,\n",
       "                                                                              2,\n",
       "                                                                              3]]))]),\n",
       "                                 [&#x27;Education&#x27;, &#x27;PaymentTier&#x27;])])</pre></div></div></div><div class=\"sk-parallel\"><div class=\"sk-parallel-item\"><div class=\"sk-item\"><div class=\"sk-label-container\"><div class=\"sk-label sk-toggleable\"><input class=\"sk-toggleable__control sk-hidden--visually\" id=\"sk-estimator-id-78\" type=\"checkbox\" ><label for=\"sk-estimator-id-78\" class=\"sk-toggleable__label sk-toggleable__label-arrow\">num</label><div class=\"sk-toggleable__content\"><pre>[&#x27;JoiningYear&#x27;]</pre></div></div></div><div class=\"sk-serial\"><div class=\"sk-item\"><div class=\"sk-serial\"><div class=\"sk-item\"><div class=\"sk-estimator sk-toggleable\"><input class=\"sk-toggleable__control sk-hidden--visually\" id=\"sk-estimator-id-79\" type=\"checkbox\" ><label for=\"sk-estimator-id-79\" class=\"sk-toggleable__label sk-toggleable__label-arrow\">StandardScaler</label><div class=\"sk-toggleable__content\"><pre>StandardScaler()</pre></div></div></div></div></div></div></div></div><div class=\"sk-parallel-item\"><div class=\"sk-item\"><div class=\"sk-label-container\"><div class=\"sk-label sk-toggleable\"><input class=\"sk-toggleable__control sk-hidden--visually\" id=\"sk-estimator-id-80\" type=\"checkbox\" ><label for=\"sk-estimator-id-80\" class=\"sk-toggleable__label sk-toggleable__label-arrow\">cat</label><div class=\"sk-toggleable__content\"><pre>[&#x27;Age&#x27;, &#x27;ExperienceInCurrentDomain&#x27;, &#x27;EverBenched&#x27;]</pre></div></div></div><div class=\"sk-serial\"><div class=\"sk-item\"><div class=\"sk-serial\"><div class=\"sk-item\"><div class=\"sk-estimator sk-toggleable\"><input class=\"sk-toggleable__control sk-hidden--visually\" id=\"sk-estimator-id-81\" type=\"checkbox\" ><label for=\"sk-estimator-id-81\" class=\"sk-toggleable__label sk-toggleable__label-arrow\">OneHotEncoder</label><div class=\"sk-toggleable__content\"><pre>OneHotEncoder()</pre></div></div></div></div></div></div></div></div><div class=\"sk-parallel-item\"><div class=\"sk-item\"><div class=\"sk-label-container\"><div class=\"sk-label sk-toggleable\"><input class=\"sk-toggleable__control sk-hidden--visually\" id=\"sk-estimator-id-82\" type=\"checkbox\" ><label for=\"sk-estimator-id-82\" class=\"sk-toggleable__label sk-toggleable__label-arrow\">cato</label><div class=\"sk-toggleable__content\"><pre>[&#x27;Education&#x27;, &#x27;PaymentTier&#x27;]</pre></div></div></div><div class=\"sk-serial\"><div class=\"sk-item\"><div class=\"sk-serial\"><div class=\"sk-item\"><div class=\"sk-estimator sk-toggleable\"><input class=\"sk-toggleable__control sk-hidden--visually\" id=\"sk-estimator-id-83\" type=\"checkbox\" ><label for=\"sk-estimator-id-83\" class=\"sk-toggleable__label sk-toggleable__label-arrow\">OrdinalEncoder</label><div class=\"sk-toggleable__content\"><pre>OrdinalEncoder(categories=[[1, 2, 3], [1, 2, 3]])</pre></div></div></div></div></div></div></div></div></div></div><div class=\"sk-item\"><div class=\"sk-estimator sk-toggleable\"><input class=\"sk-toggleable__control sk-hidden--visually\" id=\"sk-estimator-id-84\" type=\"checkbox\" ><label for=\"sk-estimator-id-84\" class=\"sk-toggleable__label sk-toggleable__label-arrow\">LogisticRegression</label><div class=\"sk-toggleable__content\"><pre>LogisticRegression()</pre></div></div></div></div></div></div></div>"
      ],
      "text/plain": [
       "Pipeline(steps=[('preprocessor',\n",
       "                 ColumnTransformer(transformers=[('num',\n",
       "                                                  Pipeline(steps=[('scaler',\n",
       "                                                                   StandardScaler())]),\n",
       "                                                  ['JoiningYear']),\n",
       "                                                 ('cat',\n",
       "                                                  Pipeline(steps=[('encodern',\n",
       "                                                                   OneHotEncoder())]),\n",
       "                                                  ['Age',\n",
       "                                                   'ExperienceInCurrentDomain',\n",
       "                                                   'EverBenched']),\n",
       "                                                 ('cato',\n",
       "                                                  Pipeline(steps=[('encoder',\n",
       "                                                                   OrdinalEncoder(categories=[[1,\n",
       "                                                                                               2,\n",
       "                                                                                               3],\n",
       "                                                                                              [1,\n",
       "                                                                                               2,\n",
       "                                                                                               3]]))]),\n",
       "                                                  ['Education',\n",
       "                                                   'PaymentTier'])])),\n",
       "                ('classifier', LogisticRegression())])"
      ]
     },
     "execution_count": 141,
     "metadata": {},
     "output_type": "execute_result"
    }
   ],
   "source": [
    "pipeline_log.fit(X_train,y_train)"
   ]
  },
  {
   "cell_type": "markdown",
   "metadata": {},
   "source": [
    "## 7.2 SVM"
   ]
  },
  {
   "cell_type": "code",
   "execution_count": 142,
   "metadata": {},
   "outputs": [
    {
     "data": {
      "text/html": [
       "<style>#sk-container-id-21 {color: black;}#sk-container-id-21 pre{padding: 0;}#sk-container-id-21 div.sk-toggleable {background-color: white;}#sk-container-id-21 label.sk-toggleable__label {cursor: pointer;display: block;width: 100%;margin-bottom: 0;padding: 0.3em;box-sizing: border-box;text-align: center;}#sk-container-id-21 label.sk-toggleable__label-arrow:before {content: \"▸\";float: left;margin-right: 0.25em;color: #696969;}#sk-container-id-21 label.sk-toggleable__label-arrow:hover:before {color: black;}#sk-container-id-21 div.sk-estimator:hover label.sk-toggleable__label-arrow:before {color: black;}#sk-container-id-21 div.sk-toggleable__content {max-height: 0;max-width: 0;overflow: hidden;text-align: left;background-color: #f0f8ff;}#sk-container-id-21 div.sk-toggleable__content pre {margin: 0.2em;color: black;border-radius: 0.25em;background-color: #f0f8ff;}#sk-container-id-21 input.sk-toggleable__control:checked~div.sk-toggleable__content {max-height: 200px;max-width: 100%;overflow: auto;}#sk-container-id-21 input.sk-toggleable__control:checked~label.sk-toggleable__label-arrow:before {content: \"▾\";}#sk-container-id-21 div.sk-estimator input.sk-toggleable__control:checked~label.sk-toggleable__label {background-color: #d4ebff;}#sk-container-id-21 div.sk-label input.sk-toggleable__control:checked~label.sk-toggleable__label {background-color: #d4ebff;}#sk-container-id-21 input.sk-hidden--visually {border: 0;clip: rect(1px 1px 1px 1px);clip: rect(1px, 1px, 1px, 1px);height: 1px;margin: -1px;overflow: hidden;padding: 0;position: absolute;width: 1px;}#sk-container-id-21 div.sk-estimator {font-family: monospace;background-color: #f0f8ff;border: 1px dotted black;border-radius: 0.25em;box-sizing: border-box;margin-bottom: 0.5em;}#sk-container-id-21 div.sk-estimator:hover {background-color: #d4ebff;}#sk-container-id-21 div.sk-parallel-item::after {content: \"\";width: 100%;border-bottom: 1px solid gray;flex-grow: 1;}#sk-container-id-21 div.sk-label:hover label.sk-toggleable__label {background-color: #d4ebff;}#sk-container-id-21 div.sk-serial::before {content: \"\";position: absolute;border-left: 1px solid gray;box-sizing: border-box;top: 0;bottom: 0;left: 50%;z-index: 0;}#sk-container-id-21 div.sk-serial {display: flex;flex-direction: column;align-items: center;background-color: white;padding-right: 0.2em;padding-left: 0.2em;position: relative;}#sk-container-id-21 div.sk-item {position: relative;z-index: 1;}#sk-container-id-21 div.sk-parallel {display: flex;align-items: stretch;justify-content: center;background-color: white;position: relative;}#sk-container-id-21 div.sk-item::before, #sk-container-id-21 div.sk-parallel-item::before {content: \"\";position: absolute;border-left: 1px solid gray;box-sizing: border-box;top: 0;bottom: 0;left: 50%;z-index: -1;}#sk-container-id-21 div.sk-parallel-item {display: flex;flex-direction: column;z-index: 1;position: relative;background-color: white;}#sk-container-id-21 div.sk-parallel-item:first-child::after {align-self: flex-end;width: 50%;}#sk-container-id-21 div.sk-parallel-item:last-child::after {align-self: flex-start;width: 50%;}#sk-container-id-21 div.sk-parallel-item:only-child::after {width: 0;}#sk-container-id-21 div.sk-dashed-wrapped {border: 1px dashed gray;margin: 0 0.4em 0.5em 0.4em;box-sizing: border-box;padding-bottom: 0.4em;background-color: white;}#sk-container-id-21 div.sk-label label {font-family: monospace;font-weight: bold;display: inline-block;line-height: 1.2em;}#sk-container-id-21 div.sk-label-container {text-align: center;}#sk-container-id-21 div.sk-container {/* jupyter's `normalize.less` sets `[hidden] { display: none; }` but bootstrap.min.css set `[hidden] { display: none !important; }` so we also need the `!important` here to be able to override the default hidden behavior on the sphinx rendered scikit-learn.org. See: https://github.com/scikit-learn/scikit-learn/issues/21755 */display: inline-block !important;position: relative;}#sk-container-id-21 div.sk-text-repr-fallback {display: none;}</style><div id=\"sk-container-id-21\" class=\"sk-top-container\"><div class=\"sk-text-repr-fallback\"><pre>SVC()</pre><b>In a Jupyter environment, please rerun this cell to show the HTML representation or trust the notebook. <br />On GitHub, the HTML representation is unable to render, please try loading this page with nbviewer.org.</b></div><div class=\"sk-container\" hidden><div class=\"sk-item\"><div class=\"sk-estimator sk-toggleable\"><input class=\"sk-toggleable__control sk-hidden--visually\" id=\"sk-estimator-id-85\" type=\"checkbox\" checked><label for=\"sk-estimator-id-85\" class=\"sk-toggleable__label sk-toggleable__label-arrow\">SVC</label><div class=\"sk-toggleable__content\"><pre>SVC()</pre></div></div></div></div></div>"
      ],
      "text/plain": [
       "SVC()"
      ]
     },
     "execution_count": 142,
     "metadata": {},
     "output_type": "execute_result"
    }
   ],
   "source": [
    "svc.fit(X_train_final, y_train)"
   ]
  },
  {
   "cell_type": "code",
   "execution_count": 143,
   "metadata": {},
   "outputs": [
    {
     "data": {
      "text/html": [
       "<style>#sk-container-id-22 {color: black;}#sk-container-id-22 pre{padding: 0;}#sk-container-id-22 div.sk-toggleable {background-color: white;}#sk-container-id-22 label.sk-toggleable__label {cursor: pointer;display: block;width: 100%;margin-bottom: 0;padding: 0.3em;box-sizing: border-box;text-align: center;}#sk-container-id-22 label.sk-toggleable__label-arrow:before {content: \"▸\";float: left;margin-right: 0.25em;color: #696969;}#sk-container-id-22 label.sk-toggleable__label-arrow:hover:before {color: black;}#sk-container-id-22 div.sk-estimator:hover label.sk-toggleable__label-arrow:before {color: black;}#sk-container-id-22 div.sk-toggleable__content {max-height: 0;max-width: 0;overflow: hidden;text-align: left;background-color: #f0f8ff;}#sk-container-id-22 div.sk-toggleable__content pre {margin: 0.2em;color: black;border-radius: 0.25em;background-color: #f0f8ff;}#sk-container-id-22 input.sk-toggleable__control:checked~div.sk-toggleable__content {max-height: 200px;max-width: 100%;overflow: auto;}#sk-container-id-22 input.sk-toggleable__control:checked~label.sk-toggleable__label-arrow:before {content: \"▾\";}#sk-container-id-22 div.sk-estimator input.sk-toggleable__control:checked~label.sk-toggleable__label {background-color: #d4ebff;}#sk-container-id-22 div.sk-label input.sk-toggleable__control:checked~label.sk-toggleable__label {background-color: #d4ebff;}#sk-container-id-22 input.sk-hidden--visually {border: 0;clip: rect(1px 1px 1px 1px);clip: rect(1px, 1px, 1px, 1px);height: 1px;margin: -1px;overflow: hidden;padding: 0;position: absolute;width: 1px;}#sk-container-id-22 div.sk-estimator {font-family: monospace;background-color: #f0f8ff;border: 1px dotted black;border-radius: 0.25em;box-sizing: border-box;margin-bottom: 0.5em;}#sk-container-id-22 div.sk-estimator:hover {background-color: #d4ebff;}#sk-container-id-22 div.sk-parallel-item::after {content: \"\";width: 100%;border-bottom: 1px solid gray;flex-grow: 1;}#sk-container-id-22 div.sk-label:hover label.sk-toggleable__label {background-color: #d4ebff;}#sk-container-id-22 div.sk-serial::before {content: \"\";position: absolute;border-left: 1px solid gray;box-sizing: border-box;top: 0;bottom: 0;left: 50%;z-index: 0;}#sk-container-id-22 div.sk-serial {display: flex;flex-direction: column;align-items: center;background-color: white;padding-right: 0.2em;padding-left: 0.2em;position: relative;}#sk-container-id-22 div.sk-item {position: relative;z-index: 1;}#sk-container-id-22 div.sk-parallel {display: flex;align-items: stretch;justify-content: center;background-color: white;position: relative;}#sk-container-id-22 div.sk-item::before, #sk-container-id-22 div.sk-parallel-item::before {content: \"\";position: absolute;border-left: 1px solid gray;box-sizing: border-box;top: 0;bottom: 0;left: 50%;z-index: -1;}#sk-container-id-22 div.sk-parallel-item {display: flex;flex-direction: column;z-index: 1;position: relative;background-color: white;}#sk-container-id-22 div.sk-parallel-item:first-child::after {align-self: flex-end;width: 50%;}#sk-container-id-22 div.sk-parallel-item:last-child::after {align-self: flex-start;width: 50%;}#sk-container-id-22 div.sk-parallel-item:only-child::after {width: 0;}#sk-container-id-22 div.sk-dashed-wrapped {border: 1px dashed gray;margin: 0 0.4em 0.5em 0.4em;box-sizing: border-box;padding-bottom: 0.4em;background-color: white;}#sk-container-id-22 div.sk-label label {font-family: monospace;font-weight: bold;display: inline-block;line-height: 1.2em;}#sk-container-id-22 div.sk-label-container {text-align: center;}#sk-container-id-22 div.sk-container {/* jupyter's `normalize.less` sets `[hidden] { display: none; }` but bootstrap.min.css set `[hidden] { display: none !important; }` so we also need the `!important` here to be able to override the default hidden behavior on the sphinx rendered scikit-learn.org. See: https://github.com/scikit-learn/scikit-learn/issues/21755 */display: inline-block !important;position: relative;}#sk-container-id-22 div.sk-text-repr-fallback {display: none;}</style><div id=\"sk-container-id-22\" class=\"sk-top-container\"><div class=\"sk-text-repr-fallback\"><pre>Pipeline(steps=[(&#x27;preprocessor&#x27;,\n",
       "                 ColumnTransformer(transformers=[(&#x27;num&#x27;,\n",
       "                                                  Pipeline(steps=[(&#x27;scaler&#x27;,\n",
       "                                                                   StandardScaler())]),\n",
       "                                                  [&#x27;JoiningYear&#x27;]),\n",
       "                                                 (&#x27;cat&#x27;,\n",
       "                                                  Pipeline(steps=[(&#x27;encodern&#x27;,\n",
       "                                                                   OneHotEncoder())]),\n",
       "                                                  [&#x27;Age&#x27;,\n",
       "                                                   &#x27;ExperienceInCurrentDomain&#x27;,\n",
       "                                                   &#x27;EverBenched&#x27;]),\n",
       "                                                 (&#x27;cato&#x27;,\n",
       "                                                  Pipeline(steps=[(&#x27;encoder&#x27;,\n",
       "                                                                   OrdinalEncoder(categories=[[1,\n",
       "                                                                                               2,\n",
       "                                                                                               3],\n",
       "                                                                                              [1,\n",
       "                                                                                               2,\n",
       "                                                                                               3]]))]),\n",
       "                                                  [&#x27;Education&#x27;,\n",
       "                                                   &#x27;PaymentTier&#x27;])])),\n",
       "                (&#x27;classifier&#x27;, SVC())])</pre><b>In a Jupyter environment, please rerun this cell to show the HTML representation or trust the notebook. <br />On GitHub, the HTML representation is unable to render, please try loading this page with nbviewer.org.</b></div><div class=\"sk-container\" hidden><div class=\"sk-item sk-dashed-wrapped\"><div class=\"sk-label-container\"><div class=\"sk-label sk-toggleable\"><input class=\"sk-toggleable__control sk-hidden--visually\" id=\"sk-estimator-id-86\" type=\"checkbox\" ><label for=\"sk-estimator-id-86\" class=\"sk-toggleable__label sk-toggleable__label-arrow\">Pipeline</label><div class=\"sk-toggleable__content\"><pre>Pipeline(steps=[(&#x27;preprocessor&#x27;,\n",
       "                 ColumnTransformer(transformers=[(&#x27;num&#x27;,\n",
       "                                                  Pipeline(steps=[(&#x27;scaler&#x27;,\n",
       "                                                                   StandardScaler())]),\n",
       "                                                  [&#x27;JoiningYear&#x27;]),\n",
       "                                                 (&#x27;cat&#x27;,\n",
       "                                                  Pipeline(steps=[(&#x27;encodern&#x27;,\n",
       "                                                                   OneHotEncoder())]),\n",
       "                                                  [&#x27;Age&#x27;,\n",
       "                                                   &#x27;ExperienceInCurrentDomain&#x27;,\n",
       "                                                   &#x27;EverBenched&#x27;]),\n",
       "                                                 (&#x27;cato&#x27;,\n",
       "                                                  Pipeline(steps=[(&#x27;encoder&#x27;,\n",
       "                                                                   OrdinalEncoder(categories=[[1,\n",
       "                                                                                               2,\n",
       "                                                                                               3],\n",
       "                                                                                              [1,\n",
       "                                                                                               2,\n",
       "                                                                                               3]]))]),\n",
       "                                                  [&#x27;Education&#x27;,\n",
       "                                                   &#x27;PaymentTier&#x27;])])),\n",
       "                (&#x27;classifier&#x27;, SVC())])</pre></div></div></div><div class=\"sk-serial\"><div class=\"sk-item sk-dashed-wrapped\"><div class=\"sk-label-container\"><div class=\"sk-label sk-toggleable\"><input class=\"sk-toggleable__control sk-hidden--visually\" id=\"sk-estimator-id-87\" type=\"checkbox\" ><label for=\"sk-estimator-id-87\" class=\"sk-toggleable__label sk-toggleable__label-arrow\">preprocessor: ColumnTransformer</label><div class=\"sk-toggleable__content\"><pre>ColumnTransformer(transformers=[(&#x27;num&#x27;,\n",
       "                                 Pipeline(steps=[(&#x27;scaler&#x27;, StandardScaler())]),\n",
       "                                 [&#x27;JoiningYear&#x27;]),\n",
       "                                (&#x27;cat&#x27;,\n",
       "                                 Pipeline(steps=[(&#x27;encodern&#x27;,\n",
       "                                                  OneHotEncoder())]),\n",
       "                                 [&#x27;Age&#x27;, &#x27;ExperienceInCurrentDomain&#x27;,\n",
       "                                  &#x27;EverBenched&#x27;]),\n",
       "                                (&#x27;cato&#x27;,\n",
       "                                 Pipeline(steps=[(&#x27;encoder&#x27;,\n",
       "                                                  OrdinalEncoder(categories=[[1,\n",
       "                                                                              2,\n",
       "                                                                              3],\n",
       "                                                                             [1,\n",
       "                                                                              2,\n",
       "                                                                              3]]))]),\n",
       "                                 [&#x27;Education&#x27;, &#x27;PaymentTier&#x27;])])</pre></div></div></div><div class=\"sk-parallel\"><div class=\"sk-parallel-item\"><div class=\"sk-item\"><div class=\"sk-label-container\"><div class=\"sk-label sk-toggleable\"><input class=\"sk-toggleable__control sk-hidden--visually\" id=\"sk-estimator-id-88\" type=\"checkbox\" ><label for=\"sk-estimator-id-88\" class=\"sk-toggleable__label sk-toggleable__label-arrow\">num</label><div class=\"sk-toggleable__content\"><pre>[&#x27;JoiningYear&#x27;]</pre></div></div></div><div class=\"sk-serial\"><div class=\"sk-item\"><div class=\"sk-serial\"><div class=\"sk-item\"><div class=\"sk-estimator sk-toggleable\"><input class=\"sk-toggleable__control sk-hidden--visually\" id=\"sk-estimator-id-89\" type=\"checkbox\" ><label for=\"sk-estimator-id-89\" class=\"sk-toggleable__label sk-toggleable__label-arrow\">StandardScaler</label><div class=\"sk-toggleable__content\"><pre>StandardScaler()</pre></div></div></div></div></div></div></div></div><div class=\"sk-parallel-item\"><div class=\"sk-item\"><div class=\"sk-label-container\"><div class=\"sk-label sk-toggleable\"><input class=\"sk-toggleable__control sk-hidden--visually\" id=\"sk-estimator-id-90\" type=\"checkbox\" ><label for=\"sk-estimator-id-90\" class=\"sk-toggleable__label sk-toggleable__label-arrow\">cat</label><div class=\"sk-toggleable__content\"><pre>[&#x27;Age&#x27;, &#x27;ExperienceInCurrentDomain&#x27;, &#x27;EverBenched&#x27;]</pre></div></div></div><div class=\"sk-serial\"><div class=\"sk-item\"><div class=\"sk-serial\"><div class=\"sk-item\"><div class=\"sk-estimator sk-toggleable\"><input class=\"sk-toggleable__control sk-hidden--visually\" id=\"sk-estimator-id-91\" type=\"checkbox\" ><label for=\"sk-estimator-id-91\" class=\"sk-toggleable__label sk-toggleable__label-arrow\">OneHotEncoder</label><div class=\"sk-toggleable__content\"><pre>OneHotEncoder()</pre></div></div></div></div></div></div></div></div><div class=\"sk-parallel-item\"><div class=\"sk-item\"><div class=\"sk-label-container\"><div class=\"sk-label sk-toggleable\"><input class=\"sk-toggleable__control sk-hidden--visually\" id=\"sk-estimator-id-92\" type=\"checkbox\" ><label for=\"sk-estimator-id-92\" class=\"sk-toggleable__label sk-toggleable__label-arrow\">cato</label><div class=\"sk-toggleable__content\"><pre>[&#x27;Education&#x27;, &#x27;PaymentTier&#x27;]</pre></div></div></div><div class=\"sk-serial\"><div class=\"sk-item\"><div class=\"sk-serial\"><div class=\"sk-item\"><div class=\"sk-estimator sk-toggleable\"><input class=\"sk-toggleable__control sk-hidden--visually\" id=\"sk-estimator-id-93\" type=\"checkbox\" ><label for=\"sk-estimator-id-93\" class=\"sk-toggleable__label sk-toggleable__label-arrow\">OrdinalEncoder</label><div class=\"sk-toggleable__content\"><pre>OrdinalEncoder(categories=[[1, 2, 3], [1, 2, 3]])</pre></div></div></div></div></div></div></div></div></div></div><div class=\"sk-item\"><div class=\"sk-estimator sk-toggleable\"><input class=\"sk-toggleable__control sk-hidden--visually\" id=\"sk-estimator-id-94\" type=\"checkbox\" ><label for=\"sk-estimator-id-94\" class=\"sk-toggleable__label sk-toggleable__label-arrow\">SVC</label><div class=\"sk-toggleable__content\"><pre>SVC()</pre></div></div></div></div></div></div></div>"
      ],
      "text/plain": [
       "Pipeline(steps=[('preprocessor',\n",
       "                 ColumnTransformer(transformers=[('num',\n",
       "                                                  Pipeline(steps=[('scaler',\n",
       "                                                                   StandardScaler())]),\n",
       "                                                  ['JoiningYear']),\n",
       "                                                 ('cat',\n",
       "                                                  Pipeline(steps=[('encodern',\n",
       "                                                                   OneHotEncoder())]),\n",
       "                                                  ['Age',\n",
       "                                                   'ExperienceInCurrentDomain',\n",
       "                                                   'EverBenched']),\n",
       "                                                 ('cato',\n",
       "                                                  Pipeline(steps=[('encoder',\n",
       "                                                                   OrdinalEncoder(categories=[[1,\n",
       "                                                                                               2,\n",
       "                                                                                               3],\n",
       "                                                                                              [1,\n",
       "                                                                                               2,\n",
       "                                                                                               3]]))]),\n",
       "                                                  ['Education',\n",
       "                                                   'PaymentTier'])])),\n",
       "                ('classifier', SVC())])"
      ]
     },
     "execution_count": 143,
     "metadata": {},
     "output_type": "execute_result"
    }
   ],
   "source": [
    "pipeline_svm.fit(X_train,y_train)"
   ]
  },
  {
   "cell_type": "markdown",
   "metadata": {},
   "source": [
    "## 7.3 Decision Tree"
   ]
  },
  {
   "cell_type": "code",
   "execution_count": 144,
   "metadata": {},
   "outputs": [
    {
     "data": {
      "text/html": [
       "<style>#sk-container-id-23 {color: black;}#sk-container-id-23 pre{padding: 0;}#sk-container-id-23 div.sk-toggleable {background-color: white;}#sk-container-id-23 label.sk-toggleable__label {cursor: pointer;display: block;width: 100%;margin-bottom: 0;padding: 0.3em;box-sizing: border-box;text-align: center;}#sk-container-id-23 label.sk-toggleable__label-arrow:before {content: \"▸\";float: left;margin-right: 0.25em;color: #696969;}#sk-container-id-23 label.sk-toggleable__label-arrow:hover:before {color: black;}#sk-container-id-23 div.sk-estimator:hover label.sk-toggleable__label-arrow:before {color: black;}#sk-container-id-23 div.sk-toggleable__content {max-height: 0;max-width: 0;overflow: hidden;text-align: left;background-color: #f0f8ff;}#sk-container-id-23 div.sk-toggleable__content pre {margin: 0.2em;color: black;border-radius: 0.25em;background-color: #f0f8ff;}#sk-container-id-23 input.sk-toggleable__control:checked~div.sk-toggleable__content {max-height: 200px;max-width: 100%;overflow: auto;}#sk-container-id-23 input.sk-toggleable__control:checked~label.sk-toggleable__label-arrow:before {content: \"▾\";}#sk-container-id-23 div.sk-estimator input.sk-toggleable__control:checked~label.sk-toggleable__label {background-color: #d4ebff;}#sk-container-id-23 div.sk-label input.sk-toggleable__control:checked~label.sk-toggleable__label {background-color: #d4ebff;}#sk-container-id-23 input.sk-hidden--visually {border: 0;clip: rect(1px 1px 1px 1px);clip: rect(1px, 1px, 1px, 1px);height: 1px;margin: -1px;overflow: hidden;padding: 0;position: absolute;width: 1px;}#sk-container-id-23 div.sk-estimator {font-family: monospace;background-color: #f0f8ff;border: 1px dotted black;border-radius: 0.25em;box-sizing: border-box;margin-bottom: 0.5em;}#sk-container-id-23 div.sk-estimator:hover {background-color: #d4ebff;}#sk-container-id-23 div.sk-parallel-item::after {content: \"\";width: 100%;border-bottom: 1px solid gray;flex-grow: 1;}#sk-container-id-23 div.sk-label:hover label.sk-toggleable__label {background-color: #d4ebff;}#sk-container-id-23 div.sk-serial::before {content: \"\";position: absolute;border-left: 1px solid gray;box-sizing: border-box;top: 0;bottom: 0;left: 50%;z-index: 0;}#sk-container-id-23 div.sk-serial {display: flex;flex-direction: column;align-items: center;background-color: white;padding-right: 0.2em;padding-left: 0.2em;position: relative;}#sk-container-id-23 div.sk-item {position: relative;z-index: 1;}#sk-container-id-23 div.sk-parallel {display: flex;align-items: stretch;justify-content: center;background-color: white;position: relative;}#sk-container-id-23 div.sk-item::before, #sk-container-id-23 div.sk-parallel-item::before {content: \"\";position: absolute;border-left: 1px solid gray;box-sizing: border-box;top: 0;bottom: 0;left: 50%;z-index: -1;}#sk-container-id-23 div.sk-parallel-item {display: flex;flex-direction: column;z-index: 1;position: relative;background-color: white;}#sk-container-id-23 div.sk-parallel-item:first-child::after {align-self: flex-end;width: 50%;}#sk-container-id-23 div.sk-parallel-item:last-child::after {align-self: flex-start;width: 50%;}#sk-container-id-23 div.sk-parallel-item:only-child::after {width: 0;}#sk-container-id-23 div.sk-dashed-wrapped {border: 1px dashed gray;margin: 0 0.4em 0.5em 0.4em;box-sizing: border-box;padding-bottom: 0.4em;background-color: white;}#sk-container-id-23 div.sk-label label {font-family: monospace;font-weight: bold;display: inline-block;line-height: 1.2em;}#sk-container-id-23 div.sk-label-container {text-align: center;}#sk-container-id-23 div.sk-container {/* jupyter's `normalize.less` sets `[hidden] { display: none; }` but bootstrap.min.css set `[hidden] { display: none !important; }` so we also need the `!important` here to be able to override the default hidden behavior on the sphinx rendered scikit-learn.org. See: https://github.com/scikit-learn/scikit-learn/issues/21755 */display: inline-block !important;position: relative;}#sk-container-id-23 div.sk-text-repr-fallback {display: none;}</style><div id=\"sk-container-id-23\" class=\"sk-top-container\"><div class=\"sk-text-repr-fallback\"><pre>DecisionTreeClassifier()</pre><b>In a Jupyter environment, please rerun this cell to show the HTML representation or trust the notebook. <br />On GitHub, the HTML representation is unable to render, please try loading this page with nbviewer.org.</b></div><div class=\"sk-container\" hidden><div class=\"sk-item\"><div class=\"sk-estimator sk-toggleable\"><input class=\"sk-toggleable__control sk-hidden--visually\" id=\"sk-estimator-id-95\" type=\"checkbox\" checked><label for=\"sk-estimator-id-95\" class=\"sk-toggleable__label sk-toggleable__label-arrow\">DecisionTreeClassifier</label><div class=\"sk-toggleable__content\"><pre>DecisionTreeClassifier()</pre></div></div></div></div></div>"
      ],
      "text/plain": [
       "DecisionTreeClassifier()"
      ]
     },
     "execution_count": 144,
     "metadata": {},
     "output_type": "execute_result"
    }
   ],
   "source": [
    "dtr.fit(X_train_final, y_train)"
   ]
  },
  {
   "cell_type": "code",
   "execution_count": 145,
   "metadata": {},
   "outputs": [
    {
     "data": {
      "text/html": [
       "<style>#sk-container-id-24 {color: black;}#sk-container-id-24 pre{padding: 0;}#sk-container-id-24 div.sk-toggleable {background-color: white;}#sk-container-id-24 label.sk-toggleable__label {cursor: pointer;display: block;width: 100%;margin-bottom: 0;padding: 0.3em;box-sizing: border-box;text-align: center;}#sk-container-id-24 label.sk-toggleable__label-arrow:before {content: \"▸\";float: left;margin-right: 0.25em;color: #696969;}#sk-container-id-24 label.sk-toggleable__label-arrow:hover:before {color: black;}#sk-container-id-24 div.sk-estimator:hover label.sk-toggleable__label-arrow:before {color: black;}#sk-container-id-24 div.sk-toggleable__content {max-height: 0;max-width: 0;overflow: hidden;text-align: left;background-color: #f0f8ff;}#sk-container-id-24 div.sk-toggleable__content pre {margin: 0.2em;color: black;border-radius: 0.25em;background-color: #f0f8ff;}#sk-container-id-24 input.sk-toggleable__control:checked~div.sk-toggleable__content {max-height: 200px;max-width: 100%;overflow: auto;}#sk-container-id-24 input.sk-toggleable__control:checked~label.sk-toggleable__label-arrow:before {content: \"▾\";}#sk-container-id-24 div.sk-estimator input.sk-toggleable__control:checked~label.sk-toggleable__label {background-color: #d4ebff;}#sk-container-id-24 div.sk-label input.sk-toggleable__control:checked~label.sk-toggleable__label {background-color: #d4ebff;}#sk-container-id-24 input.sk-hidden--visually {border: 0;clip: rect(1px 1px 1px 1px);clip: rect(1px, 1px, 1px, 1px);height: 1px;margin: -1px;overflow: hidden;padding: 0;position: absolute;width: 1px;}#sk-container-id-24 div.sk-estimator {font-family: monospace;background-color: #f0f8ff;border: 1px dotted black;border-radius: 0.25em;box-sizing: border-box;margin-bottom: 0.5em;}#sk-container-id-24 div.sk-estimator:hover {background-color: #d4ebff;}#sk-container-id-24 div.sk-parallel-item::after {content: \"\";width: 100%;border-bottom: 1px solid gray;flex-grow: 1;}#sk-container-id-24 div.sk-label:hover label.sk-toggleable__label {background-color: #d4ebff;}#sk-container-id-24 div.sk-serial::before {content: \"\";position: absolute;border-left: 1px solid gray;box-sizing: border-box;top: 0;bottom: 0;left: 50%;z-index: 0;}#sk-container-id-24 div.sk-serial {display: flex;flex-direction: column;align-items: center;background-color: white;padding-right: 0.2em;padding-left: 0.2em;position: relative;}#sk-container-id-24 div.sk-item {position: relative;z-index: 1;}#sk-container-id-24 div.sk-parallel {display: flex;align-items: stretch;justify-content: center;background-color: white;position: relative;}#sk-container-id-24 div.sk-item::before, #sk-container-id-24 div.sk-parallel-item::before {content: \"\";position: absolute;border-left: 1px solid gray;box-sizing: border-box;top: 0;bottom: 0;left: 50%;z-index: -1;}#sk-container-id-24 div.sk-parallel-item {display: flex;flex-direction: column;z-index: 1;position: relative;background-color: white;}#sk-container-id-24 div.sk-parallel-item:first-child::after {align-self: flex-end;width: 50%;}#sk-container-id-24 div.sk-parallel-item:last-child::after {align-self: flex-start;width: 50%;}#sk-container-id-24 div.sk-parallel-item:only-child::after {width: 0;}#sk-container-id-24 div.sk-dashed-wrapped {border: 1px dashed gray;margin: 0 0.4em 0.5em 0.4em;box-sizing: border-box;padding-bottom: 0.4em;background-color: white;}#sk-container-id-24 div.sk-label label {font-family: monospace;font-weight: bold;display: inline-block;line-height: 1.2em;}#sk-container-id-24 div.sk-label-container {text-align: center;}#sk-container-id-24 div.sk-container {/* jupyter's `normalize.less` sets `[hidden] { display: none; }` but bootstrap.min.css set `[hidden] { display: none !important; }` so we also need the `!important` here to be able to override the default hidden behavior on the sphinx rendered scikit-learn.org. See: https://github.com/scikit-learn/scikit-learn/issues/21755 */display: inline-block !important;position: relative;}#sk-container-id-24 div.sk-text-repr-fallback {display: none;}</style><div id=\"sk-container-id-24\" class=\"sk-top-container\"><div class=\"sk-text-repr-fallback\"><pre>Pipeline(steps=[(&#x27;preprocessor&#x27;,\n",
       "                 ColumnTransformer(transformers=[(&#x27;num&#x27;,\n",
       "                                                  Pipeline(steps=[(&#x27;scaler&#x27;,\n",
       "                                                                   StandardScaler())]),\n",
       "                                                  [&#x27;JoiningYear&#x27;]),\n",
       "                                                 (&#x27;cat&#x27;,\n",
       "                                                  Pipeline(steps=[(&#x27;encodern&#x27;,\n",
       "                                                                   OneHotEncoder())]),\n",
       "                                                  [&#x27;Age&#x27;,\n",
       "                                                   &#x27;ExperienceInCurrentDomain&#x27;,\n",
       "                                                   &#x27;EverBenched&#x27;]),\n",
       "                                                 (&#x27;cato&#x27;,\n",
       "                                                  Pipeline(steps=[(&#x27;encoder&#x27;,\n",
       "                                                                   OrdinalEncoder(categories=[[1,\n",
       "                                                                                               2,\n",
       "                                                                                               3],\n",
       "                                                                                              [1,\n",
       "                                                                                               2,\n",
       "                                                                                               3]]))]),\n",
       "                                                  [&#x27;Education&#x27;,\n",
       "                                                   &#x27;PaymentTier&#x27;])])),\n",
       "                (&#x27;classifier&#x27;, DecisionTreeClassifier())])</pre><b>In a Jupyter environment, please rerun this cell to show the HTML representation or trust the notebook. <br />On GitHub, the HTML representation is unable to render, please try loading this page with nbviewer.org.</b></div><div class=\"sk-container\" hidden><div class=\"sk-item sk-dashed-wrapped\"><div class=\"sk-label-container\"><div class=\"sk-label sk-toggleable\"><input class=\"sk-toggleable__control sk-hidden--visually\" id=\"sk-estimator-id-96\" type=\"checkbox\" ><label for=\"sk-estimator-id-96\" class=\"sk-toggleable__label sk-toggleable__label-arrow\">Pipeline</label><div class=\"sk-toggleable__content\"><pre>Pipeline(steps=[(&#x27;preprocessor&#x27;,\n",
       "                 ColumnTransformer(transformers=[(&#x27;num&#x27;,\n",
       "                                                  Pipeline(steps=[(&#x27;scaler&#x27;,\n",
       "                                                                   StandardScaler())]),\n",
       "                                                  [&#x27;JoiningYear&#x27;]),\n",
       "                                                 (&#x27;cat&#x27;,\n",
       "                                                  Pipeline(steps=[(&#x27;encodern&#x27;,\n",
       "                                                                   OneHotEncoder())]),\n",
       "                                                  [&#x27;Age&#x27;,\n",
       "                                                   &#x27;ExperienceInCurrentDomain&#x27;,\n",
       "                                                   &#x27;EverBenched&#x27;]),\n",
       "                                                 (&#x27;cato&#x27;,\n",
       "                                                  Pipeline(steps=[(&#x27;encoder&#x27;,\n",
       "                                                                   OrdinalEncoder(categories=[[1,\n",
       "                                                                                               2,\n",
       "                                                                                               3],\n",
       "                                                                                              [1,\n",
       "                                                                                               2,\n",
       "                                                                                               3]]))]),\n",
       "                                                  [&#x27;Education&#x27;,\n",
       "                                                   &#x27;PaymentTier&#x27;])])),\n",
       "                (&#x27;classifier&#x27;, DecisionTreeClassifier())])</pre></div></div></div><div class=\"sk-serial\"><div class=\"sk-item sk-dashed-wrapped\"><div class=\"sk-label-container\"><div class=\"sk-label sk-toggleable\"><input class=\"sk-toggleable__control sk-hidden--visually\" id=\"sk-estimator-id-97\" type=\"checkbox\" ><label for=\"sk-estimator-id-97\" class=\"sk-toggleable__label sk-toggleable__label-arrow\">preprocessor: ColumnTransformer</label><div class=\"sk-toggleable__content\"><pre>ColumnTransformer(transformers=[(&#x27;num&#x27;,\n",
       "                                 Pipeline(steps=[(&#x27;scaler&#x27;, StandardScaler())]),\n",
       "                                 [&#x27;JoiningYear&#x27;]),\n",
       "                                (&#x27;cat&#x27;,\n",
       "                                 Pipeline(steps=[(&#x27;encodern&#x27;,\n",
       "                                                  OneHotEncoder())]),\n",
       "                                 [&#x27;Age&#x27;, &#x27;ExperienceInCurrentDomain&#x27;,\n",
       "                                  &#x27;EverBenched&#x27;]),\n",
       "                                (&#x27;cato&#x27;,\n",
       "                                 Pipeline(steps=[(&#x27;encoder&#x27;,\n",
       "                                                  OrdinalEncoder(categories=[[1,\n",
       "                                                                              2,\n",
       "                                                                              3],\n",
       "                                                                             [1,\n",
       "                                                                              2,\n",
       "                                                                              3]]))]),\n",
       "                                 [&#x27;Education&#x27;, &#x27;PaymentTier&#x27;])])</pre></div></div></div><div class=\"sk-parallel\"><div class=\"sk-parallel-item\"><div class=\"sk-item\"><div class=\"sk-label-container\"><div class=\"sk-label sk-toggleable\"><input class=\"sk-toggleable__control sk-hidden--visually\" id=\"sk-estimator-id-98\" type=\"checkbox\" ><label for=\"sk-estimator-id-98\" class=\"sk-toggleable__label sk-toggleable__label-arrow\">num</label><div class=\"sk-toggleable__content\"><pre>[&#x27;JoiningYear&#x27;]</pre></div></div></div><div class=\"sk-serial\"><div class=\"sk-item\"><div class=\"sk-serial\"><div class=\"sk-item\"><div class=\"sk-estimator sk-toggleable\"><input class=\"sk-toggleable__control sk-hidden--visually\" id=\"sk-estimator-id-99\" type=\"checkbox\" ><label for=\"sk-estimator-id-99\" class=\"sk-toggleable__label sk-toggleable__label-arrow\">StandardScaler</label><div class=\"sk-toggleable__content\"><pre>StandardScaler()</pre></div></div></div></div></div></div></div></div><div class=\"sk-parallel-item\"><div class=\"sk-item\"><div class=\"sk-label-container\"><div class=\"sk-label sk-toggleable\"><input class=\"sk-toggleable__control sk-hidden--visually\" id=\"sk-estimator-id-100\" type=\"checkbox\" ><label for=\"sk-estimator-id-100\" class=\"sk-toggleable__label sk-toggleable__label-arrow\">cat</label><div class=\"sk-toggleable__content\"><pre>[&#x27;Age&#x27;, &#x27;ExperienceInCurrentDomain&#x27;, &#x27;EverBenched&#x27;]</pre></div></div></div><div class=\"sk-serial\"><div class=\"sk-item\"><div class=\"sk-serial\"><div class=\"sk-item\"><div class=\"sk-estimator sk-toggleable\"><input class=\"sk-toggleable__control sk-hidden--visually\" id=\"sk-estimator-id-101\" type=\"checkbox\" ><label for=\"sk-estimator-id-101\" class=\"sk-toggleable__label sk-toggleable__label-arrow\">OneHotEncoder</label><div class=\"sk-toggleable__content\"><pre>OneHotEncoder()</pre></div></div></div></div></div></div></div></div><div class=\"sk-parallel-item\"><div class=\"sk-item\"><div class=\"sk-label-container\"><div class=\"sk-label sk-toggleable\"><input class=\"sk-toggleable__control sk-hidden--visually\" id=\"sk-estimator-id-102\" type=\"checkbox\" ><label for=\"sk-estimator-id-102\" class=\"sk-toggleable__label sk-toggleable__label-arrow\">cato</label><div class=\"sk-toggleable__content\"><pre>[&#x27;Education&#x27;, &#x27;PaymentTier&#x27;]</pre></div></div></div><div class=\"sk-serial\"><div class=\"sk-item\"><div class=\"sk-serial\"><div class=\"sk-item\"><div class=\"sk-estimator sk-toggleable\"><input class=\"sk-toggleable__control sk-hidden--visually\" id=\"sk-estimator-id-103\" type=\"checkbox\" ><label for=\"sk-estimator-id-103\" class=\"sk-toggleable__label sk-toggleable__label-arrow\">OrdinalEncoder</label><div class=\"sk-toggleable__content\"><pre>OrdinalEncoder(categories=[[1, 2, 3], [1, 2, 3]])</pre></div></div></div></div></div></div></div></div></div></div><div class=\"sk-item\"><div class=\"sk-estimator sk-toggleable\"><input class=\"sk-toggleable__control sk-hidden--visually\" id=\"sk-estimator-id-104\" type=\"checkbox\" ><label for=\"sk-estimator-id-104\" class=\"sk-toggleable__label sk-toggleable__label-arrow\">DecisionTreeClassifier</label><div class=\"sk-toggleable__content\"><pre>DecisionTreeClassifier()</pre></div></div></div></div></div></div></div>"
      ],
      "text/plain": [
       "Pipeline(steps=[('preprocessor',\n",
       "                 ColumnTransformer(transformers=[('num',\n",
       "                                                  Pipeline(steps=[('scaler',\n",
       "                                                                   StandardScaler())]),\n",
       "                                                  ['JoiningYear']),\n",
       "                                                 ('cat',\n",
       "                                                  Pipeline(steps=[('encodern',\n",
       "                                                                   OneHotEncoder())]),\n",
       "                                                  ['Age',\n",
       "                                                   'ExperienceInCurrentDomain',\n",
       "                                                   'EverBenched']),\n",
       "                                                 ('cato',\n",
       "                                                  Pipeline(steps=[('encoder',\n",
       "                                                                   OrdinalEncoder(categories=[[1,\n",
       "                                                                                               2,\n",
       "                                                                                               3],\n",
       "                                                                                              [1,\n",
       "                                                                                               2,\n",
       "                                                                                               3]]))]),\n",
       "                                                  ['Education',\n",
       "                                                   'PaymentTier'])])),\n",
       "                ('classifier', DecisionTreeClassifier())])"
      ]
     },
     "execution_count": 145,
     "metadata": {},
     "output_type": "execute_result"
    }
   ],
   "source": [
    "pipeline_dtr.fit(X_train,y_train)"
   ]
  },
  {
   "cell_type": "markdown",
   "metadata": {},
   "source": [
    "## 7.4 Random Forest"
   ]
  },
  {
   "cell_type": "code",
   "execution_count": 146,
   "metadata": {},
   "outputs": [
    {
     "data": {
      "text/html": [
       "<style>#sk-container-id-25 {color: black;}#sk-container-id-25 pre{padding: 0;}#sk-container-id-25 div.sk-toggleable {background-color: white;}#sk-container-id-25 label.sk-toggleable__label {cursor: pointer;display: block;width: 100%;margin-bottom: 0;padding: 0.3em;box-sizing: border-box;text-align: center;}#sk-container-id-25 label.sk-toggleable__label-arrow:before {content: \"▸\";float: left;margin-right: 0.25em;color: #696969;}#sk-container-id-25 label.sk-toggleable__label-arrow:hover:before {color: black;}#sk-container-id-25 div.sk-estimator:hover label.sk-toggleable__label-arrow:before {color: black;}#sk-container-id-25 div.sk-toggleable__content {max-height: 0;max-width: 0;overflow: hidden;text-align: left;background-color: #f0f8ff;}#sk-container-id-25 div.sk-toggleable__content pre {margin: 0.2em;color: black;border-radius: 0.25em;background-color: #f0f8ff;}#sk-container-id-25 input.sk-toggleable__control:checked~div.sk-toggleable__content {max-height: 200px;max-width: 100%;overflow: auto;}#sk-container-id-25 input.sk-toggleable__control:checked~label.sk-toggleable__label-arrow:before {content: \"▾\";}#sk-container-id-25 div.sk-estimator input.sk-toggleable__control:checked~label.sk-toggleable__label {background-color: #d4ebff;}#sk-container-id-25 div.sk-label input.sk-toggleable__control:checked~label.sk-toggleable__label {background-color: #d4ebff;}#sk-container-id-25 input.sk-hidden--visually {border: 0;clip: rect(1px 1px 1px 1px);clip: rect(1px, 1px, 1px, 1px);height: 1px;margin: -1px;overflow: hidden;padding: 0;position: absolute;width: 1px;}#sk-container-id-25 div.sk-estimator {font-family: monospace;background-color: #f0f8ff;border: 1px dotted black;border-radius: 0.25em;box-sizing: border-box;margin-bottom: 0.5em;}#sk-container-id-25 div.sk-estimator:hover {background-color: #d4ebff;}#sk-container-id-25 div.sk-parallel-item::after {content: \"\";width: 100%;border-bottom: 1px solid gray;flex-grow: 1;}#sk-container-id-25 div.sk-label:hover label.sk-toggleable__label {background-color: #d4ebff;}#sk-container-id-25 div.sk-serial::before {content: \"\";position: absolute;border-left: 1px solid gray;box-sizing: border-box;top: 0;bottom: 0;left: 50%;z-index: 0;}#sk-container-id-25 div.sk-serial {display: flex;flex-direction: column;align-items: center;background-color: white;padding-right: 0.2em;padding-left: 0.2em;position: relative;}#sk-container-id-25 div.sk-item {position: relative;z-index: 1;}#sk-container-id-25 div.sk-parallel {display: flex;align-items: stretch;justify-content: center;background-color: white;position: relative;}#sk-container-id-25 div.sk-item::before, #sk-container-id-25 div.sk-parallel-item::before {content: \"\";position: absolute;border-left: 1px solid gray;box-sizing: border-box;top: 0;bottom: 0;left: 50%;z-index: -1;}#sk-container-id-25 div.sk-parallel-item {display: flex;flex-direction: column;z-index: 1;position: relative;background-color: white;}#sk-container-id-25 div.sk-parallel-item:first-child::after {align-self: flex-end;width: 50%;}#sk-container-id-25 div.sk-parallel-item:last-child::after {align-self: flex-start;width: 50%;}#sk-container-id-25 div.sk-parallel-item:only-child::after {width: 0;}#sk-container-id-25 div.sk-dashed-wrapped {border: 1px dashed gray;margin: 0 0.4em 0.5em 0.4em;box-sizing: border-box;padding-bottom: 0.4em;background-color: white;}#sk-container-id-25 div.sk-label label {font-family: monospace;font-weight: bold;display: inline-block;line-height: 1.2em;}#sk-container-id-25 div.sk-label-container {text-align: center;}#sk-container-id-25 div.sk-container {/* jupyter's `normalize.less` sets `[hidden] { display: none; }` but bootstrap.min.css set `[hidden] { display: none !important; }` so we also need the `!important` here to be able to override the default hidden behavior on the sphinx rendered scikit-learn.org. See: https://github.com/scikit-learn/scikit-learn/issues/21755 */display: inline-block !important;position: relative;}#sk-container-id-25 div.sk-text-repr-fallback {display: none;}</style><div id=\"sk-container-id-25\" class=\"sk-top-container\"><div class=\"sk-text-repr-fallback\"><pre>RandomForestClassifier()</pre><b>In a Jupyter environment, please rerun this cell to show the HTML representation or trust the notebook. <br />On GitHub, the HTML representation is unable to render, please try loading this page with nbviewer.org.</b></div><div class=\"sk-container\" hidden><div class=\"sk-item\"><div class=\"sk-estimator sk-toggleable\"><input class=\"sk-toggleable__control sk-hidden--visually\" id=\"sk-estimator-id-105\" type=\"checkbox\" checked><label for=\"sk-estimator-id-105\" class=\"sk-toggleable__label sk-toggleable__label-arrow\">RandomForestClassifier</label><div class=\"sk-toggleable__content\"><pre>RandomForestClassifier()</pre></div></div></div></div></div>"
      ],
      "text/plain": [
       "RandomForestClassifier()"
      ]
     },
     "execution_count": 146,
     "metadata": {},
     "output_type": "execute_result"
    }
   ],
   "source": [
    "rf.fit(X_train_final, y_train)"
   ]
  },
  {
   "cell_type": "code",
   "execution_count": 147,
   "metadata": {},
   "outputs": [
    {
     "data": {
      "text/html": [
       "<style>#sk-container-id-26 {color: black;}#sk-container-id-26 pre{padding: 0;}#sk-container-id-26 div.sk-toggleable {background-color: white;}#sk-container-id-26 label.sk-toggleable__label {cursor: pointer;display: block;width: 100%;margin-bottom: 0;padding: 0.3em;box-sizing: border-box;text-align: center;}#sk-container-id-26 label.sk-toggleable__label-arrow:before {content: \"▸\";float: left;margin-right: 0.25em;color: #696969;}#sk-container-id-26 label.sk-toggleable__label-arrow:hover:before {color: black;}#sk-container-id-26 div.sk-estimator:hover label.sk-toggleable__label-arrow:before {color: black;}#sk-container-id-26 div.sk-toggleable__content {max-height: 0;max-width: 0;overflow: hidden;text-align: left;background-color: #f0f8ff;}#sk-container-id-26 div.sk-toggleable__content pre {margin: 0.2em;color: black;border-radius: 0.25em;background-color: #f0f8ff;}#sk-container-id-26 input.sk-toggleable__control:checked~div.sk-toggleable__content {max-height: 200px;max-width: 100%;overflow: auto;}#sk-container-id-26 input.sk-toggleable__control:checked~label.sk-toggleable__label-arrow:before {content: \"▾\";}#sk-container-id-26 div.sk-estimator input.sk-toggleable__control:checked~label.sk-toggleable__label {background-color: #d4ebff;}#sk-container-id-26 div.sk-label input.sk-toggleable__control:checked~label.sk-toggleable__label {background-color: #d4ebff;}#sk-container-id-26 input.sk-hidden--visually {border: 0;clip: rect(1px 1px 1px 1px);clip: rect(1px, 1px, 1px, 1px);height: 1px;margin: -1px;overflow: hidden;padding: 0;position: absolute;width: 1px;}#sk-container-id-26 div.sk-estimator {font-family: monospace;background-color: #f0f8ff;border: 1px dotted black;border-radius: 0.25em;box-sizing: border-box;margin-bottom: 0.5em;}#sk-container-id-26 div.sk-estimator:hover {background-color: #d4ebff;}#sk-container-id-26 div.sk-parallel-item::after {content: \"\";width: 100%;border-bottom: 1px solid gray;flex-grow: 1;}#sk-container-id-26 div.sk-label:hover label.sk-toggleable__label {background-color: #d4ebff;}#sk-container-id-26 div.sk-serial::before {content: \"\";position: absolute;border-left: 1px solid gray;box-sizing: border-box;top: 0;bottom: 0;left: 50%;z-index: 0;}#sk-container-id-26 div.sk-serial {display: flex;flex-direction: column;align-items: center;background-color: white;padding-right: 0.2em;padding-left: 0.2em;position: relative;}#sk-container-id-26 div.sk-item {position: relative;z-index: 1;}#sk-container-id-26 div.sk-parallel {display: flex;align-items: stretch;justify-content: center;background-color: white;position: relative;}#sk-container-id-26 div.sk-item::before, #sk-container-id-26 div.sk-parallel-item::before {content: \"\";position: absolute;border-left: 1px solid gray;box-sizing: border-box;top: 0;bottom: 0;left: 50%;z-index: -1;}#sk-container-id-26 div.sk-parallel-item {display: flex;flex-direction: column;z-index: 1;position: relative;background-color: white;}#sk-container-id-26 div.sk-parallel-item:first-child::after {align-self: flex-end;width: 50%;}#sk-container-id-26 div.sk-parallel-item:last-child::after {align-self: flex-start;width: 50%;}#sk-container-id-26 div.sk-parallel-item:only-child::after {width: 0;}#sk-container-id-26 div.sk-dashed-wrapped {border: 1px dashed gray;margin: 0 0.4em 0.5em 0.4em;box-sizing: border-box;padding-bottom: 0.4em;background-color: white;}#sk-container-id-26 div.sk-label label {font-family: monospace;font-weight: bold;display: inline-block;line-height: 1.2em;}#sk-container-id-26 div.sk-label-container {text-align: center;}#sk-container-id-26 div.sk-container {/* jupyter's `normalize.less` sets `[hidden] { display: none; }` but bootstrap.min.css set `[hidden] { display: none !important; }` so we also need the `!important` here to be able to override the default hidden behavior on the sphinx rendered scikit-learn.org. See: https://github.com/scikit-learn/scikit-learn/issues/21755 */display: inline-block !important;position: relative;}#sk-container-id-26 div.sk-text-repr-fallback {display: none;}</style><div id=\"sk-container-id-26\" class=\"sk-top-container\"><div class=\"sk-text-repr-fallback\"><pre>Pipeline(steps=[(&#x27;preprocessor&#x27;,\n",
       "                 ColumnTransformer(transformers=[(&#x27;num&#x27;,\n",
       "                                                  Pipeline(steps=[(&#x27;scaler&#x27;,\n",
       "                                                                   StandardScaler())]),\n",
       "                                                  [&#x27;JoiningYear&#x27;]),\n",
       "                                                 (&#x27;cat&#x27;,\n",
       "                                                  Pipeline(steps=[(&#x27;encodern&#x27;,\n",
       "                                                                   OneHotEncoder())]),\n",
       "                                                  [&#x27;Age&#x27;,\n",
       "                                                   &#x27;ExperienceInCurrentDomain&#x27;,\n",
       "                                                   &#x27;EverBenched&#x27;]),\n",
       "                                                 (&#x27;cato&#x27;,\n",
       "                                                  Pipeline(steps=[(&#x27;encoder&#x27;,\n",
       "                                                                   OrdinalEncoder(categories=[[1,\n",
       "                                                                                               2,\n",
       "                                                                                               3],\n",
       "                                                                                              [1,\n",
       "                                                                                               2,\n",
       "                                                                                               3]]))]),\n",
       "                                                  [&#x27;Education&#x27;,\n",
       "                                                   &#x27;PaymentTier&#x27;])])),\n",
       "                (&#x27;classifier&#x27;, RandomForestClassifier())])</pre><b>In a Jupyter environment, please rerun this cell to show the HTML representation or trust the notebook. <br />On GitHub, the HTML representation is unable to render, please try loading this page with nbviewer.org.</b></div><div class=\"sk-container\" hidden><div class=\"sk-item sk-dashed-wrapped\"><div class=\"sk-label-container\"><div class=\"sk-label sk-toggleable\"><input class=\"sk-toggleable__control sk-hidden--visually\" id=\"sk-estimator-id-106\" type=\"checkbox\" ><label for=\"sk-estimator-id-106\" class=\"sk-toggleable__label sk-toggleable__label-arrow\">Pipeline</label><div class=\"sk-toggleable__content\"><pre>Pipeline(steps=[(&#x27;preprocessor&#x27;,\n",
       "                 ColumnTransformer(transformers=[(&#x27;num&#x27;,\n",
       "                                                  Pipeline(steps=[(&#x27;scaler&#x27;,\n",
       "                                                                   StandardScaler())]),\n",
       "                                                  [&#x27;JoiningYear&#x27;]),\n",
       "                                                 (&#x27;cat&#x27;,\n",
       "                                                  Pipeline(steps=[(&#x27;encodern&#x27;,\n",
       "                                                                   OneHotEncoder())]),\n",
       "                                                  [&#x27;Age&#x27;,\n",
       "                                                   &#x27;ExperienceInCurrentDomain&#x27;,\n",
       "                                                   &#x27;EverBenched&#x27;]),\n",
       "                                                 (&#x27;cato&#x27;,\n",
       "                                                  Pipeline(steps=[(&#x27;encoder&#x27;,\n",
       "                                                                   OrdinalEncoder(categories=[[1,\n",
       "                                                                                               2,\n",
       "                                                                                               3],\n",
       "                                                                                              [1,\n",
       "                                                                                               2,\n",
       "                                                                                               3]]))]),\n",
       "                                                  [&#x27;Education&#x27;,\n",
       "                                                   &#x27;PaymentTier&#x27;])])),\n",
       "                (&#x27;classifier&#x27;, RandomForestClassifier())])</pre></div></div></div><div class=\"sk-serial\"><div class=\"sk-item sk-dashed-wrapped\"><div class=\"sk-label-container\"><div class=\"sk-label sk-toggleable\"><input class=\"sk-toggleable__control sk-hidden--visually\" id=\"sk-estimator-id-107\" type=\"checkbox\" ><label for=\"sk-estimator-id-107\" class=\"sk-toggleable__label sk-toggleable__label-arrow\">preprocessor: ColumnTransformer</label><div class=\"sk-toggleable__content\"><pre>ColumnTransformer(transformers=[(&#x27;num&#x27;,\n",
       "                                 Pipeline(steps=[(&#x27;scaler&#x27;, StandardScaler())]),\n",
       "                                 [&#x27;JoiningYear&#x27;]),\n",
       "                                (&#x27;cat&#x27;,\n",
       "                                 Pipeline(steps=[(&#x27;encodern&#x27;,\n",
       "                                                  OneHotEncoder())]),\n",
       "                                 [&#x27;Age&#x27;, &#x27;ExperienceInCurrentDomain&#x27;,\n",
       "                                  &#x27;EverBenched&#x27;]),\n",
       "                                (&#x27;cato&#x27;,\n",
       "                                 Pipeline(steps=[(&#x27;encoder&#x27;,\n",
       "                                                  OrdinalEncoder(categories=[[1,\n",
       "                                                                              2,\n",
       "                                                                              3],\n",
       "                                                                             [1,\n",
       "                                                                              2,\n",
       "                                                                              3]]))]),\n",
       "                                 [&#x27;Education&#x27;, &#x27;PaymentTier&#x27;])])</pre></div></div></div><div class=\"sk-parallel\"><div class=\"sk-parallel-item\"><div class=\"sk-item\"><div class=\"sk-label-container\"><div class=\"sk-label sk-toggleable\"><input class=\"sk-toggleable__control sk-hidden--visually\" id=\"sk-estimator-id-108\" type=\"checkbox\" ><label for=\"sk-estimator-id-108\" class=\"sk-toggleable__label sk-toggleable__label-arrow\">num</label><div class=\"sk-toggleable__content\"><pre>[&#x27;JoiningYear&#x27;]</pre></div></div></div><div class=\"sk-serial\"><div class=\"sk-item\"><div class=\"sk-serial\"><div class=\"sk-item\"><div class=\"sk-estimator sk-toggleable\"><input class=\"sk-toggleable__control sk-hidden--visually\" id=\"sk-estimator-id-109\" type=\"checkbox\" ><label for=\"sk-estimator-id-109\" class=\"sk-toggleable__label sk-toggleable__label-arrow\">StandardScaler</label><div class=\"sk-toggleable__content\"><pre>StandardScaler()</pre></div></div></div></div></div></div></div></div><div class=\"sk-parallel-item\"><div class=\"sk-item\"><div class=\"sk-label-container\"><div class=\"sk-label sk-toggleable\"><input class=\"sk-toggleable__control sk-hidden--visually\" id=\"sk-estimator-id-110\" type=\"checkbox\" ><label for=\"sk-estimator-id-110\" class=\"sk-toggleable__label sk-toggleable__label-arrow\">cat</label><div class=\"sk-toggleable__content\"><pre>[&#x27;Age&#x27;, &#x27;ExperienceInCurrentDomain&#x27;, &#x27;EverBenched&#x27;]</pre></div></div></div><div class=\"sk-serial\"><div class=\"sk-item\"><div class=\"sk-serial\"><div class=\"sk-item\"><div class=\"sk-estimator sk-toggleable\"><input class=\"sk-toggleable__control sk-hidden--visually\" id=\"sk-estimator-id-111\" type=\"checkbox\" ><label for=\"sk-estimator-id-111\" class=\"sk-toggleable__label sk-toggleable__label-arrow\">OneHotEncoder</label><div class=\"sk-toggleable__content\"><pre>OneHotEncoder()</pre></div></div></div></div></div></div></div></div><div class=\"sk-parallel-item\"><div class=\"sk-item\"><div class=\"sk-label-container\"><div class=\"sk-label sk-toggleable\"><input class=\"sk-toggleable__control sk-hidden--visually\" id=\"sk-estimator-id-112\" type=\"checkbox\" ><label for=\"sk-estimator-id-112\" class=\"sk-toggleable__label sk-toggleable__label-arrow\">cato</label><div class=\"sk-toggleable__content\"><pre>[&#x27;Education&#x27;, &#x27;PaymentTier&#x27;]</pre></div></div></div><div class=\"sk-serial\"><div class=\"sk-item\"><div class=\"sk-serial\"><div class=\"sk-item\"><div class=\"sk-estimator sk-toggleable\"><input class=\"sk-toggleable__control sk-hidden--visually\" id=\"sk-estimator-id-113\" type=\"checkbox\" ><label for=\"sk-estimator-id-113\" class=\"sk-toggleable__label sk-toggleable__label-arrow\">OrdinalEncoder</label><div class=\"sk-toggleable__content\"><pre>OrdinalEncoder(categories=[[1, 2, 3], [1, 2, 3]])</pre></div></div></div></div></div></div></div></div></div></div><div class=\"sk-item\"><div class=\"sk-estimator sk-toggleable\"><input class=\"sk-toggleable__control sk-hidden--visually\" id=\"sk-estimator-id-114\" type=\"checkbox\" ><label for=\"sk-estimator-id-114\" class=\"sk-toggleable__label sk-toggleable__label-arrow\">RandomForestClassifier</label><div class=\"sk-toggleable__content\"><pre>RandomForestClassifier()</pre></div></div></div></div></div></div></div>"
      ],
      "text/plain": [
       "Pipeline(steps=[('preprocessor',\n",
       "                 ColumnTransformer(transformers=[('num',\n",
       "                                                  Pipeline(steps=[('scaler',\n",
       "                                                                   StandardScaler())]),\n",
       "                                                  ['JoiningYear']),\n",
       "                                                 ('cat',\n",
       "                                                  Pipeline(steps=[('encodern',\n",
       "                                                                   OneHotEncoder())]),\n",
       "                                                  ['Age',\n",
       "                                                   'ExperienceInCurrentDomain',\n",
       "                                                   'EverBenched']),\n",
       "                                                 ('cato',\n",
       "                                                  Pipeline(steps=[('encoder',\n",
       "                                                                   OrdinalEncoder(categories=[[1,\n",
       "                                                                                               2,\n",
       "                                                                                               3],\n",
       "                                                                                              [1,\n",
       "                                                                                               2,\n",
       "                                                                                               3]]))]),\n",
       "                                                  ['Education',\n",
       "                                                   'PaymentTier'])])),\n",
       "                ('classifier', RandomForestClassifier())])"
      ]
     },
     "execution_count": 147,
     "metadata": {},
     "output_type": "execute_result"
    }
   ],
   "source": [
    "pipeline_rf.fit(X_train, y_train)"
   ]
  },
  {
   "cell_type": "markdown",
   "metadata": {},
   "source": [
    "## 7.5 KNN"
   ]
  },
  {
   "cell_type": "markdown",
   "metadata": {},
   "source": [
    "### 7.5.1 KNN Euclidean"
   ]
  },
  {
   "cell_type": "code",
   "execution_count": 148,
   "metadata": {},
   "outputs": [
    {
     "data": {
      "text/html": [
       "<style>#sk-container-id-27 {color: black;}#sk-container-id-27 pre{padding: 0;}#sk-container-id-27 div.sk-toggleable {background-color: white;}#sk-container-id-27 label.sk-toggleable__label {cursor: pointer;display: block;width: 100%;margin-bottom: 0;padding: 0.3em;box-sizing: border-box;text-align: center;}#sk-container-id-27 label.sk-toggleable__label-arrow:before {content: \"▸\";float: left;margin-right: 0.25em;color: #696969;}#sk-container-id-27 label.sk-toggleable__label-arrow:hover:before {color: black;}#sk-container-id-27 div.sk-estimator:hover label.sk-toggleable__label-arrow:before {color: black;}#sk-container-id-27 div.sk-toggleable__content {max-height: 0;max-width: 0;overflow: hidden;text-align: left;background-color: #f0f8ff;}#sk-container-id-27 div.sk-toggleable__content pre {margin: 0.2em;color: black;border-radius: 0.25em;background-color: #f0f8ff;}#sk-container-id-27 input.sk-toggleable__control:checked~div.sk-toggleable__content {max-height: 200px;max-width: 100%;overflow: auto;}#sk-container-id-27 input.sk-toggleable__control:checked~label.sk-toggleable__label-arrow:before {content: \"▾\";}#sk-container-id-27 div.sk-estimator input.sk-toggleable__control:checked~label.sk-toggleable__label {background-color: #d4ebff;}#sk-container-id-27 div.sk-label input.sk-toggleable__control:checked~label.sk-toggleable__label {background-color: #d4ebff;}#sk-container-id-27 input.sk-hidden--visually {border: 0;clip: rect(1px 1px 1px 1px);clip: rect(1px, 1px, 1px, 1px);height: 1px;margin: -1px;overflow: hidden;padding: 0;position: absolute;width: 1px;}#sk-container-id-27 div.sk-estimator {font-family: monospace;background-color: #f0f8ff;border: 1px dotted black;border-radius: 0.25em;box-sizing: border-box;margin-bottom: 0.5em;}#sk-container-id-27 div.sk-estimator:hover {background-color: #d4ebff;}#sk-container-id-27 div.sk-parallel-item::after {content: \"\";width: 100%;border-bottom: 1px solid gray;flex-grow: 1;}#sk-container-id-27 div.sk-label:hover label.sk-toggleable__label {background-color: #d4ebff;}#sk-container-id-27 div.sk-serial::before {content: \"\";position: absolute;border-left: 1px solid gray;box-sizing: border-box;top: 0;bottom: 0;left: 50%;z-index: 0;}#sk-container-id-27 div.sk-serial {display: flex;flex-direction: column;align-items: center;background-color: white;padding-right: 0.2em;padding-left: 0.2em;position: relative;}#sk-container-id-27 div.sk-item {position: relative;z-index: 1;}#sk-container-id-27 div.sk-parallel {display: flex;align-items: stretch;justify-content: center;background-color: white;position: relative;}#sk-container-id-27 div.sk-item::before, #sk-container-id-27 div.sk-parallel-item::before {content: \"\";position: absolute;border-left: 1px solid gray;box-sizing: border-box;top: 0;bottom: 0;left: 50%;z-index: -1;}#sk-container-id-27 div.sk-parallel-item {display: flex;flex-direction: column;z-index: 1;position: relative;background-color: white;}#sk-container-id-27 div.sk-parallel-item:first-child::after {align-self: flex-end;width: 50%;}#sk-container-id-27 div.sk-parallel-item:last-child::after {align-self: flex-start;width: 50%;}#sk-container-id-27 div.sk-parallel-item:only-child::after {width: 0;}#sk-container-id-27 div.sk-dashed-wrapped {border: 1px dashed gray;margin: 0 0.4em 0.5em 0.4em;box-sizing: border-box;padding-bottom: 0.4em;background-color: white;}#sk-container-id-27 div.sk-label label {font-family: monospace;font-weight: bold;display: inline-block;line-height: 1.2em;}#sk-container-id-27 div.sk-label-container {text-align: center;}#sk-container-id-27 div.sk-container {/* jupyter's `normalize.less` sets `[hidden] { display: none; }` but bootstrap.min.css set `[hidden] { display: none !important; }` so we also need the `!important` here to be able to override the default hidden behavior on the sphinx rendered scikit-learn.org. See: https://github.com/scikit-learn/scikit-learn/issues/21755 */display: inline-block !important;position: relative;}#sk-container-id-27 div.sk-text-repr-fallback {display: none;}</style><div id=\"sk-container-id-27\" class=\"sk-top-container\"><div class=\"sk-text-repr-fallback\"><pre>KNeighborsClassifier()</pre><b>In a Jupyter environment, please rerun this cell to show the HTML representation or trust the notebook. <br />On GitHub, the HTML representation is unable to render, please try loading this page with nbviewer.org.</b></div><div class=\"sk-container\" hidden><div class=\"sk-item\"><div class=\"sk-estimator sk-toggleable\"><input class=\"sk-toggleable__control sk-hidden--visually\" id=\"sk-estimator-id-115\" type=\"checkbox\" checked><label for=\"sk-estimator-id-115\" class=\"sk-toggleable__label sk-toggleable__label-arrow\">KNeighborsClassifier</label><div class=\"sk-toggleable__content\"><pre>KNeighborsClassifier()</pre></div></div></div></div></div>"
      ],
      "text/plain": [
       "KNeighborsClassifier()"
      ]
     },
     "execution_count": 148,
     "metadata": {},
     "output_type": "execute_result"
    }
   ],
   "source": [
    "cls_knn_euclidean.fit(X_train_final, y_train)"
   ]
  },
  {
   "cell_type": "code",
   "execution_count": 149,
   "metadata": {},
   "outputs": [
    {
     "data": {
      "text/html": [
       "<style>#sk-container-id-28 {color: black;}#sk-container-id-28 pre{padding: 0;}#sk-container-id-28 div.sk-toggleable {background-color: white;}#sk-container-id-28 label.sk-toggleable__label {cursor: pointer;display: block;width: 100%;margin-bottom: 0;padding: 0.3em;box-sizing: border-box;text-align: center;}#sk-container-id-28 label.sk-toggleable__label-arrow:before {content: \"▸\";float: left;margin-right: 0.25em;color: #696969;}#sk-container-id-28 label.sk-toggleable__label-arrow:hover:before {color: black;}#sk-container-id-28 div.sk-estimator:hover label.sk-toggleable__label-arrow:before {color: black;}#sk-container-id-28 div.sk-toggleable__content {max-height: 0;max-width: 0;overflow: hidden;text-align: left;background-color: #f0f8ff;}#sk-container-id-28 div.sk-toggleable__content pre {margin: 0.2em;color: black;border-radius: 0.25em;background-color: #f0f8ff;}#sk-container-id-28 input.sk-toggleable__control:checked~div.sk-toggleable__content {max-height: 200px;max-width: 100%;overflow: auto;}#sk-container-id-28 input.sk-toggleable__control:checked~label.sk-toggleable__label-arrow:before {content: \"▾\";}#sk-container-id-28 div.sk-estimator input.sk-toggleable__control:checked~label.sk-toggleable__label {background-color: #d4ebff;}#sk-container-id-28 div.sk-label input.sk-toggleable__control:checked~label.sk-toggleable__label {background-color: #d4ebff;}#sk-container-id-28 input.sk-hidden--visually {border: 0;clip: rect(1px 1px 1px 1px);clip: rect(1px, 1px, 1px, 1px);height: 1px;margin: -1px;overflow: hidden;padding: 0;position: absolute;width: 1px;}#sk-container-id-28 div.sk-estimator {font-family: monospace;background-color: #f0f8ff;border: 1px dotted black;border-radius: 0.25em;box-sizing: border-box;margin-bottom: 0.5em;}#sk-container-id-28 div.sk-estimator:hover {background-color: #d4ebff;}#sk-container-id-28 div.sk-parallel-item::after {content: \"\";width: 100%;border-bottom: 1px solid gray;flex-grow: 1;}#sk-container-id-28 div.sk-label:hover label.sk-toggleable__label {background-color: #d4ebff;}#sk-container-id-28 div.sk-serial::before {content: \"\";position: absolute;border-left: 1px solid gray;box-sizing: border-box;top: 0;bottom: 0;left: 50%;z-index: 0;}#sk-container-id-28 div.sk-serial {display: flex;flex-direction: column;align-items: center;background-color: white;padding-right: 0.2em;padding-left: 0.2em;position: relative;}#sk-container-id-28 div.sk-item {position: relative;z-index: 1;}#sk-container-id-28 div.sk-parallel {display: flex;align-items: stretch;justify-content: center;background-color: white;position: relative;}#sk-container-id-28 div.sk-item::before, #sk-container-id-28 div.sk-parallel-item::before {content: \"\";position: absolute;border-left: 1px solid gray;box-sizing: border-box;top: 0;bottom: 0;left: 50%;z-index: -1;}#sk-container-id-28 div.sk-parallel-item {display: flex;flex-direction: column;z-index: 1;position: relative;background-color: white;}#sk-container-id-28 div.sk-parallel-item:first-child::after {align-self: flex-end;width: 50%;}#sk-container-id-28 div.sk-parallel-item:last-child::after {align-self: flex-start;width: 50%;}#sk-container-id-28 div.sk-parallel-item:only-child::after {width: 0;}#sk-container-id-28 div.sk-dashed-wrapped {border: 1px dashed gray;margin: 0 0.4em 0.5em 0.4em;box-sizing: border-box;padding-bottom: 0.4em;background-color: white;}#sk-container-id-28 div.sk-label label {font-family: monospace;font-weight: bold;display: inline-block;line-height: 1.2em;}#sk-container-id-28 div.sk-label-container {text-align: center;}#sk-container-id-28 div.sk-container {/* jupyter's `normalize.less` sets `[hidden] { display: none; }` but bootstrap.min.css set `[hidden] { display: none !important; }` so we also need the `!important` here to be able to override the default hidden behavior on the sphinx rendered scikit-learn.org. See: https://github.com/scikit-learn/scikit-learn/issues/21755 */display: inline-block !important;position: relative;}#sk-container-id-28 div.sk-text-repr-fallback {display: none;}</style><div id=\"sk-container-id-28\" class=\"sk-top-container\"><div class=\"sk-text-repr-fallback\"><pre>Pipeline(steps=[(&#x27;preprocessor&#x27;,\n",
       "                 ColumnTransformer(transformers=[(&#x27;num&#x27;,\n",
       "                                                  Pipeline(steps=[(&#x27;scaler&#x27;,\n",
       "                                                                   StandardScaler())]),\n",
       "                                                  [&#x27;JoiningYear&#x27;]),\n",
       "                                                 (&#x27;cat&#x27;,\n",
       "                                                  Pipeline(steps=[(&#x27;encodern&#x27;,\n",
       "                                                                   OneHotEncoder())]),\n",
       "                                                  [&#x27;Age&#x27;,\n",
       "                                                   &#x27;ExperienceInCurrentDomain&#x27;,\n",
       "                                                   &#x27;EverBenched&#x27;]),\n",
       "                                                 (&#x27;cato&#x27;,\n",
       "                                                  Pipeline(steps=[(&#x27;encoder&#x27;,\n",
       "                                                                   OrdinalEncoder(categories=[[1,\n",
       "                                                                                               2,\n",
       "                                                                                               3],\n",
       "                                                                                              [1,\n",
       "                                                                                               2,\n",
       "                                                                                               3]]))]),\n",
       "                                                  [&#x27;Education&#x27;,\n",
       "                                                   &#x27;PaymentTier&#x27;])])),\n",
       "                (&#x27;classifier&#x27;, KNeighborsClassifier())])</pre><b>In a Jupyter environment, please rerun this cell to show the HTML representation or trust the notebook. <br />On GitHub, the HTML representation is unable to render, please try loading this page with nbviewer.org.</b></div><div class=\"sk-container\" hidden><div class=\"sk-item sk-dashed-wrapped\"><div class=\"sk-label-container\"><div class=\"sk-label sk-toggleable\"><input class=\"sk-toggleable__control sk-hidden--visually\" id=\"sk-estimator-id-116\" type=\"checkbox\" ><label for=\"sk-estimator-id-116\" class=\"sk-toggleable__label sk-toggleable__label-arrow\">Pipeline</label><div class=\"sk-toggleable__content\"><pre>Pipeline(steps=[(&#x27;preprocessor&#x27;,\n",
       "                 ColumnTransformer(transformers=[(&#x27;num&#x27;,\n",
       "                                                  Pipeline(steps=[(&#x27;scaler&#x27;,\n",
       "                                                                   StandardScaler())]),\n",
       "                                                  [&#x27;JoiningYear&#x27;]),\n",
       "                                                 (&#x27;cat&#x27;,\n",
       "                                                  Pipeline(steps=[(&#x27;encodern&#x27;,\n",
       "                                                                   OneHotEncoder())]),\n",
       "                                                  [&#x27;Age&#x27;,\n",
       "                                                   &#x27;ExperienceInCurrentDomain&#x27;,\n",
       "                                                   &#x27;EverBenched&#x27;]),\n",
       "                                                 (&#x27;cato&#x27;,\n",
       "                                                  Pipeline(steps=[(&#x27;encoder&#x27;,\n",
       "                                                                   OrdinalEncoder(categories=[[1,\n",
       "                                                                                               2,\n",
       "                                                                                               3],\n",
       "                                                                                              [1,\n",
       "                                                                                               2,\n",
       "                                                                                               3]]))]),\n",
       "                                                  [&#x27;Education&#x27;,\n",
       "                                                   &#x27;PaymentTier&#x27;])])),\n",
       "                (&#x27;classifier&#x27;, KNeighborsClassifier())])</pre></div></div></div><div class=\"sk-serial\"><div class=\"sk-item sk-dashed-wrapped\"><div class=\"sk-label-container\"><div class=\"sk-label sk-toggleable\"><input class=\"sk-toggleable__control sk-hidden--visually\" id=\"sk-estimator-id-117\" type=\"checkbox\" ><label for=\"sk-estimator-id-117\" class=\"sk-toggleable__label sk-toggleable__label-arrow\">preprocessor: ColumnTransformer</label><div class=\"sk-toggleable__content\"><pre>ColumnTransformer(transformers=[(&#x27;num&#x27;,\n",
       "                                 Pipeline(steps=[(&#x27;scaler&#x27;, StandardScaler())]),\n",
       "                                 [&#x27;JoiningYear&#x27;]),\n",
       "                                (&#x27;cat&#x27;,\n",
       "                                 Pipeline(steps=[(&#x27;encodern&#x27;,\n",
       "                                                  OneHotEncoder())]),\n",
       "                                 [&#x27;Age&#x27;, &#x27;ExperienceInCurrentDomain&#x27;,\n",
       "                                  &#x27;EverBenched&#x27;]),\n",
       "                                (&#x27;cato&#x27;,\n",
       "                                 Pipeline(steps=[(&#x27;encoder&#x27;,\n",
       "                                                  OrdinalEncoder(categories=[[1,\n",
       "                                                                              2,\n",
       "                                                                              3],\n",
       "                                                                             [1,\n",
       "                                                                              2,\n",
       "                                                                              3]]))]),\n",
       "                                 [&#x27;Education&#x27;, &#x27;PaymentTier&#x27;])])</pre></div></div></div><div class=\"sk-parallel\"><div class=\"sk-parallel-item\"><div class=\"sk-item\"><div class=\"sk-label-container\"><div class=\"sk-label sk-toggleable\"><input class=\"sk-toggleable__control sk-hidden--visually\" id=\"sk-estimator-id-118\" type=\"checkbox\" ><label for=\"sk-estimator-id-118\" class=\"sk-toggleable__label sk-toggleable__label-arrow\">num</label><div class=\"sk-toggleable__content\"><pre>[&#x27;JoiningYear&#x27;]</pre></div></div></div><div class=\"sk-serial\"><div class=\"sk-item\"><div class=\"sk-serial\"><div class=\"sk-item\"><div class=\"sk-estimator sk-toggleable\"><input class=\"sk-toggleable__control sk-hidden--visually\" id=\"sk-estimator-id-119\" type=\"checkbox\" ><label for=\"sk-estimator-id-119\" class=\"sk-toggleable__label sk-toggleable__label-arrow\">StandardScaler</label><div class=\"sk-toggleable__content\"><pre>StandardScaler()</pre></div></div></div></div></div></div></div></div><div class=\"sk-parallel-item\"><div class=\"sk-item\"><div class=\"sk-label-container\"><div class=\"sk-label sk-toggleable\"><input class=\"sk-toggleable__control sk-hidden--visually\" id=\"sk-estimator-id-120\" type=\"checkbox\" ><label for=\"sk-estimator-id-120\" class=\"sk-toggleable__label sk-toggleable__label-arrow\">cat</label><div class=\"sk-toggleable__content\"><pre>[&#x27;Age&#x27;, &#x27;ExperienceInCurrentDomain&#x27;, &#x27;EverBenched&#x27;]</pre></div></div></div><div class=\"sk-serial\"><div class=\"sk-item\"><div class=\"sk-serial\"><div class=\"sk-item\"><div class=\"sk-estimator sk-toggleable\"><input class=\"sk-toggleable__control sk-hidden--visually\" id=\"sk-estimator-id-121\" type=\"checkbox\" ><label for=\"sk-estimator-id-121\" class=\"sk-toggleable__label sk-toggleable__label-arrow\">OneHotEncoder</label><div class=\"sk-toggleable__content\"><pre>OneHotEncoder()</pre></div></div></div></div></div></div></div></div><div class=\"sk-parallel-item\"><div class=\"sk-item\"><div class=\"sk-label-container\"><div class=\"sk-label sk-toggleable\"><input class=\"sk-toggleable__control sk-hidden--visually\" id=\"sk-estimator-id-122\" type=\"checkbox\" ><label for=\"sk-estimator-id-122\" class=\"sk-toggleable__label sk-toggleable__label-arrow\">cato</label><div class=\"sk-toggleable__content\"><pre>[&#x27;Education&#x27;, &#x27;PaymentTier&#x27;]</pre></div></div></div><div class=\"sk-serial\"><div class=\"sk-item\"><div class=\"sk-serial\"><div class=\"sk-item\"><div class=\"sk-estimator sk-toggleable\"><input class=\"sk-toggleable__control sk-hidden--visually\" id=\"sk-estimator-id-123\" type=\"checkbox\" ><label for=\"sk-estimator-id-123\" class=\"sk-toggleable__label sk-toggleable__label-arrow\">OrdinalEncoder</label><div class=\"sk-toggleable__content\"><pre>OrdinalEncoder(categories=[[1, 2, 3], [1, 2, 3]])</pre></div></div></div></div></div></div></div></div></div></div><div class=\"sk-item\"><div class=\"sk-estimator sk-toggleable\"><input class=\"sk-toggleable__control sk-hidden--visually\" id=\"sk-estimator-id-124\" type=\"checkbox\" ><label for=\"sk-estimator-id-124\" class=\"sk-toggleable__label sk-toggleable__label-arrow\">KNeighborsClassifier</label><div class=\"sk-toggleable__content\"><pre>KNeighborsClassifier()</pre></div></div></div></div></div></div></div>"
      ],
      "text/plain": [
       "Pipeline(steps=[('preprocessor',\n",
       "                 ColumnTransformer(transformers=[('num',\n",
       "                                                  Pipeline(steps=[('scaler',\n",
       "                                                                   StandardScaler())]),\n",
       "                                                  ['JoiningYear']),\n",
       "                                                 ('cat',\n",
       "                                                  Pipeline(steps=[('encodern',\n",
       "                                                                   OneHotEncoder())]),\n",
       "                                                  ['Age',\n",
       "                                                   'ExperienceInCurrentDomain',\n",
       "                                                   'EverBenched']),\n",
       "                                                 ('cato',\n",
       "                                                  Pipeline(steps=[('encoder',\n",
       "                                                                   OrdinalEncoder(categories=[[1,\n",
       "                                                                                               2,\n",
       "                                                                                               3],\n",
       "                                                                                              [1,\n",
       "                                                                                               2,\n",
       "                                                                                               3]]))]),\n",
       "                                                  ['Education',\n",
       "                                                   'PaymentTier'])])),\n",
       "                ('classifier', KNeighborsClassifier())])"
      ]
     },
     "execution_count": 149,
     "metadata": {},
     "output_type": "execute_result"
    }
   ],
   "source": [
    "pipeline_cls.fit(X_train,y_train)"
   ]
  },
  {
   "cell_type": "markdown",
   "metadata": {},
   "source": [
    "### 7.5.2 KNN Manhattan"
   ]
  },
  {
   "cell_type": "code",
   "execution_count": 150,
   "metadata": {},
   "outputs": [
    {
     "data": {
      "text/html": [
       "<style>#sk-container-id-29 {color: black;}#sk-container-id-29 pre{padding: 0;}#sk-container-id-29 div.sk-toggleable {background-color: white;}#sk-container-id-29 label.sk-toggleable__label {cursor: pointer;display: block;width: 100%;margin-bottom: 0;padding: 0.3em;box-sizing: border-box;text-align: center;}#sk-container-id-29 label.sk-toggleable__label-arrow:before {content: \"▸\";float: left;margin-right: 0.25em;color: #696969;}#sk-container-id-29 label.sk-toggleable__label-arrow:hover:before {color: black;}#sk-container-id-29 div.sk-estimator:hover label.sk-toggleable__label-arrow:before {color: black;}#sk-container-id-29 div.sk-toggleable__content {max-height: 0;max-width: 0;overflow: hidden;text-align: left;background-color: #f0f8ff;}#sk-container-id-29 div.sk-toggleable__content pre {margin: 0.2em;color: black;border-radius: 0.25em;background-color: #f0f8ff;}#sk-container-id-29 input.sk-toggleable__control:checked~div.sk-toggleable__content {max-height: 200px;max-width: 100%;overflow: auto;}#sk-container-id-29 input.sk-toggleable__control:checked~label.sk-toggleable__label-arrow:before {content: \"▾\";}#sk-container-id-29 div.sk-estimator input.sk-toggleable__control:checked~label.sk-toggleable__label {background-color: #d4ebff;}#sk-container-id-29 div.sk-label input.sk-toggleable__control:checked~label.sk-toggleable__label {background-color: #d4ebff;}#sk-container-id-29 input.sk-hidden--visually {border: 0;clip: rect(1px 1px 1px 1px);clip: rect(1px, 1px, 1px, 1px);height: 1px;margin: -1px;overflow: hidden;padding: 0;position: absolute;width: 1px;}#sk-container-id-29 div.sk-estimator {font-family: monospace;background-color: #f0f8ff;border: 1px dotted black;border-radius: 0.25em;box-sizing: border-box;margin-bottom: 0.5em;}#sk-container-id-29 div.sk-estimator:hover {background-color: #d4ebff;}#sk-container-id-29 div.sk-parallel-item::after {content: \"\";width: 100%;border-bottom: 1px solid gray;flex-grow: 1;}#sk-container-id-29 div.sk-label:hover label.sk-toggleable__label {background-color: #d4ebff;}#sk-container-id-29 div.sk-serial::before {content: \"\";position: absolute;border-left: 1px solid gray;box-sizing: border-box;top: 0;bottom: 0;left: 50%;z-index: 0;}#sk-container-id-29 div.sk-serial {display: flex;flex-direction: column;align-items: center;background-color: white;padding-right: 0.2em;padding-left: 0.2em;position: relative;}#sk-container-id-29 div.sk-item {position: relative;z-index: 1;}#sk-container-id-29 div.sk-parallel {display: flex;align-items: stretch;justify-content: center;background-color: white;position: relative;}#sk-container-id-29 div.sk-item::before, #sk-container-id-29 div.sk-parallel-item::before {content: \"\";position: absolute;border-left: 1px solid gray;box-sizing: border-box;top: 0;bottom: 0;left: 50%;z-index: -1;}#sk-container-id-29 div.sk-parallel-item {display: flex;flex-direction: column;z-index: 1;position: relative;background-color: white;}#sk-container-id-29 div.sk-parallel-item:first-child::after {align-self: flex-end;width: 50%;}#sk-container-id-29 div.sk-parallel-item:last-child::after {align-self: flex-start;width: 50%;}#sk-container-id-29 div.sk-parallel-item:only-child::after {width: 0;}#sk-container-id-29 div.sk-dashed-wrapped {border: 1px dashed gray;margin: 0 0.4em 0.5em 0.4em;box-sizing: border-box;padding-bottom: 0.4em;background-color: white;}#sk-container-id-29 div.sk-label label {font-family: monospace;font-weight: bold;display: inline-block;line-height: 1.2em;}#sk-container-id-29 div.sk-label-container {text-align: center;}#sk-container-id-29 div.sk-container {/* jupyter's `normalize.less` sets `[hidden] { display: none; }` but bootstrap.min.css set `[hidden] { display: none !important; }` so we also need the `!important` here to be able to override the default hidden behavior on the sphinx rendered scikit-learn.org. See: https://github.com/scikit-learn/scikit-learn/issues/21755 */display: inline-block !important;position: relative;}#sk-container-id-29 div.sk-text-repr-fallback {display: none;}</style><div id=\"sk-container-id-29\" class=\"sk-top-container\"><div class=\"sk-text-repr-fallback\"><pre>KNeighborsClassifier()</pre><b>In a Jupyter environment, please rerun this cell to show the HTML representation or trust the notebook. <br />On GitHub, the HTML representation is unable to render, please try loading this page with nbviewer.org.</b></div><div class=\"sk-container\" hidden><div class=\"sk-item\"><div class=\"sk-estimator sk-toggleable\"><input class=\"sk-toggleable__control sk-hidden--visually\" id=\"sk-estimator-id-125\" type=\"checkbox\" checked><label for=\"sk-estimator-id-125\" class=\"sk-toggleable__label sk-toggleable__label-arrow\">KNeighborsClassifier</label><div class=\"sk-toggleable__content\"><pre>KNeighborsClassifier()</pre></div></div></div></div></div>"
      ],
      "text/plain": [
       "KNeighborsClassifier()"
      ]
     },
     "execution_count": 150,
     "metadata": {},
     "output_type": "execute_result"
    }
   ],
   "source": [
    "cls_knn_manhattan.fit(X_train_final, y_train)"
   ]
  },
  {
   "cell_type": "code",
   "execution_count": 151,
   "metadata": {},
   "outputs": [
    {
     "data": {
      "text/html": [
       "<style>#sk-container-id-30 {color: black;}#sk-container-id-30 pre{padding: 0;}#sk-container-id-30 div.sk-toggleable {background-color: white;}#sk-container-id-30 label.sk-toggleable__label {cursor: pointer;display: block;width: 100%;margin-bottom: 0;padding: 0.3em;box-sizing: border-box;text-align: center;}#sk-container-id-30 label.sk-toggleable__label-arrow:before {content: \"▸\";float: left;margin-right: 0.25em;color: #696969;}#sk-container-id-30 label.sk-toggleable__label-arrow:hover:before {color: black;}#sk-container-id-30 div.sk-estimator:hover label.sk-toggleable__label-arrow:before {color: black;}#sk-container-id-30 div.sk-toggleable__content {max-height: 0;max-width: 0;overflow: hidden;text-align: left;background-color: #f0f8ff;}#sk-container-id-30 div.sk-toggleable__content pre {margin: 0.2em;color: black;border-radius: 0.25em;background-color: #f0f8ff;}#sk-container-id-30 input.sk-toggleable__control:checked~div.sk-toggleable__content {max-height: 200px;max-width: 100%;overflow: auto;}#sk-container-id-30 input.sk-toggleable__control:checked~label.sk-toggleable__label-arrow:before {content: \"▾\";}#sk-container-id-30 div.sk-estimator input.sk-toggleable__control:checked~label.sk-toggleable__label {background-color: #d4ebff;}#sk-container-id-30 div.sk-label input.sk-toggleable__control:checked~label.sk-toggleable__label {background-color: #d4ebff;}#sk-container-id-30 input.sk-hidden--visually {border: 0;clip: rect(1px 1px 1px 1px);clip: rect(1px, 1px, 1px, 1px);height: 1px;margin: -1px;overflow: hidden;padding: 0;position: absolute;width: 1px;}#sk-container-id-30 div.sk-estimator {font-family: monospace;background-color: #f0f8ff;border: 1px dotted black;border-radius: 0.25em;box-sizing: border-box;margin-bottom: 0.5em;}#sk-container-id-30 div.sk-estimator:hover {background-color: #d4ebff;}#sk-container-id-30 div.sk-parallel-item::after {content: \"\";width: 100%;border-bottom: 1px solid gray;flex-grow: 1;}#sk-container-id-30 div.sk-label:hover label.sk-toggleable__label {background-color: #d4ebff;}#sk-container-id-30 div.sk-serial::before {content: \"\";position: absolute;border-left: 1px solid gray;box-sizing: border-box;top: 0;bottom: 0;left: 50%;z-index: 0;}#sk-container-id-30 div.sk-serial {display: flex;flex-direction: column;align-items: center;background-color: white;padding-right: 0.2em;padding-left: 0.2em;position: relative;}#sk-container-id-30 div.sk-item {position: relative;z-index: 1;}#sk-container-id-30 div.sk-parallel {display: flex;align-items: stretch;justify-content: center;background-color: white;position: relative;}#sk-container-id-30 div.sk-item::before, #sk-container-id-30 div.sk-parallel-item::before {content: \"\";position: absolute;border-left: 1px solid gray;box-sizing: border-box;top: 0;bottom: 0;left: 50%;z-index: -1;}#sk-container-id-30 div.sk-parallel-item {display: flex;flex-direction: column;z-index: 1;position: relative;background-color: white;}#sk-container-id-30 div.sk-parallel-item:first-child::after {align-self: flex-end;width: 50%;}#sk-container-id-30 div.sk-parallel-item:last-child::after {align-self: flex-start;width: 50%;}#sk-container-id-30 div.sk-parallel-item:only-child::after {width: 0;}#sk-container-id-30 div.sk-dashed-wrapped {border: 1px dashed gray;margin: 0 0.4em 0.5em 0.4em;box-sizing: border-box;padding-bottom: 0.4em;background-color: white;}#sk-container-id-30 div.sk-label label {font-family: monospace;font-weight: bold;display: inline-block;line-height: 1.2em;}#sk-container-id-30 div.sk-label-container {text-align: center;}#sk-container-id-30 div.sk-container {/* jupyter's `normalize.less` sets `[hidden] { display: none; }` but bootstrap.min.css set `[hidden] { display: none !important; }` so we also need the `!important` here to be able to override the default hidden behavior on the sphinx rendered scikit-learn.org. See: https://github.com/scikit-learn/scikit-learn/issues/21755 */display: inline-block !important;position: relative;}#sk-container-id-30 div.sk-text-repr-fallback {display: none;}</style><div id=\"sk-container-id-30\" class=\"sk-top-container\"><div class=\"sk-text-repr-fallback\"><pre>Pipeline(steps=[(&#x27;preprocessor&#x27;,\n",
       "                 ColumnTransformer(transformers=[(&#x27;num&#x27;,\n",
       "                                                  Pipeline(steps=[(&#x27;scaler&#x27;,\n",
       "                                                                   StandardScaler())]),\n",
       "                                                  [&#x27;JoiningYear&#x27;]),\n",
       "                                                 (&#x27;cat&#x27;,\n",
       "                                                  Pipeline(steps=[(&#x27;encodern&#x27;,\n",
       "                                                                   OneHotEncoder())]),\n",
       "                                                  [&#x27;Age&#x27;,\n",
       "                                                   &#x27;ExperienceInCurrentDomain&#x27;,\n",
       "                                                   &#x27;EverBenched&#x27;]),\n",
       "                                                 (&#x27;cato&#x27;,\n",
       "                                                  Pipeline(steps=[(&#x27;encoder&#x27;,\n",
       "                                                                   OrdinalEncoder(categories=[[1,\n",
       "                                                                                               2,\n",
       "                                                                                               3],\n",
       "                                                                                              [1,\n",
       "                                                                                               2,\n",
       "                                                                                               3]]))]),\n",
       "                                                  [&#x27;Education&#x27;,\n",
       "                                                   &#x27;PaymentTier&#x27;])])),\n",
       "                (&#x27;classifier&#x27;, KNeighborsClassifier())])</pre><b>In a Jupyter environment, please rerun this cell to show the HTML representation or trust the notebook. <br />On GitHub, the HTML representation is unable to render, please try loading this page with nbviewer.org.</b></div><div class=\"sk-container\" hidden><div class=\"sk-item sk-dashed-wrapped\"><div class=\"sk-label-container\"><div class=\"sk-label sk-toggleable\"><input class=\"sk-toggleable__control sk-hidden--visually\" id=\"sk-estimator-id-126\" type=\"checkbox\" ><label for=\"sk-estimator-id-126\" class=\"sk-toggleable__label sk-toggleable__label-arrow\">Pipeline</label><div class=\"sk-toggleable__content\"><pre>Pipeline(steps=[(&#x27;preprocessor&#x27;,\n",
       "                 ColumnTransformer(transformers=[(&#x27;num&#x27;,\n",
       "                                                  Pipeline(steps=[(&#x27;scaler&#x27;,\n",
       "                                                                   StandardScaler())]),\n",
       "                                                  [&#x27;JoiningYear&#x27;]),\n",
       "                                                 (&#x27;cat&#x27;,\n",
       "                                                  Pipeline(steps=[(&#x27;encodern&#x27;,\n",
       "                                                                   OneHotEncoder())]),\n",
       "                                                  [&#x27;Age&#x27;,\n",
       "                                                   &#x27;ExperienceInCurrentDomain&#x27;,\n",
       "                                                   &#x27;EverBenched&#x27;]),\n",
       "                                                 (&#x27;cato&#x27;,\n",
       "                                                  Pipeline(steps=[(&#x27;encoder&#x27;,\n",
       "                                                                   OrdinalEncoder(categories=[[1,\n",
       "                                                                                               2,\n",
       "                                                                                               3],\n",
       "                                                                                              [1,\n",
       "                                                                                               2,\n",
       "                                                                                               3]]))]),\n",
       "                                                  [&#x27;Education&#x27;,\n",
       "                                                   &#x27;PaymentTier&#x27;])])),\n",
       "                (&#x27;classifier&#x27;, KNeighborsClassifier())])</pre></div></div></div><div class=\"sk-serial\"><div class=\"sk-item sk-dashed-wrapped\"><div class=\"sk-label-container\"><div class=\"sk-label sk-toggleable\"><input class=\"sk-toggleable__control sk-hidden--visually\" id=\"sk-estimator-id-127\" type=\"checkbox\" ><label for=\"sk-estimator-id-127\" class=\"sk-toggleable__label sk-toggleable__label-arrow\">preprocessor: ColumnTransformer</label><div class=\"sk-toggleable__content\"><pre>ColumnTransformer(transformers=[(&#x27;num&#x27;,\n",
       "                                 Pipeline(steps=[(&#x27;scaler&#x27;, StandardScaler())]),\n",
       "                                 [&#x27;JoiningYear&#x27;]),\n",
       "                                (&#x27;cat&#x27;,\n",
       "                                 Pipeline(steps=[(&#x27;encodern&#x27;,\n",
       "                                                  OneHotEncoder())]),\n",
       "                                 [&#x27;Age&#x27;, &#x27;ExperienceInCurrentDomain&#x27;,\n",
       "                                  &#x27;EverBenched&#x27;]),\n",
       "                                (&#x27;cato&#x27;,\n",
       "                                 Pipeline(steps=[(&#x27;encoder&#x27;,\n",
       "                                                  OrdinalEncoder(categories=[[1,\n",
       "                                                                              2,\n",
       "                                                                              3],\n",
       "                                                                             [1,\n",
       "                                                                              2,\n",
       "                                                                              3]]))]),\n",
       "                                 [&#x27;Education&#x27;, &#x27;PaymentTier&#x27;])])</pre></div></div></div><div class=\"sk-parallel\"><div class=\"sk-parallel-item\"><div class=\"sk-item\"><div class=\"sk-label-container\"><div class=\"sk-label sk-toggleable\"><input class=\"sk-toggleable__control sk-hidden--visually\" id=\"sk-estimator-id-128\" type=\"checkbox\" ><label for=\"sk-estimator-id-128\" class=\"sk-toggleable__label sk-toggleable__label-arrow\">num</label><div class=\"sk-toggleable__content\"><pre>[&#x27;JoiningYear&#x27;]</pre></div></div></div><div class=\"sk-serial\"><div class=\"sk-item\"><div class=\"sk-serial\"><div class=\"sk-item\"><div class=\"sk-estimator sk-toggleable\"><input class=\"sk-toggleable__control sk-hidden--visually\" id=\"sk-estimator-id-129\" type=\"checkbox\" ><label for=\"sk-estimator-id-129\" class=\"sk-toggleable__label sk-toggleable__label-arrow\">StandardScaler</label><div class=\"sk-toggleable__content\"><pre>StandardScaler()</pre></div></div></div></div></div></div></div></div><div class=\"sk-parallel-item\"><div class=\"sk-item\"><div class=\"sk-label-container\"><div class=\"sk-label sk-toggleable\"><input class=\"sk-toggleable__control sk-hidden--visually\" id=\"sk-estimator-id-130\" type=\"checkbox\" ><label for=\"sk-estimator-id-130\" class=\"sk-toggleable__label sk-toggleable__label-arrow\">cat</label><div class=\"sk-toggleable__content\"><pre>[&#x27;Age&#x27;, &#x27;ExperienceInCurrentDomain&#x27;, &#x27;EverBenched&#x27;]</pre></div></div></div><div class=\"sk-serial\"><div class=\"sk-item\"><div class=\"sk-serial\"><div class=\"sk-item\"><div class=\"sk-estimator sk-toggleable\"><input class=\"sk-toggleable__control sk-hidden--visually\" id=\"sk-estimator-id-131\" type=\"checkbox\" ><label for=\"sk-estimator-id-131\" class=\"sk-toggleable__label sk-toggleable__label-arrow\">OneHotEncoder</label><div class=\"sk-toggleable__content\"><pre>OneHotEncoder()</pre></div></div></div></div></div></div></div></div><div class=\"sk-parallel-item\"><div class=\"sk-item\"><div class=\"sk-label-container\"><div class=\"sk-label sk-toggleable\"><input class=\"sk-toggleable__control sk-hidden--visually\" id=\"sk-estimator-id-132\" type=\"checkbox\" ><label for=\"sk-estimator-id-132\" class=\"sk-toggleable__label sk-toggleable__label-arrow\">cato</label><div class=\"sk-toggleable__content\"><pre>[&#x27;Education&#x27;, &#x27;PaymentTier&#x27;]</pre></div></div></div><div class=\"sk-serial\"><div class=\"sk-item\"><div class=\"sk-serial\"><div class=\"sk-item\"><div class=\"sk-estimator sk-toggleable\"><input class=\"sk-toggleable__control sk-hidden--visually\" id=\"sk-estimator-id-133\" type=\"checkbox\" ><label for=\"sk-estimator-id-133\" class=\"sk-toggleable__label sk-toggleable__label-arrow\">OrdinalEncoder</label><div class=\"sk-toggleable__content\"><pre>OrdinalEncoder(categories=[[1, 2, 3], [1, 2, 3]])</pre></div></div></div></div></div></div></div></div></div></div><div class=\"sk-item\"><div class=\"sk-estimator sk-toggleable\"><input class=\"sk-toggleable__control sk-hidden--visually\" id=\"sk-estimator-id-134\" type=\"checkbox\" ><label for=\"sk-estimator-id-134\" class=\"sk-toggleable__label sk-toggleable__label-arrow\">KNeighborsClassifier</label><div class=\"sk-toggleable__content\"><pre>KNeighborsClassifier()</pre></div></div></div></div></div></div></div>"
      ],
      "text/plain": [
       "Pipeline(steps=[('preprocessor',\n",
       "                 ColumnTransformer(transformers=[('num',\n",
       "                                                  Pipeline(steps=[('scaler',\n",
       "                                                                   StandardScaler())]),\n",
       "                                                  ['JoiningYear']),\n",
       "                                                 ('cat',\n",
       "                                                  Pipeline(steps=[('encodern',\n",
       "                                                                   OneHotEncoder())]),\n",
       "                                                  ['Age',\n",
       "                                                   'ExperienceInCurrentDomain',\n",
       "                                                   'EverBenched']),\n",
       "                                                 ('cato',\n",
       "                                                  Pipeline(steps=[('encoder',\n",
       "                                                                   OrdinalEncoder(categories=[[1,\n",
       "                                                                                               2,\n",
       "                                                                                               3],\n",
       "                                                                                              [1,\n",
       "                                                                                               2,\n",
       "                                                                                               3]]))]),\n",
       "                                                  ['Education',\n",
       "                                                   'PaymentTier'])])),\n",
       "                ('classifier', KNeighborsClassifier())])"
      ]
     },
     "execution_count": 151,
     "metadata": {},
     "output_type": "execute_result"
    }
   ],
   "source": [
    "pipeline_cls1.fit(X_train, y_train)"
   ]
  },
  {
   "cell_type": "markdown",
   "metadata": {},
   "source": [
    "## 7.6 Boosting"
   ]
  },
  {
   "cell_type": "code",
   "execution_count": 152,
   "metadata": {},
   "outputs": [
    {
     "data": {
      "text/html": [
       "<style>#sk-container-id-31 {color: black;}#sk-container-id-31 pre{padding: 0;}#sk-container-id-31 div.sk-toggleable {background-color: white;}#sk-container-id-31 label.sk-toggleable__label {cursor: pointer;display: block;width: 100%;margin-bottom: 0;padding: 0.3em;box-sizing: border-box;text-align: center;}#sk-container-id-31 label.sk-toggleable__label-arrow:before {content: \"▸\";float: left;margin-right: 0.25em;color: #696969;}#sk-container-id-31 label.sk-toggleable__label-arrow:hover:before {color: black;}#sk-container-id-31 div.sk-estimator:hover label.sk-toggleable__label-arrow:before {color: black;}#sk-container-id-31 div.sk-toggleable__content {max-height: 0;max-width: 0;overflow: hidden;text-align: left;background-color: #f0f8ff;}#sk-container-id-31 div.sk-toggleable__content pre {margin: 0.2em;color: black;border-radius: 0.25em;background-color: #f0f8ff;}#sk-container-id-31 input.sk-toggleable__control:checked~div.sk-toggleable__content {max-height: 200px;max-width: 100%;overflow: auto;}#sk-container-id-31 input.sk-toggleable__control:checked~label.sk-toggleable__label-arrow:before {content: \"▾\";}#sk-container-id-31 div.sk-estimator input.sk-toggleable__control:checked~label.sk-toggleable__label {background-color: #d4ebff;}#sk-container-id-31 div.sk-label input.sk-toggleable__control:checked~label.sk-toggleable__label {background-color: #d4ebff;}#sk-container-id-31 input.sk-hidden--visually {border: 0;clip: rect(1px 1px 1px 1px);clip: rect(1px, 1px, 1px, 1px);height: 1px;margin: -1px;overflow: hidden;padding: 0;position: absolute;width: 1px;}#sk-container-id-31 div.sk-estimator {font-family: monospace;background-color: #f0f8ff;border: 1px dotted black;border-radius: 0.25em;box-sizing: border-box;margin-bottom: 0.5em;}#sk-container-id-31 div.sk-estimator:hover {background-color: #d4ebff;}#sk-container-id-31 div.sk-parallel-item::after {content: \"\";width: 100%;border-bottom: 1px solid gray;flex-grow: 1;}#sk-container-id-31 div.sk-label:hover label.sk-toggleable__label {background-color: #d4ebff;}#sk-container-id-31 div.sk-serial::before {content: \"\";position: absolute;border-left: 1px solid gray;box-sizing: border-box;top: 0;bottom: 0;left: 50%;z-index: 0;}#sk-container-id-31 div.sk-serial {display: flex;flex-direction: column;align-items: center;background-color: white;padding-right: 0.2em;padding-left: 0.2em;position: relative;}#sk-container-id-31 div.sk-item {position: relative;z-index: 1;}#sk-container-id-31 div.sk-parallel {display: flex;align-items: stretch;justify-content: center;background-color: white;position: relative;}#sk-container-id-31 div.sk-item::before, #sk-container-id-31 div.sk-parallel-item::before {content: \"\";position: absolute;border-left: 1px solid gray;box-sizing: border-box;top: 0;bottom: 0;left: 50%;z-index: -1;}#sk-container-id-31 div.sk-parallel-item {display: flex;flex-direction: column;z-index: 1;position: relative;background-color: white;}#sk-container-id-31 div.sk-parallel-item:first-child::after {align-self: flex-end;width: 50%;}#sk-container-id-31 div.sk-parallel-item:last-child::after {align-self: flex-start;width: 50%;}#sk-container-id-31 div.sk-parallel-item:only-child::after {width: 0;}#sk-container-id-31 div.sk-dashed-wrapped {border: 1px dashed gray;margin: 0 0.4em 0.5em 0.4em;box-sizing: border-box;padding-bottom: 0.4em;background-color: white;}#sk-container-id-31 div.sk-label label {font-family: monospace;font-weight: bold;display: inline-block;line-height: 1.2em;}#sk-container-id-31 div.sk-label-container {text-align: center;}#sk-container-id-31 div.sk-container {/* jupyter's `normalize.less` sets `[hidden] { display: none; }` but bootstrap.min.css set `[hidden] { display: none !important; }` so we also need the `!important` here to be able to override the default hidden behavior on the sphinx rendered scikit-learn.org. See: https://github.com/scikit-learn/scikit-learn/issues/21755 */display: inline-block !important;position: relative;}#sk-container-id-31 div.sk-text-repr-fallback {display: none;}</style><div id=\"sk-container-id-31\" class=\"sk-top-container\"><div class=\"sk-text-repr-fallback\"><pre>AdaBoostClassifier()</pre><b>In a Jupyter environment, please rerun this cell to show the HTML representation or trust the notebook. <br />On GitHub, the HTML representation is unable to render, please try loading this page with nbviewer.org.</b></div><div class=\"sk-container\" hidden><div class=\"sk-item\"><div class=\"sk-estimator sk-toggleable\"><input class=\"sk-toggleable__control sk-hidden--visually\" id=\"sk-estimator-id-135\" type=\"checkbox\" checked><label for=\"sk-estimator-id-135\" class=\"sk-toggleable__label sk-toggleable__label-arrow\">AdaBoostClassifier</label><div class=\"sk-toggleable__content\"><pre>AdaBoostClassifier()</pre></div></div></div></div></div>"
      ],
      "text/plain": [
       "AdaBoostClassifier()"
      ]
     },
     "execution_count": 152,
     "metadata": {},
     "output_type": "execute_result"
    }
   ],
   "source": [
    "ada_clf.fit(X_train_final, y_train)"
   ]
  },
  {
   "cell_type": "code",
   "execution_count": 153,
   "metadata": {},
   "outputs": [
    {
     "data": {
      "text/html": [
       "<style>#sk-container-id-32 {color: black;}#sk-container-id-32 pre{padding: 0;}#sk-container-id-32 div.sk-toggleable {background-color: white;}#sk-container-id-32 label.sk-toggleable__label {cursor: pointer;display: block;width: 100%;margin-bottom: 0;padding: 0.3em;box-sizing: border-box;text-align: center;}#sk-container-id-32 label.sk-toggleable__label-arrow:before {content: \"▸\";float: left;margin-right: 0.25em;color: #696969;}#sk-container-id-32 label.sk-toggleable__label-arrow:hover:before {color: black;}#sk-container-id-32 div.sk-estimator:hover label.sk-toggleable__label-arrow:before {color: black;}#sk-container-id-32 div.sk-toggleable__content {max-height: 0;max-width: 0;overflow: hidden;text-align: left;background-color: #f0f8ff;}#sk-container-id-32 div.sk-toggleable__content pre {margin: 0.2em;color: black;border-radius: 0.25em;background-color: #f0f8ff;}#sk-container-id-32 input.sk-toggleable__control:checked~div.sk-toggleable__content {max-height: 200px;max-width: 100%;overflow: auto;}#sk-container-id-32 input.sk-toggleable__control:checked~label.sk-toggleable__label-arrow:before {content: \"▾\";}#sk-container-id-32 div.sk-estimator input.sk-toggleable__control:checked~label.sk-toggleable__label {background-color: #d4ebff;}#sk-container-id-32 div.sk-label input.sk-toggleable__control:checked~label.sk-toggleable__label {background-color: #d4ebff;}#sk-container-id-32 input.sk-hidden--visually {border: 0;clip: rect(1px 1px 1px 1px);clip: rect(1px, 1px, 1px, 1px);height: 1px;margin: -1px;overflow: hidden;padding: 0;position: absolute;width: 1px;}#sk-container-id-32 div.sk-estimator {font-family: monospace;background-color: #f0f8ff;border: 1px dotted black;border-radius: 0.25em;box-sizing: border-box;margin-bottom: 0.5em;}#sk-container-id-32 div.sk-estimator:hover {background-color: #d4ebff;}#sk-container-id-32 div.sk-parallel-item::after {content: \"\";width: 100%;border-bottom: 1px solid gray;flex-grow: 1;}#sk-container-id-32 div.sk-label:hover label.sk-toggleable__label {background-color: #d4ebff;}#sk-container-id-32 div.sk-serial::before {content: \"\";position: absolute;border-left: 1px solid gray;box-sizing: border-box;top: 0;bottom: 0;left: 50%;z-index: 0;}#sk-container-id-32 div.sk-serial {display: flex;flex-direction: column;align-items: center;background-color: white;padding-right: 0.2em;padding-left: 0.2em;position: relative;}#sk-container-id-32 div.sk-item {position: relative;z-index: 1;}#sk-container-id-32 div.sk-parallel {display: flex;align-items: stretch;justify-content: center;background-color: white;position: relative;}#sk-container-id-32 div.sk-item::before, #sk-container-id-32 div.sk-parallel-item::before {content: \"\";position: absolute;border-left: 1px solid gray;box-sizing: border-box;top: 0;bottom: 0;left: 50%;z-index: -1;}#sk-container-id-32 div.sk-parallel-item {display: flex;flex-direction: column;z-index: 1;position: relative;background-color: white;}#sk-container-id-32 div.sk-parallel-item:first-child::after {align-self: flex-end;width: 50%;}#sk-container-id-32 div.sk-parallel-item:last-child::after {align-self: flex-start;width: 50%;}#sk-container-id-32 div.sk-parallel-item:only-child::after {width: 0;}#sk-container-id-32 div.sk-dashed-wrapped {border: 1px dashed gray;margin: 0 0.4em 0.5em 0.4em;box-sizing: border-box;padding-bottom: 0.4em;background-color: white;}#sk-container-id-32 div.sk-label label {font-family: monospace;font-weight: bold;display: inline-block;line-height: 1.2em;}#sk-container-id-32 div.sk-label-container {text-align: center;}#sk-container-id-32 div.sk-container {/* jupyter's `normalize.less` sets `[hidden] { display: none; }` but bootstrap.min.css set `[hidden] { display: none !important; }` so we also need the `!important` here to be able to override the default hidden behavior on the sphinx rendered scikit-learn.org. See: https://github.com/scikit-learn/scikit-learn/issues/21755 */display: inline-block !important;position: relative;}#sk-container-id-32 div.sk-text-repr-fallback {display: none;}</style><div id=\"sk-container-id-32\" class=\"sk-top-container\"><div class=\"sk-text-repr-fallback\"><pre>Pipeline(steps=[(&#x27;preprocessor&#x27;,\n",
       "                 ColumnTransformer(transformers=[(&#x27;num&#x27;,\n",
       "                                                  Pipeline(steps=[(&#x27;scaler&#x27;,\n",
       "                                                                   StandardScaler())]),\n",
       "                                                  [&#x27;JoiningYear&#x27;]),\n",
       "                                                 (&#x27;cat&#x27;,\n",
       "                                                  Pipeline(steps=[(&#x27;encodern&#x27;,\n",
       "                                                                   OneHotEncoder())]),\n",
       "                                                  [&#x27;Age&#x27;,\n",
       "                                                   &#x27;ExperienceInCurrentDomain&#x27;,\n",
       "                                                   &#x27;EverBenched&#x27;]),\n",
       "                                                 (&#x27;cato&#x27;,\n",
       "                                                  Pipeline(steps=[(&#x27;encoder&#x27;,\n",
       "                                                                   OrdinalEncoder(categories=[[1,\n",
       "                                                                                               2,\n",
       "                                                                                               3],\n",
       "                                                                                              [1,\n",
       "                                                                                               2,\n",
       "                                                                                               3]]))]),\n",
       "                                                  [&#x27;Education&#x27;,\n",
       "                                                   &#x27;PaymentTier&#x27;])])),\n",
       "                (&#x27;classifier&#x27;, AdaBoostClassifier())])</pre><b>In a Jupyter environment, please rerun this cell to show the HTML representation or trust the notebook. <br />On GitHub, the HTML representation is unable to render, please try loading this page with nbviewer.org.</b></div><div class=\"sk-container\" hidden><div class=\"sk-item sk-dashed-wrapped\"><div class=\"sk-label-container\"><div class=\"sk-label sk-toggleable\"><input class=\"sk-toggleable__control sk-hidden--visually\" id=\"sk-estimator-id-136\" type=\"checkbox\" ><label for=\"sk-estimator-id-136\" class=\"sk-toggleable__label sk-toggleable__label-arrow\">Pipeline</label><div class=\"sk-toggleable__content\"><pre>Pipeline(steps=[(&#x27;preprocessor&#x27;,\n",
       "                 ColumnTransformer(transformers=[(&#x27;num&#x27;,\n",
       "                                                  Pipeline(steps=[(&#x27;scaler&#x27;,\n",
       "                                                                   StandardScaler())]),\n",
       "                                                  [&#x27;JoiningYear&#x27;]),\n",
       "                                                 (&#x27;cat&#x27;,\n",
       "                                                  Pipeline(steps=[(&#x27;encodern&#x27;,\n",
       "                                                                   OneHotEncoder())]),\n",
       "                                                  [&#x27;Age&#x27;,\n",
       "                                                   &#x27;ExperienceInCurrentDomain&#x27;,\n",
       "                                                   &#x27;EverBenched&#x27;]),\n",
       "                                                 (&#x27;cato&#x27;,\n",
       "                                                  Pipeline(steps=[(&#x27;encoder&#x27;,\n",
       "                                                                   OrdinalEncoder(categories=[[1,\n",
       "                                                                                               2,\n",
       "                                                                                               3],\n",
       "                                                                                              [1,\n",
       "                                                                                               2,\n",
       "                                                                                               3]]))]),\n",
       "                                                  [&#x27;Education&#x27;,\n",
       "                                                   &#x27;PaymentTier&#x27;])])),\n",
       "                (&#x27;classifier&#x27;, AdaBoostClassifier())])</pre></div></div></div><div class=\"sk-serial\"><div class=\"sk-item sk-dashed-wrapped\"><div class=\"sk-label-container\"><div class=\"sk-label sk-toggleable\"><input class=\"sk-toggleable__control sk-hidden--visually\" id=\"sk-estimator-id-137\" type=\"checkbox\" ><label for=\"sk-estimator-id-137\" class=\"sk-toggleable__label sk-toggleable__label-arrow\">preprocessor: ColumnTransformer</label><div class=\"sk-toggleable__content\"><pre>ColumnTransformer(transformers=[(&#x27;num&#x27;,\n",
       "                                 Pipeline(steps=[(&#x27;scaler&#x27;, StandardScaler())]),\n",
       "                                 [&#x27;JoiningYear&#x27;]),\n",
       "                                (&#x27;cat&#x27;,\n",
       "                                 Pipeline(steps=[(&#x27;encodern&#x27;,\n",
       "                                                  OneHotEncoder())]),\n",
       "                                 [&#x27;Age&#x27;, &#x27;ExperienceInCurrentDomain&#x27;,\n",
       "                                  &#x27;EverBenched&#x27;]),\n",
       "                                (&#x27;cato&#x27;,\n",
       "                                 Pipeline(steps=[(&#x27;encoder&#x27;,\n",
       "                                                  OrdinalEncoder(categories=[[1,\n",
       "                                                                              2,\n",
       "                                                                              3],\n",
       "                                                                             [1,\n",
       "                                                                              2,\n",
       "                                                                              3]]))]),\n",
       "                                 [&#x27;Education&#x27;, &#x27;PaymentTier&#x27;])])</pre></div></div></div><div class=\"sk-parallel\"><div class=\"sk-parallel-item\"><div class=\"sk-item\"><div class=\"sk-label-container\"><div class=\"sk-label sk-toggleable\"><input class=\"sk-toggleable__control sk-hidden--visually\" id=\"sk-estimator-id-138\" type=\"checkbox\" ><label for=\"sk-estimator-id-138\" class=\"sk-toggleable__label sk-toggleable__label-arrow\">num</label><div class=\"sk-toggleable__content\"><pre>[&#x27;JoiningYear&#x27;]</pre></div></div></div><div class=\"sk-serial\"><div class=\"sk-item\"><div class=\"sk-serial\"><div class=\"sk-item\"><div class=\"sk-estimator sk-toggleable\"><input class=\"sk-toggleable__control sk-hidden--visually\" id=\"sk-estimator-id-139\" type=\"checkbox\" ><label for=\"sk-estimator-id-139\" class=\"sk-toggleable__label sk-toggleable__label-arrow\">StandardScaler</label><div class=\"sk-toggleable__content\"><pre>StandardScaler()</pre></div></div></div></div></div></div></div></div><div class=\"sk-parallel-item\"><div class=\"sk-item\"><div class=\"sk-label-container\"><div class=\"sk-label sk-toggleable\"><input class=\"sk-toggleable__control sk-hidden--visually\" id=\"sk-estimator-id-140\" type=\"checkbox\" ><label for=\"sk-estimator-id-140\" class=\"sk-toggleable__label sk-toggleable__label-arrow\">cat</label><div class=\"sk-toggleable__content\"><pre>[&#x27;Age&#x27;, &#x27;ExperienceInCurrentDomain&#x27;, &#x27;EverBenched&#x27;]</pre></div></div></div><div class=\"sk-serial\"><div class=\"sk-item\"><div class=\"sk-serial\"><div class=\"sk-item\"><div class=\"sk-estimator sk-toggleable\"><input class=\"sk-toggleable__control sk-hidden--visually\" id=\"sk-estimator-id-141\" type=\"checkbox\" ><label for=\"sk-estimator-id-141\" class=\"sk-toggleable__label sk-toggleable__label-arrow\">OneHotEncoder</label><div class=\"sk-toggleable__content\"><pre>OneHotEncoder()</pre></div></div></div></div></div></div></div></div><div class=\"sk-parallel-item\"><div class=\"sk-item\"><div class=\"sk-label-container\"><div class=\"sk-label sk-toggleable\"><input class=\"sk-toggleable__control sk-hidden--visually\" id=\"sk-estimator-id-142\" type=\"checkbox\" ><label for=\"sk-estimator-id-142\" class=\"sk-toggleable__label sk-toggleable__label-arrow\">cato</label><div class=\"sk-toggleable__content\"><pre>[&#x27;Education&#x27;, &#x27;PaymentTier&#x27;]</pre></div></div></div><div class=\"sk-serial\"><div class=\"sk-item\"><div class=\"sk-serial\"><div class=\"sk-item\"><div class=\"sk-estimator sk-toggleable\"><input class=\"sk-toggleable__control sk-hidden--visually\" id=\"sk-estimator-id-143\" type=\"checkbox\" ><label for=\"sk-estimator-id-143\" class=\"sk-toggleable__label sk-toggleable__label-arrow\">OrdinalEncoder</label><div class=\"sk-toggleable__content\"><pre>OrdinalEncoder(categories=[[1, 2, 3], [1, 2, 3]])</pre></div></div></div></div></div></div></div></div></div></div><div class=\"sk-item\"><div class=\"sk-estimator sk-toggleable\"><input class=\"sk-toggleable__control sk-hidden--visually\" id=\"sk-estimator-id-144\" type=\"checkbox\" ><label for=\"sk-estimator-id-144\" class=\"sk-toggleable__label sk-toggleable__label-arrow\">AdaBoostClassifier</label><div class=\"sk-toggleable__content\"><pre>AdaBoostClassifier()</pre></div></div></div></div></div></div></div>"
      ],
      "text/plain": [
       "Pipeline(steps=[('preprocessor',\n",
       "                 ColumnTransformer(transformers=[('num',\n",
       "                                                  Pipeline(steps=[('scaler',\n",
       "                                                                   StandardScaler())]),\n",
       "                                                  ['JoiningYear']),\n",
       "                                                 ('cat',\n",
       "                                                  Pipeline(steps=[('encodern',\n",
       "                                                                   OneHotEncoder())]),\n",
       "                                                  ['Age',\n",
       "                                                   'ExperienceInCurrentDomain',\n",
       "                                                   'EverBenched']),\n",
       "                                                 ('cato',\n",
       "                                                  Pipeline(steps=[('encoder',\n",
       "                                                                   OrdinalEncoder(categories=[[1,\n",
       "                                                                                               2,\n",
       "                                                                                               3],\n",
       "                                                                                              [1,\n",
       "                                                                                               2,\n",
       "                                                                                               3]]))]),\n",
       "                                                  ['Education',\n",
       "                                                   'PaymentTier'])])),\n",
       "                ('classifier', AdaBoostClassifier())])"
      ]
     },
     "execution_count": 153,
     "metadata": {},
     "output_type": "execute_result"
    }
   ],
   "source": [
    "pipeline_ada.fit(X_train, y_train)"
   ]
  },
  {
   "cell_type": "markdown",
   "metadata": {},
   "source": [
    "# 8. Model Evaluation"
   ]
  },
  {
   "cell_type": "markdown",
   "metadata": {},
   "source": [
    " Metric yang di gunakan pada penelitian ini adalah precision, Precision dapat mengukur sejauh mana karyawan yang diprediksi berhenti benar-benar berhenti. Ini bermanfaat ketika menghindari kesalahan mengklasifikasikan karyawan yang sebenarnya tidak resign."
   ]
  },
  {
   "cell_type": "markdown",
   "metadata": {},
   "source": [
    "## 8.1 Logistic Regression"
   ]
  },
  {
   "cell_type": "code",
   "execution_count": 154,
   "metadata": {},
   "outputs": [],
   "source": [
    "y_pred_train_log = log_model.predict(X_train_final)\n",
    "y_pred_test_log = log_model.predict(X_test_final)"
   ]
  },
  {
   "cell_type": "code",
   "execution_count": 155,
   "metadata": {},
   "outputs": [
    {
     "name": "stdout",
     "output_type": "stream",
     "text": [
      "Precision Score - All - Cross Validation  :  [0.49122807 0.49565217 0.46428571 0.5625     0.5648855 ]\n",
      "Precision Score - Mean - Cross Validation :  0.5157102909114805\n",
      "Precision Score - Std - Cross Validation  :  0.04062923076046409\n",
      "Precision Score - Range of Test-Set       :  0.47508106015101637 - 0.5563395216719446\n"
     ]
    }
   ],
   "source": [
    "pre_score_train_cross_val_log = cross_val_score(log_model, \n",
    "                                           X_train_final, \n",
    "                                           y_train, \n",
    "                                           cv=5,\n",
    "                                           scoring='precision')\n",
    "\n",
    "print('Precision Score - All - Cross Validation  : ', pre_score_train_cross_val_log)\n",
    "print('Precision Score - Mean - Cross Validation : ', pre_score_train_cross_val_log.mean())\n",
    "print('Precision Score - Std - Cross Validation  : ', pre_score_train_cross_val_log.std())\n",
    "print('Precision Score - Range of Test-Set       : ', (pre_score_train_cross_val_log.mean()-pre_score_train_cross_val_log.std()) ,\n",
    "                                         '-', (pre_score_train_cross_val_log.mean()+pre_score_train_cross_val_log.std()))"
   ]
  },
  {
   "cell_type": "code",
   "execution_count": 156,
   "metadata": {},
   "outputs": [
    {
     "name": "stdout",
     "output_type": "stream",
     "text": [
      "Accuracy Score\n",
      "Train Score: 0.6577109081139173\n",
      "Test Score: 0.677765843179377\n",
      "\n",
      "Precision Score\n",
      "Train Precision: 0.5260663507109005\n",
      "Test Precision: 0.4782608695652174\n",
      "\n",
      "TEST PERFORMANCE\n",
      "              precision    recall  f1-score   support\n",
      "\n",
      "           0       0.72      0.87      0.79       638\n",
      "           1       0.48      0.26      0.34       293\n",
      "\n",
      "    accuracy                           0.68       931\n",
      "   macro avg       0.60      0.57      0.56       931\n",
      "weighted avg       0.64      0.68      0.65       931\n",
      "\n"
     ]
    }
   ],
   "source": [
    "print(\"Accuracy Score\")\n",
    "logistic_train_score = log_model.score(X_train_final, y_train)\n",
    "logistic_test_score = log_model.score(X_test_final, y_test)\n",
    "\n",
    "print('Train Score: {0}\\nTest Score: {1}'.format(logistic_train_score, logistic_test_score))\n",
    "print(\"\")\n",
    "print(\"Precision Score\")\n",
    "train_precision_log = precision_score(y_train, y_pred_train_log)\n",
    "test_precision_log = precision_score(y_test,y_pred_test_log)\n",
    "\n",
    "print('Train Precision: {0}\\nTest Precision: {1}'.format(train_precision_log, test_precision_log))\n",
    "print(\"\")\n",
    "print(\"TEST PERFORMANCE\")\n",
    "print(classification_report(y_test,y_pred_test_log))"
   ]
  },
  {
   "cell_type": "code",
   "execution_count": 157,
   "metadata": {},
   "outputs": [
    {
     "data": {
      "image/png": "[encoded data removed]",
      "text/plain": [
       "<Figure size 640x480 with 2 Axes>"
      ]
     },
     "metadata": {},
     "output_type": "display_data"
    }
   ],
   "source": [
    "cm_log = confusion_matrix(y_test, y_pred_test_log, labels=log_model.classes_)\n",
    "disp = ConfusionMatrixDisplay(confusion_matrix=cm_log,display_labels=log_model.classes_)\n",
    "\n",
    "disp.plot()\n",
    "plt.show()"
   ]
  },
  {
   "cell_type": "markdown",
   "metadata": {},
   "source": [
    "### 8.1.1 Pipeline Logistic Regression"
   ]
  },
  {
   "cell_type": "code",
   "execution_count": 158,
   "metadata": {},
   "outputs": [],
   "source": [
    "y_pred_train_log_pipe = pipeline_log.predict(X_train)\n",
    "y_pred_test_log_pipe = pipeline_log.predict(X_test)"
   ]
  },
  {
   "cell_type": "code",
   "execution_count": 159,
   "metadata": {},
   "outputs": [
    {
     "name": "stdout",
     "output_type": "stream",
     "text": [
      "Precision Score - All - Pipeline     :  [0.49122807 0.49565217 0.46428571 0.5625     0.5648855 ]\n",
      "Precision Score - Mean - Pipeline    :  0.5157102909114805\n",
      "Precision Score - Std - Pipeline     :  0.04062923076046409\n",
      "Precision Score - Range of Test-Set  :  0.47508106015101637 - 0.5563395216719446\n"
     ]
    }
   ],
   "source": [
    "pre_score_train_pipe_log = cross_val_score(pipeline_log, \n",
    "                                           X_train, \n",
    "                                           y_train, \n",
    "                                           cv=5,\n",
    "                                           scoring='precision')\n",
    "\n",
    "print('Precision Score - All - Pipeline     : ', pre_score_train_pipe_log)\n",
    "print('Precision Score - Mean - Pipeline    : ', pre_score_train_pipe_log.mean())\n",
    "print('Precision Score - Std - Pipeline     : ', pre_score_train_pipe_log.std())\n",
    "print('Precision Score - Range of Test-Set  : ', (pre_score_train_pipe_log.mean()-pre_score_train_pipe_log.std()) ,\n",
    "                                         '-', (pre_score_train_pipe_log.mean()+pre_score_train_pipe_log.std()))"
   ]
  },
  {
   "cell_type": "code",
   "execution_count": 160,
   "metadata": {},
   "outputs": [
    {
     "name": "stdout",
     "output_type": "stream",
     "text": [
      "Accuracy Score\n",
      "Train Score: 0.6577109081139173\n",
      "Test Score: 0.677765843179377\n",
      "\n",
      "Precision Score\n",
      "Train Precision: 0.5260663507109005\n",
      "Test Precision: 0.5260663507109005\n",
      "\n",
      "TEST PERFORMANCE\n",
      "              precision    recall  f1-score   support\n",
      "\n",
      "           0       0.72      0.87      0.79       638\n",
      "           1       0.48      0.26      0.34       293\n",
      "\n",
      "    accuracy                           0.68       931\n",
      "   macro avg       0.60      0.57      0.56       931\n",
      "weighted avg       0.64      0.68      0.65       931\n",
      "\n"
     ]
    }
   ],
   "source": [
    "print(\"Accuracy Score\")\n",
    "logpipe_train_score = pipeline_log.score(X_train, y_train)\n",
    "logpipe_test_score = pipeline_log.score(X_test, y_test)\n",
    "\n",
    "print('Train Score: {0}\\nTest Score: {1}'.format(logpipe_train_score, logpipe_test_score))\n",
    "print(\"\")\n",
    "print(\"Precision Score\")\n",
    "train_precision_log_pipe = precision_score(y_train, y_pred_train_log_pipe)\n",
    "test_precision_log_pipe = precision_score(y_test,y_pred_test_log_pipe)\n",
    "\n",
    "print('Train Precision: {0}\\nTest Precision: {1}'.format(train_precision_log_pipe, train_precision_log_pipe))\n",
    "print(\"\")\n",
    "print(\"TEST PERFORMANCE\")\n",
    "print(classification_report(y_test,y_pred_test_log_pipe))"
   ]
  },
  {
   "cell_type": "markdown",
   "metadata": {},
   "source": [
    "## 8.2 SVM"
   ]
  },
  {
   "cell_type": "code",
   "execution_count": 161,
   "metadata": {},
   "outputs": [],
   "source": [
    "y_pred_train_svc = svc.predict(X_train_final)\n",
    "y_pred_test_svc = svc.predict(X_test_final)"
   ]
  },
  {
   "cell_type": "code",
   "execution_count": 162,
   "metadata": {},
   "outputs": [
    {
     "name": "stdout",
     "output_type": "stream",
     "text": [
      "Precision Score - All - Cross Validation  :  [0.82312925 0.83928571 0.80113636 0.82638889 0.85057471]\n",
      "Precision Score - Mean - Cross Validation :  0.8281029862310649\n",
      "Precision Score - Std - Cross Validation  :  0.016642756945589445\n",
      "Precision Score - Range of Test-Set       :  0.8114602292854755 - 0.8447457431766544\n"
     ]
    }
   ],
   "source": [
    "pre_score_train_cross_val_svc = cross_val_score(svc, \n",
    "                                           X_train_final, \n",
    "                                           y_train, \n",
    "                                           cv=5,\n",
    "                                           scoring='precision')\n",
    "\n",
    "print('Precision Score - All - Cross Validation  : ', pre_score_train_cross_val_svc)\n",
    "print('Precision Score - Mean - Cross Validation : ', pre_score_train_cross_val_svc.mean())\n",
    "print('Precision Score - Std - Cross Validation  : ', pre_score_train_cross_val_svc.std())\n",
    "print('Precision Score - Range of Test-Set       : ', (pre_score_train_cross_val_svc.mean()-pre_score_train_cross_val_svc.std()) ,\n",
    "                                         '-', (pre_score_train_cross_val_svc.mean()+pre_score_train_cross_val_svc.std()))"
   ]
  },
  {
   "cell_type": "code",
   "execution_count": 163,
   "metadata": {},
   "outputs": [
    {
     "name": "stdout",
     "output_type": "stream",
     "text": [
      "Accuracy Score\n",
      "Train Score: 0.8092423428264374\n",
      "Test Score: 0.8163265306122449\n",
      "\n",
      "Precision Score\n",
      "Train Precision: 0.8698884758364313\n",
      "Test Precision: 0.824468085106383\n",
      "\n",
      "TEST PERFORMANCE\n",
      "              precision    recall  f1-score   support\n",
      "\n",
      "           0       0.81      0.95      0.88       638\n",
      "           1       0.82      0.53      0.64       293\n",
      "\n",
      "    accuracy                           0.82       931\n",
      "   macro avg       0.82      0.74      0.76       931\n",
      "weighted avg       0.82      0.82      0.80       931\n",
      "\n"
     ]
    }
   ],
   "source": [
    "print(\"Accuracy Score\")\n",
    "svc_train_score = svc.score(X_train_final, y_train)\n",
    "svc_test_score = svc.score(X_test_final, y_test)\n",
    "\n",
    "print('Train Score: {0}\\nTest Score: {1}'.format(svc_train_score, svc_test_score))\n",
    "print(\"\")\n",
    "print(\"Precision Score\")\n",
    "train_precision_svc = precision_score(y_train, y_pred_train_svc)\n",
    "test_precision_svc = precision_score(y_test, y_pred_test_svc)\n",
    "\n",
    "print('Train Precision: {0}\\nTest Precision: {1}'.format(train_precision_svc, test_precision_svc))\n",
    "print(\"\")\n",
    "\n",
    "print(\"TEST PERFORMANCE\")\n",
    "print(classification_report(y_test,y_pred_test_svc))"
   ]
  },
  {
   "cell_type": "code",
   "execution_count": 164,
   "metadata": {},
   "outputs": [
    {
     "data": {
      "image/png": "[encoded data removed]",
      "text/plain": [
       "<Figure size 640x480 with 2 Axes>"
      ]
     },
     "metadata": {},
     "output_type": "display_data"
    }
   ],
   "source": [
    "cm_svc = confusion_matrix(y_test, y_pred_test_svc, labels=svc.classes_)\n",
    "disp = ConfusionMatrixDisplay(confusion_matrix=cm_svc,display_labels=svc.classes_)\n",
    "\n",
    "disp.plot()\n",
    "plt.show()"
   ]
  },
  {
   "cell_type": "markdown",
   "metadata": {},
   "source": [
    "### 8.2.1 Pipeline SVM"
   ]
  },
  {
   "cell_type": "code",
   "execution_count": 165,
   "metadata": {},
   "outputs": [],
   "source": [
    "y_pred_train_svc_pipe = pipeline_svm.predict(X_train)\n",
    "y_pred_test_svc_pipe = pipeline_svm.predict(X_test)"
   ]
  },
  {
   "cell_type": "code",
   "execution_count": 166,
   "metadata": {},
   "outputs": [
    {
     "name": "stdout",
     "output_type": "stream",
     "text": [
      "Precision Score - All - Pipeline     :  [0.82312925 0.83928571 0.78888889 0.82638889 0.85057471]\n",
      "Precision Score - Mean - Pipeline    :  0.8256534912815701\n",
      "Precision Score - Std - Pipeline     :  0.020810830653332564\n",
      "Precision Score - Range of Test-Set  :  0.8048426606282375 - 0.8464643219349026\n"
     ]
    }
   ],
   "source": [
    "pre_score_train_pipe_svc = cross_val_score(pipeline_svm, \n",
    "                                           X_train, \n",
    "                                           y_train, \n",
    "                                           cv=5,\n",
    "                                           scoring='precision')\n",
    "\n",
    "print('Precision Score - All - Pipeline     : ', pre_score_train_pipe_svc)\n",
    "print('Precision Score - Mean - Pipeline    : ', pre_score_train_pipe_svc.mean())\n",
    "print('Precision Score - Std - Pipeline     : ', pre_score_train_pipe_svc.std())\n",
    "print('Precision Score - Range of Test-Set  : ', (pre_score_train_pipe_svc.mean()-pre_score_train_pipe_svc.std()) ,\n",
    "                                         '-', (pre_score_train_pipe_svc.mean()+pre_score_train_pipe_svc.std()))"
   ]
  },
  {
   "cell_type": "code",
   "execution_count": 167,
   "metadata": {},
   "outputs": [
    {
     "name": "stdout",
     "output_type": "stream",
     "text": [
      "Accuracy Score\n",
      "Train Score: 0.8092423428264374\n",
      "Test Score: 0.8163265306122449\n",
      "\n",
      "Precision Score\n",
      "Train Precision: 0.8698884758364313\n",
      "Test Precision: 0.824468085106383\n",
      "\n",
      "TEST PERFORMANCE\n",
      "              precision    recall  f1-score   support\n",
      "\n",
      "           0       0.81      0.95      0.88       638\n",
      "           1       0.82      0.53      0.64       293\n",
      "\n",
      "    accuracy                           0.82       931\n",
      "   macro avg       0.82      0.74      0.76       931\n",
      "weighted avg       0.82      0.82      0.80       931\n",
      "\n"
     ]
    }
   ],
   "source": [
    "print(\"Accuracy Score\")\n",
    "svmpipe_train_score = pipeline_svm.score(X_train, y_train)\n",
    "svmpipe_test_score = pipeline_svm.score(X_test, y_test)\n",
    "\n",
    "print('Train Score: {0}\\nTest Score: {1}'.format(svmpipe_train_score, svmpipe_test_score))\n",
    "print(\"\")\n",
    "print(\"Precision Score\")\n",
    "train_precision_svm_pipe = precision_score(y_train, y_pred_train_svc_pipe)\n",
    "test_precision_svm_pipe = precision_score(y_test,y_pred_test_svc_pipe)\n",
    "\n",
    "print('Train Precision: {0}\\nTest Precision: {1}'.format(train_precision_svm_pipe, test_precision_svm_pipe))\n",
    "print(\"\")\n",
    "print(\"TEST PERFORMANCE\")\n",
    "print(classification_report(y_test,y_pred_test_svc_pipe))"
   ]
  },
  {
   "cell_type": "markdown",
   "metadata": {},
   "source": [
    "## 8.3 Decision Tree"
   ]
  },
  {
   "cell_type": "code",
   "execution_count": 168,
   "metadata": {},
   "outputs": [],
   "source": [
    "y_pred_train_dtr = dtr.predict(X_train_final)\n",
    "y_pred_test_dtr = dtr.predict(X_test_final)"
   ]
  },
  {
   "cell_type": "code",
   "execution_count": 169,
   "metadata": {},
   "outputs": [
    {
     "name": "stdout",
     "output_type": "stream",
     "text": [
      "Precision Score - All - Cross Validation  :  [0.71134021 0.7239819  0.69469027 0.6937799  0.75714286]\n",
      "Precision Score - Mean - Cross Validation :  0.7161870267147717\n",
      "Precision Score - Std - Cross Validation  :  0.023348754355685866\n",
      "Precision Score - Range of Test-Set       :  0.6928382723590859 - 0.7395357810704576\n"
     ]
    }
   ],
   "source": [
    "pre_score_train_cross_val_dtr = cross_val_score(dtr, \n",
    "                                           X_train_final, \n",
    "                                           y_train, \n",
    "                                           cv=5,\n",
    "                                           scoring='precision')\n",
    "\n",
    "print('Precision Score - All - Cross Validation  : ', pre_score_train_cross_val_dtr)\n",
    "print('Precision Score - Mean - Cross Validation : ', pre_score_train_cross_val_dtr.mean())\n",
    "print('Precision Score - Std - Cross Validation  : ', pre_score_train_cross_val_dtr.std())\n",
    "print('Precision Score - Range of Test-Set       : ', (pre_score_train_cross_val_dtr.mean()-pre_score_train_cross_val_dtr.std()) ,\n",
    "                                         '-', (pre_score_train_cross_val_dtr.mean()+pre_score_train_cross_val_dtr.std()))"
   ]
  },
  {
   "cell_type": "code",
   "execution_count": 170,
   "metadata": {},
   "outputs": [
    {
     "name": "stdout",
     "output_type": "stream",
     "text": [
      "Accuracy Score\n",
      "Train Score: 0.8729177861364857\n",
      "Test Score: 0.7969924812030075\n",
      "\n",
      "Precision Score\n",
      "Train Precision: 0.8698884758364313\n",
      "Test Precision: 0.824468085106383\n",
      "\n",
      "TEST PERFORMANCE\n",
      "              precision    recall  f1-score   support\n",
      "\n",
      "           0       0.82      0.90      0.86       638\n",
      "           1       0.73      0.57      0.64       293\n",
      "\n",
      "    accuracy                           0.80       931\n",
      "   macro avg       0.77      0.74      0.75       931\n",
      "weighted avg       0.79      0.80      0.79       931\n",
      "\n"
     ]
    }
   ],
   "source": [
    "print(\"Accuracy Score\")\n",
    "dtr_train_score = dtr.score(X_train_final, y_train)\n",
    "dtr_test_score = dtr.score(X_test_final, y_test)\n",
    "\n",
    "print('Train Score: {0}\\nTest Score: {1}'.format(dtr_train_score, dtr_test_score))\n",
    "print(\"\")\n",
    "print(\"Precision Score\")\n",
    "train_precision_dtr = precision_score(y_train, y_pred_train_svc)\n",
    "test_precison_dtr = precision_score(y_test, y_pred_test_svc)\n",
    "\n",
    "print('Train Precision: {0}\\nTest Precision: {1}'.format(train_precision_dtr, test_precison_dtr))\n",
    "print(\"\")\n",
    "\n",
    "print(\"TEST PERFORMANCE\")\n",
    "print(classification_report(y_test,y_pred_test_dtr))"
   ]
  },
  {
   "cell_type": "code",
   "execution_count": 171,
   "metadata": {},
   "outputs": [
    {
     "data": {
      "image/png": "[encoded data removed]",
      "text/plain": [
       "<Figure size 640x480 with 2 Axes>"
      ]
     },
     "metadata": {},
     "output_type": "display_data"
    }
   ],
   "source": [
    "cm_dtr = confusion_matrix(y_test, y_pred_test_dtr, labels=dtr.classes_)\n",
    "disp = ConfusionMatrixDisplay(confusion_matrix=cm_dtr,display_labels=dtr.classes_)\n",
    "\n",
    "disp.plot()\n",
    "plt.show()"
   ]
  },
  {
   "cell_type": "markdown",
   "metadata": {},
   "source": [
    "### 8.3.1 Decision Tree Pipeline"
   ]
  },
  {
   "cell_type": "code",
   "execution_count": 172,
   "metadata": {},
   "outputs": [],
   "source": [
    "y_pred_train_dtr_pipe = pipeline_dtr.predict(X_train)\n",
    "y_pred_test_dtr_pipe = pipeline_dtr.predict(X_test)"
   ]
  },
  {
   "cell_type": "code",
   "execution_count": 173,
   "metadata": {},
   "outputs": [
    {
     "name": "stdout",
     "output_type": "stream",
     "text": [
      "Precision Score - All - Pipeline     :  [0.70833333 0.71818182 0.69603524 0.70243902 0.74881517]\n",
      "Precision Score - Mean - Pipeline    :  0.7147609168145842\n",
      "Precision Score - Std - Pipeline     :  0.01852127530194558\n",
      "Precision Score - Range of Test-Set  :  0.6962396415126386 - 0.7332821921165298\n"
     ]
    }
   ],
   "source": [
    "pre_score_train_pipe_dtr = cross_val_score(pipeline_dtr, \n",
    "                                           X_train, \n",
    "                                           y_train, \n",
    "                                           cv=5,\n",
    "                                           scoring='precision')\n",
    "\n",
    "print('Precision Score - All - Pipeline     : ', pre_score_train_pipe_dtr)\n",
    "print('Precision Score - Mean - Pipeline    : ', pre_score_train_pipe_dtr.mean())\n",
    "print('Precision Score - Std - Pipeline     : ', pre_score_train_pipe_dtr.std())\n",
    "print('Precision Score - Range of Test-Set  : ', (pre_score_train_pipe_dtr.mean()-pre_score_train_pipe_dtr.std()) ,\n",
    "                                         '-', (pre_score_train_pipe_dtr.mean()+pre_score_train_pipe_dtr.std()))"
   ]
  },
  {
   "cell_type": "code",
   "execution_count": 174,
   "metadata": {},
   "outputs": [
    {
     "name": "stdout",
     "output_type": "stream",
     "text": [
      "Accuracy Score\n",
      "Train Score: 0.8729177861364857\n",
      "Test Score: 0.799140708915145\n",
      "\n",
      "Precision Score\n",
      "Train Precision: 0.9316770186335404\n",
      "Test Precision: 0.7366071428571429\n",
      "\n",
      "TEST PERFORMANCE\n",
      "              precision    recall  f1-score   support\n",
      "\n",
      "           0       0.82      0.91      0.86       638\n",
      "           1       0.74      0.56      0.64       293\n",
      "\n",
      "    accuracy                           0.80       931\n",
      "   macro avg       0.78      0.74      0.75       931\n",
      "weighted avg       0.79      0.80      0.79       931\n",
      "\n"
     ]
    }
   ],
   "source": [
    "print(\"Accuracy Score\")\n",
    "dtrpipe_train_score = pipeline_dtr.score(X_train, y_train)\n",
    "dtrpipe_test_score = pipeline_dtr.score(X_test, y_test)\n",
    "\n",
    "print('Train Score: {0}\\nTest Score: {1}'.format(dtrpipe_train_score, dtrpipe_test_score))\n",
    "print(\"\")\n",
    "print(\"Precision Score\")\n",
    "train_precision_dtr_pipe = precision_score(y_train, y_pred_train_dtr_pipe)\n",
    "test_precision_dtr_pipe = precision_score(y_test,y_pred_test_dtr_pipe)\n",
    "\n",
    "print('Train Precision: {0}\\nTest Precision: {1}'.format(train_precision_dtr_pipe, test_precision_dtr_pipe))\n",
    "print(\"\")\n",
    "print(\"TEST PERFORMANCE\")\n",
    "print(classification_report(y_test,y_pred_test_dtr_pipe))"
   ]
  },
  {
   "cell_type": "markdown",
   "metadata": {},
   "source": [
    "## 8.4 Random Forest"
   ]
  },
  {
   "cell_type": "code",
   "execution_count": 175,
   "metadata": {},
   "outputs": [],
   "source": [
    "y_pred_train_rf = rf.predict(X_train_final)\n",
    "y_pred_test_rf = rf.predict(X_test_final)"
   ]
  },
  {
   "cell_type": "code",
   "execution_count": 176,
   "metadata": {},
   "outputs": [
    {
     "name": "stdout",
     "output_type": "stream",
     "text": [
      "Precision Score - All - Cross Validation  :  [0.70707071 0.74193548 0.69491525 0.70243902 0.76525822]\n",
      "Precision Score - Mean - Cross Validation :  0.7223237371063296\n",
      "Precision Score - Std - Cross Validation  :  0.02685990224873354\n",
      "Precision Score - Range of Test-Set       :  0.695463834857596 - 0.7491836393550632\n"
     ]
    }
   ],
   "source": [
    "pre_score_train_cross_val_rf = cross_val_score(rf, \n",
    "                                           X_train_final, \n",
    "                                           y_train, \n",
    "                                           cv=5,\n",
    "                                           scoring='precision')\n",
    "\n",
    "print('Precision Score - All - Cross Validation  : ', pre_score_train_cross_val_rf)\n",
    "print('Precision Score - Mean - Cross Validation : ', pre_score_train_cross_val_rf.mean())\n",
    "print('Precision Score - Std - Cross Validation  : ', pre_score_train_cross_val_rf.std())\n",
    "print('Precision Score - Range of Test-Set       : ', (pre_score_train_cross_val_rf.mean()-pre_score_train_cross_val_rf.std()) ,\n",
    "                                         '-', (pre_score_train_cross_val_rf.mean()+pre_score_train_cross_val_rf.std()))"
   ]
  },
  {
   "cell_type": "code",
   "execution_count": 177,
   "metadata": {},
   "outputs": [
    {
     "name": "stdout",
     "output_type": "stream",
     "text": [
      "Accuracy Score\n",
      "Train Score: 0.8729177861364857\n",
      "Test Score: 0.7959183673469388\n",
      "\n",
      "Precision Score\n",
      "Train Precision: 0.8804744525547445\n",
      "Test Precision: 0.6973180076628352\n",
      "\n",
      "TEST PERFORMANCE\n",
      "              precision    recall  f1-score   support\n",
      "\n",
      "           0       0.83      0.88      0.85       638\n",
      "           1       0.70      0.62      0.66       293\n",
      "\n",
      "    accuracy                           0.80       931\n",
      "   macro avg       0.77      0.75      0.76       931\n",
      "weighted avg       0.79      0.80      0.79       931\n",
      "\n"
     ]
    }
   ],
   "source": [
    "print(\"Accuracy Score\")\n",
    "rf_train_score = rf.score(X_train_final, y_train)\n",
    "rf_test_score = rf.score(X_test_final, y_test)\n",
    "\n",
    "print('Train Score: {0}\\nTest Score: {1}'.format(rf_train_score, rf_test_score))\n",
    "print(\"\")\n",
    "print(\"Precision Score\")\n",
    "train_precision_rf = precision_score(y_train, y_pred_train_rf)\n",
    "test_precison_rf = precision_score(y_test, y_pred_test_rf)\n",
    "\n",
    "print('Train Precision: {0}\\nTest Precision: {1}'.format(train_precision_rf, test_precison_rf))\n",
    "print(\"\")\n",
    "\n",
    "print(\"TEST PERFORMANCE\")\n",
    "print(classification_report(y_test,y_pred_test_rf))"
   ]
  },
  {
   "cell_type": "code",
   "execution_count": 178,
   "metadata": {},
   "outputs": [
    {
     "data": {
      "image/png": "[encoded data removed]",
      "text/plain": [
       "<Figure size 640x480 with 2 Axes>"
      ]
     },
     "metadata": {},
     "output_type": "display_data"
    }
   ],
   "source": [
    "cm_rf = confusion_matrix(y_test, y_pred_test_rf, labels=log_model.classes_)\n",
    "disp = ConfusionMatrixDisplay(confusion_matrix=cm_rf,display_labels=log_model.classes_)\n",
    "\n",
    "disp.plot()\n",
    "plt.show()"
   ]
  },
  {
   "cell_type": "markdown",
   "metadata": {},
   "source": [
    "### 8.4.1 Pipeline RandomForest"
   ]
  },
  {
   "cell_type": "code",
   "execution_count": 179,
   "metadata": {},
   "outputs": [],
   "source": [
    "y_pred_train_rf_pipe = pipeline_rf.predict(X_train)\n",
    "y_pred_test_rf_pipe = pipeline_rf.predict(X_test)"
   ]
  },
  {
   "cell_type": "code",
   "execution_count": 180,
   "metadata": {},
   "outputs": [
    {
     "name": "stdout",
     "output_type": "stream",
     "text": [
      "Precision Score - All - Pipeline     :  [0.72486772 0.76923077 0.70353982 0.69953052 0.76995305]\n",
      "Precision Score - Mean - Pipeline    :  0.7334243770364923\n",
      "Precision Score - Std - Pipeline     :  0.03076211450125879\n",
      "Precision Score - Range of Test-Set  :  0.7026622625352336 - 0.7641864915377511\n"
     ]
    }
   ],
   "source": [
    "pre_score_train_pipe_rf = cross_val_score(pipeline_rf,\n",
    "                                           X_train, \n",
    "                                           y_train, \n",
    "                                           cv=5,\n",
    "                                           scoring='precision')\n",
    "\n",
    "print('Precision Score - All - Pipeline     : ', pre_score_train_pipe_rf)\n",
    "print('Precision Score - Mean - Pipeline    : ', pre_score_train_pipe_rf.mean())\n",
    "print('Precision Score - Std - Pipeline     : ', pre_score_train_pipe_rf.std())\n",
    "print('Precision Score - Range of Test-Set  : ', (pre_score_train_pipe_rf.mean()-pre_score_train_pipe_rf.std()) ,\n",
    "                                         '-', (pre_score_train_pipe_rf.mean()+pre_score_train_pipe_rf.std()))"
   ]
  },
  {
   "cell_type": "code",
   "execution_count": 181,
   "metadata": {},
   "outputs": [
    {
     "name": "stdout",
     "output_type": "stream",
     "text": [
      "Accuracy Score\n",
      "Train Score: 0.8729177861364857\n",
      "Test Score: 0.8012889366272825\n",
      "\n",
      "Precision Score\n",
      "Train Precision: 0.8994252873563219\n",
      "Test Precision: 0.7288135593220338\n",
      "\n",
      "TEST PERFORMANCE\n",
      "              precision    recall  f1-score   support\n",
      "\n",
      "           0       0.83      0.90      0.86       638\n",
      "           1       0.73      0.59      0.65       293\n",
      "\n",
      "    accuracy                           0.80       931\n",
      "   macro avg       0.78      0.74      0.76       931\n",
      "weighted avg       0.80      0.80      0.79       931\n",
      "\n"
     ]
    }
   ],
   "source": [
    "print(\"Accuracy Score\")\n",
    "rfpipe_train_score = pipeline_rf.score(X_train, y_train)\n",
    "rfpipe_test_score = pipeline_rf.score(X_test, y_test)\n",
    "\n",
    "print('Train Score: {0}\\nTest Score: {1}'.format(rfpipe_train_score, rfpipe_test_score))\n",
    "print(\"\")\n",
    "print(\"Precision Score\")\n",
    "train_precision_rf_pipe = precision_score(y_train, y_pred_train_rf_pipe)\n",
    "test_precision_rf_pipe = precision_score(y_test,y_pred_test_rf_pipe)\n",
    "\n",
    "print('Train Precision: {0}\\nTest Precision: {1}'.format(train_precision_rf_pipe, test_precision_rf_pipe))\n",
    "print(\"\")\n",
    "print(\"TEST PERFORMANCE\")\n",
    "print(classification_report(y_test,y_pred_test_rf_pipe))"
   ]
  },
  {
   "cell_type": "markdown",
   "metadata": {},
   "source": [
    "## 8.5 KNN"
   ]
  },
  {
   "cell_type": "markdown",
   "metadata": {},
   "source": [
    "### 8.5.1 KNN Euclidean"
   ]
  },
  {
   "cell_type": "code",
   "execution_count": 182,
   "metadata": {},
   "outputs": [],
   "source": [
    "y_pred_train_knn_euc = cls_knn_euclidean.predict(X_train_final)\n",
    "y_pred_test_knn_euc = cls_knn_euclidean.predict(X_test_final)"
   ]
  },
  {
   "cell_type": "code",
   "execution_count": 183,
   "metadata": {},
   "outputs": [
    {
     "name": "stdout",
     "output_type": "stream",
     "text": [
      "Precision Score - All - Cross Validation  :  [0.71098266 0.65829146 0.64039409 0.61458333 0.69312169]\n",
      "Precision Score - Mean - Cross Validation :  0.6634746462741894\n",
      "Precision Score - Std - Cross Validation  :  0.03488809746769059\n",
      "Precision Score - Range of Test-Set       :  0.6285865488064988 - 0.69836274374188\n"
     ]
    }
   ],
   "source": [
    "pre_score_train_cross_val_euc = cross_val_score(cls_knn_euclidean, \n",
    "                                           X_train_final, \n",
    "                                           y_train, \n",
    "                                           cv=5,\n",
    "                                           scoring='precision')\n",
    "\n",
    "print('Precision Score - All - Cross Validation  : ', pre_score_train_cross_val_euc)\n",
    "print('Precision Score - Mean - Cross Validation : ', pre_score_train_cross_val_euc.mean())\n",
    "print('Precision Score - Std - Cross Validation  : ', pre_score_train_cross_val_euc.std())\n",
    "print('Precision Score - Range of Test-Set       : ', (pre_score_train_cross_val_euc.mean()-pre_score_train_cross_val_euc.std()) ,\n",
    "                                         '-', (pre_score_train_cross_val_euc.mean()+pre_score_train_cross_val_euc.std()))"
   ]
  },
  {
   "cell_type": "code",
   "execution_count": 184,
   "metadata": {},
   "outputs": [
    {
     "name": "stdout",
     "output_type": "stream",
     "text": [
      "Accuracy Score\n",
      "Train Score: 0.7966147232670607\n",
      "Test Score: 0.7508055853920516\n",
      "\n",
      "Precision Score\n",
      "Train Precision: 0.7976190476190477\n",
      "Test Precision: 0.639269406392694\n",
      "\n",
      "TEST PERFORMANCE\n",
      "              precision    recall  f1-score   support\n",
      "\n",
      "           0       0.79      0.88      0.83       638\n",
      "           1       0.64      0.48      0.55       293\n",
      "\n",
      "    accuracy                           0.75       931\n",
      "   macro avg       0.71      0.68      0.69       931\n",
      "weighted avg       0.74      0.75      0.74       931\n",
      "\n"
     ]
    }
   ],
   "source": [
    "print(\"Accuracy Score\")\n",
    "knn_euc_train_score = cls_knn_euclidean.score(X_train_final, y_train)\n",
    "knn_euc_test_score = cls_knn_euclidean.score(X_test_final, y_test)\n",
    "\n",
    "print('Train Score: {0}\\nTest Score: {1}'.format(knn_euc_train_score, knn_euc_test_score))\n",
    "print(\"\")\n",
    "print(\"Precision Score\")\n",
    "train_precision_euc = precision_score(y_train, y_pred_train_knn_euc)\n",
    "test_precison_euc = precision_score(y_test, y_pred_test_knn_euc)\n",
    "\n",
    "print('Train Precision: {0}\\nTest Precision: {1}'.format(train_precision_euc, test_precison_euc))\n",
    "print(\"\")\n",
    "\n",
    "print(\"TEST PERFORMANCE\")\n",
    "print(classification_report(y_test,y_pred_test_knn_euc))"
   ]
  },
  {
   "cell_type": "code",
   "execution_count": 185,
   "metadata": {},
   "outputs": [
    {
     "data": {
      "image/png": "[encoded data removed]",
      "text/plain": [
       "<Figure size 640x480 with 2 Axes>"
      ]
     },
     "metadata": {},
     "output_type": "display_data"
    }
   ],
   "source": [
    "cm_euc = confusion_matrix(y_test, y_pred_test_knn_euc, labels=log_model.classes_)\n",
    "disp = ConfusionMatrixDisplay(confusion_matrix=cm_euc,display_labels=log_model.classes_)\n",
    "\n",
    "disp.plot()\n",
    "plt.show()"
   ]
  },
  {
   "cell_type": "markdown",
   "metadata": {},
   "source": [
    "#### 8.5.1.1 Pipeline Euclidean"
   ]
  },
  {
   "cell_type": "code",
   "execution_count": 186,
   "metadata": {},
   "outputs": [],
   "source": [
    "y_pred_train_eu_pipe = pipeline_cls.predict(X_train)\n",
    "y_pred_test_eu_pipe = pipeline_cls.predict(X_test)"
   ]
  },
  {
   "cell_type": "code",
   "execution_count": 187,
   "metadata": {},
   "outputs": [
    {
     "name": "stdout",
     "output_type": "stream",
     "text": [
      "Precision Score - All - Pipeline     :  [0.70053476 0.63902439 0.63592233 0.59685864 0.67692308]\n",
      "Precision Score - Mean - Pipeline    :  0.6498526390731623\n",
      "Precision Score - Std - Pipeline     :  0.03583616741172072\n",
      "Precision Score - Range of Test-Set  :  0.6140164716614416 - 0.685688806484883\n"
     ]
    }
   ],
   "source": [
    "pre_score_train_pipe_cls = cross_val_score(pipeline_cls,\n",
    "                                           X_train, \n",
    "                                           y_train, \n",
    "                                           cv=5,\n",
    "                                           scoring='precision')\n",
    "\n",
    "print('Precision Score - All - Pipeline     : ', pre_score_train_pipe_cls)\n",
    "print('Precision Score - Mean - Pipeline    : ', pre_score_train_pipe_cls.mean())\n",
    "print('Precision Score - Std - Pipeline     : ', pre_score_train_pipe_cls.std())\n",
    "print('Precision Score - Range of Test-Set  : ', (pre_score_train_pipe_cls.mean()-pre_score_train_pipe_cls.std()) ,\n",
    "                                         '-', (pre_score_train_pipe_cls.mean()+pre_score_train_pipe_cls.std()))"
   ]
  },
  {
   "cell_type": "code",
   "execution_count": 188,
   "metadata": {},
   "outputs": [
    {
     "name": "stdout",
     "output_type": "stream",
     "text": [
      "Accuracy Score\n",
      "Train Score: 0.7966147232670607\n",
      "Test Score: 0.7518796992481203\n",
      "\n",
      "Precision Score\n",
      "Train Precision: 0.7963362068965517\n",
      "Test Precision: 0.6409090909090909\n",
      "\n",
      "TEST PERFORMANCE\n",
      "              precision    recall  f1-score   support\n",
      "\n",
      "           0       0.79      0.88      0.83       638\n",
      "           1       0.64      0.48      0.55       293\n",
      "\n",
      "    accuracy                           0.75       931\n",
      "   macro avg       0.71      0.68      0.69       931\n",
      "weighted avg       0.74      0.75      0.74       931\n",
      "\n"
     ]
    }
   ],
   "source": [
    "print(\"Accuracy Score\")\n",
    "clspipe_train_score = pipeline_cls.score(X_train, y_train)\n",
    "clspipe_test_score = pipeline_cls.score(X_test, y_test)\n",
    "\n",
    "print('Train Score: {0}\\nTest Score: {1}'.format(clspipe_train_score, clspipe_test_score))\n",
    "print(\"\")\n",
    "print(\"Precision Score\")\n",
    "train_precision_cls_pipe = precision_score(y_train, y_pred_train_eu_pipe)\n",
    "test_precision_cls_pipe = precision_score(y_test,y_pred_test_eu_pipe)\n",
    "\n",
    "print('Train Precision: {0}\\nTest Precision: {1}'.format(train_precision_cls_pipe, test_precision_cls_pipe))\n",
    "print(\"\")\n",
    "print(\"TEST PERFORMANCE\")\n",
    "print(classification_report(y_test,y_pred_test_eu_pipe))"
   ]
  },
  {
   "cell_type": "markdown",
   "metadata": {},
   "source": [
    "### 8.5.2 KNN Manhattan"
   ]
  },
  {
   "cell_type": "code",
   "execution_count": 189,
   "metadata": {},
   "outputs": [],
   "source": [
    "y_pred_train_knn_man = cls_knn_manhattan.predict(X_train_final)\n",
    "y_pred_test_knn_man = cls_knn_manhattan.predict(X_test_final)"
   ]
  },
  {
   "cell_type": "code",
   "execution_count": 190,
   "metadata": {},
   "outputs": [
    {
     "name": "stdout",
     "output_type": "stream",
     "text": [
      "Precision Score - All - Cross Validation  :  [0.71098266 0.65829146 0.64039409 0.61458333 0.69312169]\n",
      "Precision Score - Mean - Cross Validation :  0.6634746462741894\n",
      "Precision Score - Std - Cross Validation  :  0.03488809746769059\n",
      "Precision Score - Range of Test-Set       :  0.6285865488064988 - 0.69836274374188\n"
     ]
    }
   ],
   "source": [
    "pre_score_train_cross_val_man = cross_val_score(cls_knn_manhattan, \n",
    "                                           X_train_final, \n",
    "                                           y_train, \n",
    "                                           cv=5,\n",
    "                                           scoring='precision')\n",
    "\n",
    "print('Precision Score - All - Cross Validation  : ', pre_score_train_cross_val_man)\n",
    "print('Precision Score - Mean - Cross Validation : ', pre_score_train_cross_val_man.mean())\n",
    "print('Precision Score - Std - Cross Validation  : ', pre_score_train_cross_val_man.std())\n",
    "print('Precision Score - Range of Test-Set       : ', (pre_score_train_cross_val_man.mean()-pre_score_train_cross_val_man.std()) ,\n",
    "                                         '-', (pre_score_train_cross_val_man.mean()+pre_score_train_cross_val_man.std()))"
   ]
  },
  {
   "cell_type": "code",
   "execution_count": 191,
   "metadata": {},
   "outputs": [
    {
     "name": "stdout",
     "output_type": "stream",
     "text": [
      "Accuracy Score\n",
      "Train Score: 0.7966147232670607\n",
      "Test Score: 0.7508055853920516\n",
      "\n",
      "Precision Score\n",
      "Train Precision: [0 0 1 ... 0 1 0]\n",
      "Test Precision: [0 0 0 1 0 0 0 0 0 0 1 0 0 1 0 1 0 1 0 0 0 0 0 0 1 0 0 1 1 0 0 0 0 0 0 0 1\n",
      " 1 0 0 0 1 0 0 0 0 0 1 0 1 0 1 1 1 0 1 0 1 1 0 0 0 0 1 0 0 0 1 0 0 0 1 1 0\n",
      " 0 0 1 0 1 0 1 1 0 0 0 0 1 0 0 0 0 0 0 0 0 0 1 0 0 0 1 1 0 0 0 0 0 1 1 0 0\n",
      " 0 0 0 0 0 0 0 0 0 0 1 0 0 0 1 0 0 0 0 1 0 0 0 0 0 0 0 0 0 0 0 1 1 0 0 0 1\n",
      " 0 0 0 0 0 0 1 0 0 0 0 0 0 0 1 0 0 0 0 1 0 0 0 1 0 0 0 0 0 0 0 0 0 0 0 1 0\n",
      " 1 0 0 0 0 0 0 1 1 0 0 1 0 0 0 1 0 0 1 0 0 0 1 1 1 0 0 1 0 0 0 1 0 1 0 0 1\n",
      " 0 0 0 0 0 0 1 0 0 0 1 0 0 0 0 0 0 0 1 0 0 0 0 0 0 0 0 0 1 0 0 0 0 0 0 0 1\n",
      " 1 0 0 1 1 0 0 0 0 0 0 0 0 0 0 0 1 0 0 0 0 0 1 0 0 0 0 0 0 0 0 0 1 1 1 0 0\n",
      " 1 0 0 0 0 0 0 0 0 0 1 0 1 1 0 0 0 0 1 0 0 0 1 0 0 0 1 0 1 1 0 0 0 0 0 0 0\n",
      " 0 0 0 0 0 1 0 1 0 0 1 0 0 0 0 0 1 0 1 0 0 0 1 0 0 1 0 1 0 1 0 0 0 0 1 0 1\n",
      " 1 0 0 0 0 1 0 0 1 1 0 0 1 0 0 0 1 0 0 0 1 0 0 0 0 0 1 0 0 0 1 0 0 0 0 0 0\n",
      " 0 1 0 1 1 0 0 0 1 0 0 1 0 0 0 0 0 1 1 0 0 1 0 1 0 0 0 1 0 0 0 0 0 0 1 0 1\n",
      " 0 1 0 0 0 0 1 1 0 0 0 0 0 0 0 0 0 1 0 0 0 1 0 0 0 0 0 0 0 0 0 0 0 0 0 0 0\n",
      " 0 0 0 1 0 1 0 1 1 1 0 1 1 1 0 0 1 1 0 0 1 0 0 0 0 0 0 0 1 0 0 0 1 0 0 0 1\n",
      " 0 0 0 0 0 0 0 1 0 0 1 1 0 1 0 1 0 0 1 1 1 0 0 0 0 0 0 0 0 0 0 1 0 0 0 0 0\n",
      " 0 0 1 0 1 1 0 0 1 0 0 0 1 1 0 0 0 1 0 0 1 0 0 0 0 0 0 0 0 0 0 0 0 0 0 0 1\n",
      " 1 0 0 0 1 0 0 0 1 0 0 0 0 0 0 0 0 1 1 1 0 0 0 0 0 1 0 0 0 0 1 1 0 0 0 0 0\n",
      " 0 1 0 1 0 0 0 0 0 0 0 0 0 0 0 0 0 0 1 0 0 0 1 0 1 0 0 1 0 0 0 0 1 0 1 0 1\n",
      " 1 0 0 0 0 0 1 0 0 0 0 0 0 0 0 0 1 0 0 0 0 0 0 1 0 0 1 0 0 0 0 0 0 0 0 0 0\n",
      " 0 0 0 1 0 0 0 0 0 0 1 0 0 0 1 0 0 1 0 0 0 0 0 0 0 0 0 0 1 1 0 0 0 1 0 0 0\n",
      " 0 0 0 0 0 0 0 1 0 0 0 0 0 0 0 1 1 1 0 0 1 0 0 0 0 0 0 0 0 1 0 0 0 0 0 0 1\n",
      " 0 0 0 0 0 1 0 0 0 0 1 0 0 0 0 1 0 0 0 0 1 0 1 0 0 1 0 1 0 0 0 0 1 0 1 0 0\n",
      " 0 1 0 1 0 0 0 1 0 0 0 0 0 0 0 1 0 0 0 0 0 0 0 0 1 0 0 1 0 0 0 0 0 0 0 0 0\n",
      " 1 0 0 0 0 1 1 0 0 0 0 0 0 0 1 0 1 0 0 0 0 0 1 1 1 0 0 1 0 0 0 0 0 0 0 0 0\n",
      " 0 0 0 0 0 0 0 1 1 1 0 0 0 0 0 0 1 0 0 1 0 0 1 0 1 0 0 0 0 0 0 0 0 0 0 0 0\n",
      " 1 0 1 0 0 1]\n",
      "\n",
      "TEST PERFORMANCE\n",
      "              precision    recall  f1-score   support\n",
      "\n",
      "           0       0.79      0.88      0.83       638\n",
      "           1       0.64      0.48      0.55       293\n",
      "\n",
      "    accuracy                           0.75       931\n",
      "   macro avg       0.71      0.68      0.69       931\n",
      "weighted avg       0.74      0.75      0.74       931\n",
      "\n"
     ]
    }
   ],
   "source": [
    "print(\"Accuracy Score\")\n",
    "knn_man_train_score = cls_knn_manhattan.score(X_train_final, y_train)\n",
    "knn_man_test_score = cls_knn_manhattan.score(X_test_final, y_test)\n",
    "\n",
    "print('Train Score: {0}\\nTest Score: {1}'.format(knn_man_train_score, knn_man_test_score))\n",
    "print(\"\")\n",
    "print(\"Precision Score\")\n",
    "train_precision_man = precision_score(y_train, y_pred_train_knn_man)\n",
    "test_precison_man = precision_score(y_test, y_pred_test_knn_man)\n",
    "\n",
    "print('Train Precision: {0}\\nTest Precision: {1}'.format(y_pred_train_knn_man, y_pred_test_knn_man))\n",
    "print(\"\")\n",
    "\n",
    "print(\"TEST PERFORMANCE\")\n",
    "print(classification_report(y_test,y_pred_test_knn_man))"
   ]
  },
  {
   "cell_type": "code",
   "execution_count": 192,
   "metadata": {},
   "outputs": [
    {
     "data": {
      "image/png": "[encoded data removed]",
      "text/plain": [
       "<Figure size 640x480 with 2 Axes>"
      ]
     },
     "metadata": {},
     "output_type": "display_data"
    }
   ],
   "source": [
    "cm_man = confusion_matrix(y_test, y_pred_test_knn_man, labels=log_model.classes_)\n",
    "disp = ConfusionMatrixDisplay(confusion_matrix=cm_man,display_labels=log_model.classes_)\n",
    "\n",
    "disp.plot()\n",
    "plt.show()"
   ]
  },
  {
   "cell_type": "markdown",
   "metadata": {},
   "source": [
    "#### 8.5.2.1 Pipeline KNN Manhattan"
   ]
  },
  {
   "cell_type": "code",
   "execution_count": 193,
   "metadata": {},
   "outputs": [],
   "source": [
    "y_pred_train_mht_pipe = pipeline_cls1.predict(X_train)\n",
    "y_pred_test_mht_pipe = pipeline_cls1.predict(X_test)"
   ]
  },
  {
   "cell_type": "code",
   "execution_count": 194,
   "metadata": {},
   "outputs": [
    {
     "name": "stdout",
     "output_type": "stream",
     "text": [
      "Precision Score - All - Pipeline     :  [0.70053476 0.63902439 0.63592233 0.59685864 0.67692308]\n",
      "Precision Score - Mean - Pipeline    :  0.6498526390731623\n",
      "Precision Score - Std - Pipeline     :  0.03583616741172072\n",
      "Precision Score - Range of Test-Set  :  0.6140164716614416 - 0.685688806484883\n"
     ]
    }
   ],
   "source": [
    "pre_score_train_pipe_mht = cross_val_score(pipeline_cls1,\n",
    "                                           X_train, \n",
    "                                           y_train, \n",
    "                                           cv=5,\n",
    "                                           scoring='precision')\n",
    "\n",
    "print('Precision Score - All - Pipeline     : ', pre_score_train_pipe_mht)\n",
    "print('Precision Score - Mean - Pipeline    : ', pre_score_train_pipe_mht.mean())\n",
    "print('Precision Score - Std - Pipeline     : ', pre_score_train_pipe_mht.std())\n",
    "print('Precision Score - Range of Test-Set  : ', (pre_score_train_pipe_mht.mean()-pre_score_train_pipe_mht.std()) ,\n",
    "                                         '-', (pre_score_train_pipe_mht.mean()+pre_score_train_pipe_mht.std()))"
   ]
  },
  {
   "cell_type": "code",
   "execution_count": 195,
   "metadata": {},
   "outputs": [
    {
     "name": "stdout",
     "output_type": "stream",
     "text": [
      "Accuracy Score\n"
     ]
    },
    {
     "name": "stdout",
     "output_type": "stream",
     "text": [
      "Train Score: 0.7966147232670607\n",
      "Test Score: 0.7518796992481203\n",
      "\n",
      "Precision Score\n",
      "Train Precision: 0.7963362068965517\n",
      "Test Precision: 0.6409090909090909\n",
      "\n",
      "TEST PERFORMANCE\n",
      "              precision    recall  f1-score   support\n",
      "\n",
      "           0       0.79      0.88      0.83       638\n",
      "           1       0.64      0.48      0.55       293\n",
      "\n",
      "    accuracy                           0.75       931\n",
      "   macro avg       0.71      0.68      0.69       931\n",
      "weighted avg       0.74      0.75      0.74       931\n",
      "\n"
     ]
    }
   ],
   "source": [
    "print(\"Accuracy Score\")\n",
    "mhtpipe_train_score = pipeline_cls1.score(X_train, y_train)\n",
    "mhtpipe_test_score = pipeline_cls1.score(X_test, y_test)\n",
    "\n",
    "print('Train Score: {0}\\nTest Score: {1}'.format(mhtpipe_train_score, mhtpipe_test_score))\n",
    "print(\"\")\n",
    "print(\"Precision Score\")\n",
    "train_precision_mht_pipe = precision_score(y_train, y_pred_train_mht_pipe)\n",
    "test_precision_mht_pipe = precision_score(y_test,y_pred_test_mht_pipe)\n",
    "\n",
    "print('Train Precision: {0}\\nTest Precision: {1}'.format(train_precision_mht_pipe, test_precision_mht_pipe))\n",
    "print(\"\")\n",
    "print(\"TEST PERFORMANCE\")\n",
    "print(classification_report(y_test,y_pred_test_mht_pipe))"
   ]
  },
  {
   "cell_type": "markdown",
   "metadata": {},
   "source": [
    "## 8.6 Boosting"
   ]
  },
  {
   "cell_type": "code",
   "execution_count": 196,
   "metadata": {},
   "outputs": [],
   "source": [
    "y_train_pred_ada_clf = ada_clf.predict(X_train_final)\n",
    "y_test_pred_ada_clf = ada_clf.predict(X_test_final)"
   ]
  },
  {
   "cell_type": "code",
   "execution_count": 197,
   "metadata": {},
   "outputs": [
    {
     "name": "stdout",
     "output_type": "stream",
     "text": [
      "Precision Score - All - Cross Validation  :  [0.81456954 0.83636364 0.71859296 0.77777778 0.81818182]\n",
      "Precision Score - Mean - Cross Validation :  0.7930971467142388\n",
      "Precision Score - Std - Cross Validation  :  0.04182786050657163\n",
      "Precision Score - Range of Test-Set       :  0.7512692862076672 - 0.8349250072208104\n"
     ]
    }
   ],
   "source": [
    "pre_score_train_cross_ada_clf = cross_val_score(ada_clf, \n",
    "                                           X_train_final, \n",
    "                                           y_train, \n",
    "                                           cv=5,\n",
    "                                           scoring='precision')\n",
    "\n",
    "print('Precision Score - All - Cross Validation  : ', pre_score_train_cross_ada_clf)\n",
    "print('Precision Score - Mean - Cross Validation : ', pre_score_train_cross_ada_clf.mean())\n",
    "print('Precision Score - Std - Cross Validation  : ', pre_score_train_cross_ada_clf.std())\n",
    "print('Precision Score - Range of Test-Set       : ', (pre_score_train_cross_ada_clf.mean()-pre_score_train_cross_ada_clf.std()) ,\n",
    "                                         '-', (pre_score_train_cross_ada_clf.mean()+pre_score_train_cross_ada_clf.std()))"
   ]
  },
  {
   "cell_type": "code",
   "execution_count": 198,
   "metadata": {},
   "outputs": [
    {
     "name": "stdout",
     "output_type": "stream",
     "text": [
      "Accuracy Score\n",
      "Train Score: 0.7858678130037614\n",
      "Test Score: 0.799140708915145\n",
      "\n",
      "Precision Score\n",
      "Train Precision: [0 0 0 ... 0 1 0]\n",
      "Test Precision: [0 0 0 1 0 0 0 0 1 0 1 1 0 0 0 1 0 0 0 0 0 0 0 0 1 0 0 1 1 0 0 0 0 0 0 0 0\n",
      " 1 0 0 0 1 0 0 0 0 0 1 0 1 0 0 1 0 0 0 0 1 0 0 0 0 0 0 0 0 0 1 0 0 0 0 1 0\n",
      " 0 0 1 0 1 0 0 1 0 0 0 0 1 0 0 0 0 0 0 0 0 1 1 0 0 0 1 0 0 0 0 0 0 0 1 0 0\n",
      " 0 0 0 0 1 0 0 0 0 0 1 1 0 0 1 0 0 0 0 1 0 0 0 0 0 0 0 0 0 0 0 1 1 0 0 1 1\n",
      " 1 0 0 0 0 0 1 0 0 0 0 0 0 0 1 0 0 0 0 1 0 0 0 0 0 0 0 0 0 0 0 0 0 0 1 1 0\n",
      " 1 0 0 0 0 0 0 0 0 0 0 1 0 0 0 1 1 0 1 1 0 0 1 1 0 0 0 1 0 0 0 1 0 0 0 0 1\n",
      " 0 0 0 0 0 0 1 0 1 0 1 0 0 0 0 0 0 0 1 0 0 1 0 0 0 0 0 0 0 0 0 1 0 0 0 0 1\n",
      " 1 0 0 1 1 0 0 0 0 0 0 0 0 0 0 0 1 1 1 1 0 0 0 1 1 0 0 0 0 0 0 1 1 0 0 0 0\n",
      " 0 0 1 0 0 0 0 0 0 0 0 0 0 1 0 0 0 0 0 0 0 0 1 0 0 1 1 0 0 0 0 1 1 0 0 0 0\n",
      " 0 0 0 0 1 1 0 0 0 0 1 1 0 0 0 0 0 0 1 0 0 0 1 0 0 1 0 1 0 0 0 0 0 0 1 0 0\n",
      " 1 0 0 0 0 0 0 0 1 1 0 0 0 1 0 0 1 1 0 1 1 0 0 0 0 0 1 0 0 0 1 0 0 0 0 0 0\n",
      " 0 0 0 0 1 1 0 0 1 0 0 0 1 0 0 0 0 0 0 0 0 1 0 0 1 0 0 0 0 0 0 0 0 1 0 0 1\n",
      " 0 1 0 0 0 0 0 1 0 0 0 0 0 0 0 0 0 0 0 1 1 1 0 0 0 0 0 0 0 0 0 0 0 0 0 0 0\n",
      " 0 0 0 1 0 1 0 1 0 0 0 0 1 0 0 0 1 0 0 0 1 1 1 0 0 0 0 0 1 0 0 0 0 0 0 0 1\n",
      " 0 1 0 0 0 0 0 1 0 0 0 0 0 0 0 0 0 0 1 0 1 0 1 0 0 1 0 0 1 0 0 0 0 0 1 0 0\n",
      " 0 1 1 0 1 0 0 0 1 0 0 0 1 1 0 0 0 1 0 0 0 0 0 0 0 0 1 0 0 0 0 0 0 0 0 0 1\n",
      " 0 0 0 0 0 0 0 0 0 0 0 0 0 0 0 0 0 0 1 0 0 0 0 0 0 0 0 0 0 0 1 1 0 0 0 0 0\n",
      " 0 1 0 0 0 0 0 0 0 1 0 0 0 0 0 0 0 0 0 0 0 0 1 0 1 0 0 1 0 1 0 0 0 0 1 0 1\n",
      " 1 0 0 0 1 0 1 0 0 0 0 0 0 0 1 0 0 0 0 1 0 0 0 1 0 0 1 0 0 0 0 0 0 0 0 0 0\n",
      " 0 0 0 1 0 0 0 0 0 1 0 0 0 0 1 0 0 0 0 0 0 0 0 0 0 0 0 0 1 1 0 0 0 1 0 0 0\n",
      " 0 0 0 0 0 0 0 1 0 0 0 0 0 0 0 1 1 1 0 0 0 1 0 0 1 0 0 0 0 1 0 0 0 0 0 0 0\n",
      " 1 0 0 0 0 0 0 0 0 0 0 0 0 0 0 0 0 0 1 0 1 0 1 0 0 1 0 1 0 0 0 0 1 0 1 0 0\n",
      " 0 1 0 0 0 0 0 1 0 1 0 0 0 0 0 1 0 0 0 0 0 0 0 0 1 0 0 0 0 0 1 0 0 0 0 0 0\n",
      " 1 0 0 0 0 0 1 0 0 0 0 0 0 0 1 0 1 0 0 0 0 0 0 1 1 0 0 0 0 0 0 0 0 0 0 0 0\n",
      " 0 0 0 0 0 0 0 0 0 0 0 1 0 0 0 1 1 0 0 1 0 0 1 0 0 0 1 0 0 0 0 1 0 0 0 0 0\n",
      " 1 0 0 0 0 1]\n",
      "\n",
      "TEST PERFORMANCE\n",
      "              precision    recall  f1-score   support\n",
      "\n",
      "           0       0.81      0.93      0.86       638\n",
      "           1       0.77      0.51      0.62       293\n",
      "\n",
      "    accuracy                           0.80       931\n",
      "   macro avg       0.79      0.72      0.74       931\n",
      "weighted avg       0.80      0.80      0.79       931\n",
      "\n"
     ]
    }
   ],
   "source": [
    "print(\"Accuracy Score\")\n",
    "ada_clf_train_score = ada_clf.score(X_train_final, y_train)\n",
    "ada_clf_test_score = ada_clf.score(X_test_final, y_test)\n",
    "\n",
    "print('Train Score: {0}\\nTest Score: {1}'.format(ada_clf_train_score, ada_clf_test_score))\n",
    "print(\"\")\n",
    "print(\"Precision Score\")\n",
    "train_precision_man = precision_score(y_train, y_train_pred_ada_clf)\n",
    "test_precison_man = precision_score(y_test, y_test_pred_ada_clf)\n",
    "\n",
    "print('Train Precision: {0}\\nTest Precision: {1}'.format(y_train_pred_ada_clf, y_test_pred_ada_clf))\n",
    "print(\"\")\n",
    "\n",
    "print(\"TEST PERFORMANCE\")\n",
    "print(classification_report(y_test,y_test_pred_ada_clf))"
   ]
  },
  {
   "cell_type": "code",
   "execution_count": 199,
   "metadata": {},
   "outputs": [
    {
     "data": {
      "image/png": "[encoded data removed]",
      "text/plain": [
       "<Figure size 640x480 with 2 Axes>"
      ]
     },
     "metadata": {},
     "output_type": "display_data"
    }
   ],
   "source": [
    "cm_ada = confusion_matrix(y_test, y_test_pred_ada_clf, labels=log_model.classes_)\n",
    "disp = ConfusionMatrixDisplay(confusion_matrix=cm_ada,display_labels=log_model.classes_)\n",
    "\n",
    "disp.plot()\n",
    "plt.show()"
   ]
  },
  {
   "cell_type": "markdown",
   "metadata": {},
   "source": [
    "### 8.6.1 Pipeline Boosting"
   ]
  },
  {
   "cell_type": "code",
   "execution_count": 200,
   "metadata": {},
   "outputs": [],
   "source": [
    "y_pred_train_boos_pipe = pipeline_ada.predict(X_train)\n",
    "y_pred_test_boos_pipe = pipeline_ada.predict(X_test)"
   ]
  },
  {
   "cell_type": "code",
   "execution_count": 201,
   "metadata": {},
   "outputs": [
    {
     "name": "stdout",
     "output_type": "stream",
     "text": [
      "Precision Score - All - Pipeline     :  [0.81456954 0.83636364 0.71859296 0.77777778 0.81818182]\n",
      "Precision Score - Mean - Pipeline    :  0.7930971467142388\n",
      "Precision Score - Std - Pipeline     :  0.04182786050657163\n",
      "Precision Score - Range of Test-Set  :  0.7512692862076672 - 0.8349250072208104\n"
     ]
    }
   ],
   "source": [
    "pre_score_train_pipe_boos = cross_val_score(pipeline_ada,\n",
    "                                           X_train, \n",
    "                                           y_train, \n",
    "                                           cv=5,\n",
    "                                           scoring='precision')\n",
    "\n",
    "print('Precision Score - All - Pipeline     : ', pre_score_train_pipe_boos)\n",
    "print('Precision Score - Mean - Pipeline    : ', pre_score_train_pipe_boos.mean())\n",
    "print('Precision Score - Std - Pipeline     : ', pre_score_train_pipe_boos.std())\n",
    "print('Precision Score - Range of Test-Set  : ', (pre_score_train_pipe_boos.mean()-pre_score_train_pipe_boos.std()) ,\n",
    "                                         '-', (pre_score_train_pipe_boos.mean()+pre_score_train_pipe_boos.std()))"
   ]
  },
  {
   "cell_type": "code",
   "execution_count": 202,
   "metadata": {},
   "outputs": [
    {
     "name": "stdout",
     "output_type": "stream",
     "text": [
      "Accuracy Score\n",
      "Train Score: 0.7858678130037614\n",
      "Test Score: 0.799140708915145\n",
      "\n",
      "Precision Score\n",
      "Train Precision: 0.793778801843318\n",
      "Test Precision: 0.7731958762886598\n",
      "\n",
      "TEST PERFORMANCE\n",
      "              precision    recall  f1-score   support\n",
      "\n",
      "           0       0.81      0.93      0.86       638\n",
      "           1       0.77      0.51      0.62       293\n",
      "\n",
      "    accuracy                           0.80       931\n",
      "   macro avg       0.79      0.72      0.74       931\n",
      "weighted avg       0.80      0.80      0.79       931\n",
      "\n"
     ]
    }
   ],
   "source": [
    "print(\"Accuracy Score\")\n",
    "boospipe_train_score = pipeline_ada.score(X_train, y_train)\n",
    "boospipe_test_score = pipeline_ada.score(X_test, y_test)\n",
    "\n",
    "print('Train Score: {0}\\nTest Score: {1}'.format(boospipe_train_score, boospipe_test_score))\n",
    "print(\"\")\n",
    "print(\"Precision Score\")\n",
    "train_precision_boss_pipe = precision_score(y_train, y_pred_train_boos_pipe)\n",
    "test_precision_boss_pipe = precision_score(y_test,y_pred_test_boos_pipe)\n",
    "\n",
    "print('Train Precision: {0}\\nTest Precision: {1}'.format(train_precision_boss_pipe, test_precision_boss_pipe))\n",
    "print(\"\")\n",
    "print(\"TEST PERFORMANCE\")\n",
    "print(classification_report(y_test,y_pred_test_boos_pipe))"
   ]
  },
  {
   "cell_type": "markdown",
   "metadata": {},
   "source": [
    "Agar lebih mudah akan kita jadikan dataframe seluruh hasil baseline model di atas"
   ]
  },
  {
   "cell_type": "code",
   "execution_count": 203,
   "metadata": {},
   "outputs": [],
   "source": [
    "all_reports = {}\n",
    "\n",
    "logistic = {\n",
    "    'Cross Validation Precision Mean' : pre_score_train_cross_val_log.mean(),\n",
    "    'train - precision' : precision_score(y_train, y_pred_train_log),\n",
    "    'train - recall' : recall_score(y_train, y_pred_train_log),\n",
    "    'train - accuracy' : accuracy_score(y_train, y_pred_train_log),\n",
    "    'train - f1_score' : f1_score(y_train, y_pred_train_log),\n",
    "    'test - precision' : precision_score(y_test, y_pred_test_log),\n",
    "    'test - recall' : recall_score(y_test, y_pred_test_log),\n",
    "    'test - accuracy_score' : accuracy_score(y_test, y_pred_test_log),\n",
    "    'test - f1_score' : f1_score(y_test, y_pred_test_log)\n",
    "}\n",
    "\n",
    "logistic_pipe = {\n",
    "    'Cross Validation Precision Mean' : pre_score_train_pipe_log.mean(),\n",
    "    'train - precision' : precision_score(y_train, y_pred_train_log_pipe),\n",
    "    'train - recall' : recall_score(y_train, y_pred_train_log_pipe),\n",
    "    'train - accuracy' : accuracy_score(y_train, y_pred_train_log_pipe),\n",
    "    'train - f1_score' : f1_score(y_train, y_pred_train_log_pipe),\n",
    "    'test - precision' : precision_score(y_test, y_pred_test_log_pipe),\n",
    "    'test - recall' : recall_score(y_test, y_pred_test_log_pipe),\n",
    "    'test - accuracy_score' : accuracy_score(y_test, y_pred_test_log_pipe),\n",
    "    'test - f1_score' : f1_score(y_test, y_pred_test_log_pipe)\n",
    "}\n",
    "\n",
    "decisiontree = {\n",
    "    'Cross Validation Precision Mean' : pre_score_train_cross_val_dtr.mean(),\n",
    "    'train - precision' : precision_score(y_train, y_pred_train_dtr),\n",
    "    'train - recall' : recall_score(y_train, y_pred_train_dtr),\n",
    "    'train - accuracy' : accuracy_score(y_train, y_pred_train_dtr),\n",
    "    'train - f1_score' : f1_score(y_train, y_pred_train_dtr),\n",
    "    'test - precision' : precision_score(y_test, y_pred_test_dtr),\n",
    "    'test - recall' : recall_score(y_test, y_pred_test_dtr),\n",
    "    'test - accuracy_score' : accuracy_score(y_test, y_pred_test_dtr),\n",
    "    'test - f1_score' : f1_score(y_test, y_pred_test_dtr)\n",
    "}\n",
    "\n",
    "decisiontree_pipe = {\n",
    "    'Cross Validation Precision Mean' : pre_score_train_pipe_dtr.mean(),\n",
    "    'train - precision' : precision_score(y_train, y_pred_train_dtr_pipe),\n",
    "    'train - recall' : recall_score(y_train, y_pred_train_dtr_pipe),\n",
    "    'train - accuracy' : accuracy_score(y_train, y_pred_train_dtr_pipe),\n",
    "    'train - f1_score' : f1_score(y_train, y_pred_train_dtr_pipe),\n",
    "    'test - precision' : precision_score(y_test, y_pred_test_dtr_pipe),\n",
    "    'test - recall' : recall_score(y_test, y_pred_test_dtr_pipe),\n",
    "    'test - accuracy_score' : accuracy_score(y_test, y_pred_test_dtr_pipe),\n",
    "    'test - f1_score' : f1_score(y_test, y_pred_test_dtr_pipe)\n",
    "}\n",
    "\n",
    "euclidean = {\n",
    "    'Cross Validation Precision Mean' : pre_score_train_cross_val_euc.mean(),\n",
    "    'train - precision' : precision_score(y_train, y_pred_train_knn_euc),\n",
    "    'train - recall' : recall_score(y_train, y_pred_train_knn_euc),\n",
    "    'train - accuracy' : accuracy_score(y_train, y_pred_train_knn_euc),\n",
    "    'train - f1_score' : f1_score(y_train, y_pred_train_knn_euc),\n",
    "    'test - precision' : precision_score(y_test, y_pred_test_knn_euc),\n",
    "    'test - recall' : recall_score(y_test, y_pred_test_knn_euc),\n",
    "    'test - accuracy_score' : accuracy_score(y_test, y_pred_test_knn_euc),\n",
    "    'test - f1_score' : f1_score(y_test, y_pred_test_knn_euc)\n",
    "}\n",
    "\n",
    "euclidean_pipe = {\n",
    "    'Cross Validation Precision Mean' : pre_score_train_pipe_cls.mean(),\n",
    "    'train - precision' : precision_score(y_train, y_pred_train_eu_pipe),\n",
    "    'train - recall' : recall_score(y_train, y_pred_train_eu_pipe),\n",
    "    'train - accuracy' : accuracy_score(y_train, y_pred_train_eu_pipe),\n",
    "    'train - f1_score' : f1_score(y_train, y_pred_train_eu_pipe),\n",
    "    'test - precision' : precision_score(y_test, y_pred_test_eu_pipe),\n",
    "    'test - recall' : recall_score(y_test, y_pred_test_eu_pipe),\n",
    "    'test - accuracy_score' : accuracy_score(y_test, y_pred_test_eu_pipe),\n",
    "    'test - f1_score' : f1_score(y_test, y_pred_test_eu_pipe)\n",
    "}\n",
    "\n",
    "manhattan = {\n",
    "    'Cross Validation Precision Mean' : pre_score_train_cross_val_man.mean(),\n",
    "    'train - precision' : precision_score(y_train, y_pred_train_knn_man),\n",
    "    'train - recall' : recall_score(y_train, y_pred_train_knn_man),\n",
    "    'train - accuracy' : accuracy_score(y_train, y_pred_train_knn_man),\n",
    "    'train - f1_score' : f1_score(y_train, y_pred_train_knn_man),\n",
    "    'test - precision' : precision_score(y_test, y_pred_test_knn_man),\n",
    "    'test - recall' : recall_score(y_test, y_pred_test_knn_man),\n",
    "    'test - accuracy_score' : accuracy_score(y_test, y_pred_test_knn_man),\n",
    "    'test - f1_score' : f1_score(y_test, y_pred_test_knn_man)\n",
    "}\n",
    "\n",
    "manhattan_pipe = {\n",
    "    'Cross Validation Precision Mean' : pre_score_train_pipe_mht.mean(),\n",
    "    'train - precision' : precision_score(y_train, y_pred_train_mht_pipe),\n",
    "    'train - recall' : recall_score(y_train, y_pred_train_mht_pipe),\n",
    "    'train - accuracy' : accuracy_score(y_train, y_pred_train_mht_pipe),\n",
    "    'train - f1_score' : f1_score(y_train, y_pred_train_mht_pipe),\n",
    "    'test - precision' : precision_score(y_test, y_pred_test_mht_pipe),\n",
    "    'test - recall' : recall_score(y_test, y_pred_test_mht_pipe),\n",
    "    'test - accuracy_score' : accuracy_score(y_test, y_pred_test_mht_pipe),\n",
    "    'test - f1_score' : f1_score(y_test, y_pred_test_mht_pipe)\n",
    "}\n",
    "\n",
    "randomf = {\n",
    "    'Cross Validation Precision Mean' : pre_score_train_cross_val_rf.mean(),\n",
    "    'train - precision' : precision_score(y_train, y_pred_train_rf),\n",
    "    'train - recall' : recall_score(y_train, y_pred_train_rf),\n",
    "    'train - accuracy' : accuracy_score(y_train, y_pred_train_rf),\n",
    "    'train - f1_score' : f1_score(y_train, y_pred_train_rf),\n",
    "    'test - precision' : precision_score(y_test, y_pred_test_rf),\n",
    "    'test - recall' : recall_score(y_test, y_pred_test_rf),\n",
    "    'test - accuracy_score' : accuracy_score(y_test, y_pred_test_rf),\n",
    "    'test - f1_score' : f1_score(y_test, y_pred_test_rf)\n",
    "}\n",
    "\n",
    "randomf_pipe = {\n",
    "    'Cross Validation Precision Mean' : pre_score_train_pipe_rf.mean(),\n",
    "    'train - precision' : precision_score(y_train, y_pred_train_rf_pipe),\n",
    "    'train - recall' : recall_score(y_train, y_pred_train_rf_pipe),\n",
    "    'train - accuracy' : accuracy_score(y_train, y_pred_train_rf_pipe),\n",
    "    'train - f1_score' : f1_score(y_train, y_pred_train_rf_pipe),\n",
    "    'test - precision' : precision_score(y_test, y_pred_test_rf_pipe),\n",
    "    'test - recall' : recall_score(y_test, y_pred_test_rf_pipe),\n",
    "    'test - accuracy_score' : accuracy_score(y_test, y_pred_test_rf_pipe),\n",
    "    'test - f1_score' : f1_score(y_test, y_pred_test_rf_pipe)\n",
    "}\n",
    "\n",
    "svca = {\n",
    "    'Cross Validation Precision Mean' : pre_score_train_cross_val_svc.mean(),\n",
    "    'train - precision' : precision_score(y_train, y_pred_train_svc),\n",
    "    'train - recall' : recall_score(y_train, y_pred_train_svc),\n",
    "    'train - accuracy' : accuracy_score(y_train, y_pred_train_svc),\n",
    "    'train - f1_score' : f1_score(y_train, y_pred_train_svc),\n",
    "    'test - precision' : precision_score(y_test, y_pred_test_svc),\n",
    "    'test - recall' : recall_score(y_test, y_pred_test_svc),\n",
    "    'test - accuracy_score' : accuracy_score(y_test, y_pred_test_svc),\n",
    "    'test - f1_score' : f1_score(y_test, y_pred_test_svc)}\n",
    "\n",
    "svca_pipeline = {\n",
    "    'Cross Validation Precision Mean' : pre_score_train_pipe_svc.mean(),\n",
    "    'train - precision' : precision_score(y_train, y_pred_train_svc_pipe),\n",
    "    'train - recall' : recall_score(y_train, y_pred_train_svc_pipe),\n",
    "    'train - accuracy' : accuracy_score(y_train, y_pred_train_svc_pipe),\n",
    "    'train - f1_score' : f1_score(y_train, y_pred_train_svc_pipe),\n",
    "    'test - precision' : precision_score(y_test, y_pred_test_svc_pipe),\n",
    "    'test - recall' : recall_score(y_test, y_pred_test_svc_pipe),\n",
    "    'test - accuracy_score' : accuracy_score(y_test, y_pred_test_svc_pipe),\n",
    "    'test - f1_score' : f1_score(y_test, y_pred_test_svc_pipe)}\n",
    "\n",
    "boosting = {\n",
    "    'Cross Validation Precision Mean' : pre_score_train_cross_ada_clf.mean(),\n",
    "    'train - precision' : precision_score(y_train, y_train_pred_ada_clf),\n",
    "    'train - recall' : recall_score(y_train, y_train_pred_ada_clf),\n",
    "    'train - accuracy' : accuracy_score(y_train, y_train_pred_ada_clf),\n",
    "    'train - f1_score' : f1_score(y_train, y_train_pred_ada_clf),\n",
    "    'test - precision' : precision_score(y_test, y_test_pred_ada_clf),\n",
    "    'test - recall' : recall_score(y_test, y_test_pred_ada_clf),\n",
    "    'test - accuracy_score' : accuracy_score(y_test, y_test_pred_ada_clf),\n",
    "    'test - f1_score' : f1_score(y_test, y_test_pred_ada_clf)}\n",
    "\n",
    "boosting_pipeline = {\n",
    "    'Cross Validation Precision Mean' : pre_score_train_pipe_boos.mean(),\n",
    "    'train - precision' : precision_score(y_train, y_pred_train_boos_pipe),\n",
    "    'train - recall' : recall_score(y_train, y_pred_train_boos_pipe),\n",
    "    'train - accuracy' : accuracy_score(y_train, y_pred_train_boos_pipe),\n",
    "    'train - f1_score' : f1_score(y_train, y_pred_train_boos_pipe),\n",
    "    'test - precision' : precision_score(y_test, y_pred_test_boos_pipe),\n",
    "    'test - recall' : recall_score(y_test, y_pred_test_boos_pipe),\n",
    "    'test - accuracy_score' : accuracy_score(y_test, y_pred_test_boos_pipe),\n",
    "    'test - f1_score' : f1_score(y_test, y_pred_test_boos_pipe)}"
   ]
  },
  {
   "cell_type": "code",
   "execution_count": 204,
   "metadata": {},
   "outputs": [],
   "source": [
    "all_reports[\"LogisticRegression\"] = logistic\n",
    "all_reports[\"SVM\"] = svca\n",
    "all_reports[\"DecisionTree\"] = decisiontree\n",
    "all_reports[\"RandomForest\"] = randomf\n",
    "all_reports[\"Euclidean\"] = euclidean\n",
    "all_reports[\"Manhattan\"] = manhattan\n",
    "all_reports[\"Boosting\"] = boosting\n",
    "all_reports['LogisticRegression Pipeline'] = logistic_pipe\n",
    "all_reports['SVM Pipeline'] = svca_pipeline\n",
    "all_reports['DecisionTree Pipeline'] = decisiontree_pipe\n",
    "all_reports['RandomForest Pipeline'] = randomf_pipe\n",
    "all_reports['Euclidean Pipeline'] = euclidean_pipe\n",
    "all_reports['Manhattan Pipeline'] = manhattan_pipe\n",
    "all_reports['Boosting Pipeline'] = boosting_pipeline\n",
    "\n",
    "report = pd.DataFrame(all_reports)\n",
    "report = report.transpose()\n",
    "report = report.sort_values(by='Cross Validation Precision Mean', ascending=False)"
   ]
  },
  {
   "cell_type": "code",
   "execution_count": 205,
   "metadata": {},
   "outputs": [
    {
     "data": {
      "text/html": [
       "<div>\n",
       "<style scoped>\n",
       "    .dataframe tbody tr th:only-of-type {\n",
       "        vertical-align: middle;\n",
       "    }\n",
       "\n",
       "    .dataframe tbody tr th {\n",
       "        vertical-align: top;\n",
       "    }\n",
       "\n",
       "    .dataframe thead th {\n",
       "        text-align: right;\n",
       "    }\n",
       "</style>\n",
       "<table border=\"1\" class=\"dataframe\">\n",
       "  <thead>\n",
       "    <tr style=\"text-align: right;\">\n",
       "      <th></th>\n",
       "      <th>Cross Validation Precision Mean</th>\n",
       "      <th>train - precision</th>\n",
       "      <th>train - recall</th>\n",
       "      <th>train - accuracy</th>\n",
       "      <th>train - f1_score</th>\n",
       "      <th>test - precision</th>\n",
       "      <th>test - recall</th>\n",
       "      <th>test - accuracy_score</th>\n",
       "      <th>test - f1_score</th>\n",
       "    </tr>\n",
       "  </thead>\n",
       "  <tbody>\n",
       "    <tr>\n",
       "      <th>SVM</th>\n",
       "      <td>0.828103</td>\n",
       "      <td>0.869888</td>\n",
       "      <td>0.537108</td>\n",
       "      <td>0.809242</td>\n",
       "      <td>0.664144</td>\n",
       "      <td>0.824468</td>\n",
       "      <td>0.529010</td>\n",
       "      <td>0.816327</td>\n",
       "      <td>0.644491</td>\n",
       "    </tr>\n",
       "    <tr>\n",
       "      <th>SVM Pipeline</th>\n",
       "      <td>0.825653</td>\n",
       "      <td>0.869888</td>\n",
       "      <td>0.537108</td>\n",
       "      <td>0.809242</td>\n",
       "      <td>0.664144</td>\n",
       "      <td>0.824468</td>\n",
       "      <td>0.529010</td>\n",
       "      <td>0.816327</td>\n",
       "      <td>0.644491</td>\n",
       "    </tr>\n",
       "    <tr>\n",
       "      <th>Boosting</th>\n",
       "      <td>0.793097</td>\n",
       "      <td>0.793779</td>\n",
       "      <td>0.527161</td>\n",
       "      <td>0.785868</td>\n",
       "      <td>0.633563</td>\n",
       "      <td>0.773196</td>\n",
       "      <td>0.511945</td>\n",
       "      <td>0.799141</td>\n",
       "      <td>0.616016</td>\n",
       "    </tr>\n",
       "    <tr>\n",
       "      <th>Boosting Pipeline</th>\n",
       "      <td>0.793097</td>\n",
       "      <td>0.793779</td>\n",
       "      <td>0.527161</td>\n",
       "      <td>0.785868</td>\n",
       "      <td>0.633563</td>\n",
       "      <td>0.773196</td>\n",
       "      <td>0.511945</td>\n",
       "      <td>0.799141</td>\n",
       "      <td>0.616016</td>\n",
       "    </tr>\n",
       "    <tr>\n",
       "      <th>RandomForest Pipeline</th>\n",
       "      <td>0.733424</td>\n",
       "      <td>0.899425</td>\n",
       "      <td>0.718439</td>\n",
       "      <td>0.872918</td>\n",
       "      <td>0.798809</td>\n",
       "      <td>0.728814</td>\n",
       "      <td>0.587031</td>\n",
       "      <td>0.801289</td>\n",
       "      <td>0.650284</td>\n",
       "    </tr>\n",
       "    <tr>\n",
       "      <th>RandomForest</th>\n",
       "      <td>0.722324</td>\n",
       "      <td>0.880474</td>\n",
       "      <td>0.738332</td>\n",
       "      <td>0.872918</td>\n",
       "      <td>0.803163</td>\n",
       "      <td>0.697318</td>\n",
       "      <td>0.621160</td>\n",
       "      <td>0.795918</td>\n",
       "      <td>0.657040</td>\n",
       "    </tr>\n",
       "    <tr>\n",
       "      <th>DecisionTree</th>\n",
       "      <td>0.716187</td>\n",
       "      <td>0.931677</td>\n",
       "      <td>0.688600</td>\n",
       "      <td>0.872918</td>\n",
       "      <td>0.791905</td>\n",
       "      <td>0.726087</td>\n",
       "      <td>0.569966</td>\n",
       "      <td>0.796992</td>\n",
       "      <td>0.638623</td>\n",
       "    </tr>\n",
       "    <tr>\n",
       "      <th>DecisionTree Pipeline</th>\n",
       "      <td>0.714761</td>\n",
       "      <td>0.931677</td>\n",
       "      <td>0.688600</td>\n",
       "      <td>0.872918</td>\n",
       "      <td>0.791905</td>\n",
       "      <td>0.736607</td>\n",
       "      <td>0.563140</td>\n",
       "      <td>0.799141</td>\n",
       "      <td>0.638298</td>\n",
       "    </tr>\n",
       "    <tr>\n",
       "      <th>Euclidean</th>\n",
       "      <td>0.663475</td>\n",
       "      <td>0.797619</td>\n",
       "      <td>0.563887</td>\n",
       "      <td>0.796615</td>\n",
       "      <td>0.660690</td>\n",
       "      <td>0.639269</td>\n",
       "      <td>0.477816</td>\n",
       "      <td>0.750806</td>\n",
       "      <td>0.546875</td>\n",
       "    </tr>\n",
       "    <tr>\n",
       "      <th>Manhattan</th>\n",
       "      <td>0.663475</td>\n",
       "      <td>0.797619</td>\n",
       "      <td>0.563887</td>\n",
       "      <td>0.796615</td>\n",
       "      <td>0.660690</td>\n",
       "      <td>0.639269</td>\n",
       "      <td>0.477816</td>\n",
       "      <td>0.750806</td>\n",
       "      <td>0.546875</td>\n",
       "    </tr>\n",
       "    <tr>\n",
       "      <th>Euclidean Pipeline</th>\n",
       "      <td>0.649853</td>\n",
       "      <td>0.796336</td>\n",
       "      <td>0.565417</td>\n",
       "      <td>0.796615</td>\n",
       "      <td>0.661298</td>\n",
       "      <td>0.640909</td>\n",
       "      <td>0.481229</td>\n",
       "      <td>0.751880</td>\n",
       "      <td>0.549708</td>\n",
       "    </tr>\n",
       "    <tr>\n",
       "      <th>Manhattan Pipeline</th>\n",
       "      <td>0.649853</td>\n",
       "      <td>0.796336</td>\n",
       "      <td>0.565417</td>\n",
       "      <td>0.796615</td>\n",
       "      <td>0.661298</td>\n",
       "      <td>0.640909</td>\n",
       "      <td>0.481229</td>\n",
       "      <td>0.751880</td>\n",
       "      <td>0.549708</td>\n",
       "    </tr>\n",
       "    <tr>\n",
       "      <th>LogisticRegression</th>\n",
       "      <td>0.515710</td>\n",
       "      <td>0.526066</td>\n",
       "      <td>0.254782</td>\n",
       "      <td>0.657711</td>\n",
       "      <td>0.343299</td>\n",
       "      <td>0.478261</td>\n",
       "      <td>0.262799</td>\n",
       "      <td>0.677766</td>\n",
       "      <td>0.339207</td>\n",
       "    </tr>\n",
       "    <tr>\n",
       "      <th>LogisticRegression Pipeline</th>\n",
       "      <td>0.515710</td>\n",
       "      <td>0.526066</td>\n",
       "      <td>0.254782</td>\n",
       "      <td>0.657711</td>\n",
       "      <td>0.343299</td>\n",
       "      <td>0.478261</td>\n",
       "      <td>0.262799</td>\n",
       "      <td>0.677766</td>\n",
       "      <td>0.339207</td>\n",
       "    </tr>\n",
       "  </tbody>\n",
       "</table>\n",
       "</div>"
      ],
      "text/plain": [
       "                             Cross Validation Precision Mean  \\\n",
       "SVM                                                 0.828103   \n",
       "SVM Pipeline                                        0.825653   \n",
       "Boosting                                            0.793097   \n",
       "Boosting Pipeline                                   0.793097   \n",
       "RandomForest Pipeline                               0.733424   \n",
       "RandomForest                                        0.722324   \n",
       "DecisionTree                                        0.716187   \n",
       "DecisionTree Pipeline                               0.714761   \n",
       "Euclidean                                           0.663475   \n",
       "Manhattan                                           0.663475   \n",
       "Euclidean Pipeline                                  0.649853   \n",
       "Manhattan Pipeline                                  0.649853   \n",
       "LogisticRegression                                  0.515710   \n",
       "LogisticRegression Pipeline                         0.515710   \n",
       "\n",
       "                             train - precision  train - recall  \\\n",
       "SVM                                   0.869888        0.537108   \n",
       "SVM Pipeline                          0.869888        0.537108   \n",
       "Boosting                              0.793779        0.527161   \n",
       "Boosting Pipeline                     0.793779        0.527161   \n",
       "RandomForest Pipeline                 0.899425        0.718439   \n",
       "RandomForest                          0.880474        0.738332   \n",
       "DecisionTree                          0.931677        0.688600   \n",
       "DecisionTree Pipeline                 0.931677        0.688600   \n",
       "Euclidean                             0.797619        0.563887   \n",
       "Manhattan                             0.797619        0.563887   \n",
       "Euclidean Pipeline                    0.796336        0.565417   \n",
       "Manhattan Pipeline                    0.796336        0.565417   \n",
       "LogisticRegression                    0.526066        0.254782   \n",
       "LogisticRegression Pipeline           0.526066        0.254782   \n",
       "\n",
       "                             train - accuracy  train - f1_score  \\\n",
       "SVM                                  0.809242          0.664144   \n",
       "SVM Pipeline                         0.809242          0.664144   \n",
       "Boosting                             0.785868          0.633563   \n",
       "Boosting Pipeline                    0.785868          0.633563   \n",
       "RandomForest Pipeline                0.872918          0.798809   \n",
       "RandomForest                         0.872918          0.803163   \n",
       "DecisionTree                         0.872918          0.791905   \n",
       "DecisionTree Pipeline                0.872918          0.791905   \n",
       "Euclidean                            0.796615          0.660690   \n",
       "Manhattan                            0.796615          0.660690   \n",
       "Euclidean Pipeline                   0.796615          0.661298   \n",
       "Manhattan Pipeline                   0.796615          0.661298   \n",
       "LogisticRegression                   0.657711          0.343299   \n",
       "LogisticRegression Pipeline          0.657711          0.343299   \n",
       "\n",
       "                             test - precision  test - recall  \\\n",
       "SVM                                  0.824468       0.529010   \n",
       "SVM Pipeline                         0.824468       0.529010   \n",
       "Boosting                             0.773196       0.511945   \n",
       "Boosting Pipeline                    0.773196       0.511945   \n",
       "RandomForest Pipeline                0.728814       0.587031   \n",
       "RandomForest                         0.697318       0.621160   \n",
       "DecisionTree                         0.726087       0.569966   \n",
       "DecisionTree Pipeline                0.736607       0.563140   \n",
       "Euclidean                            0.639269       0.477816   \n",
       "Manhattan                            0.639269       0.477816   \n",
       "Euclidean Pipeline                   0.640909       0.481229   \n",
       "Manhattan Pipeline                   0.640909       0.481229   \n",
       "LogisticRegression                   0.478261       0.262799   \n",
       "LogisticRegression Pipeline          0.478261       0.262799   \n",
       "\n",
       "                             test - accuracy_score  test - f1_score  \n",
       "SVM                                       0.816327         0.644491  \n",
       "SVM Pipeline                              0.816327         0.644491  \n",
       "Boosting                                  0.799141         0.616016  \n",
       "Boosting Pipeline                         0.799141         0.616016  \n",
       "RandomForest Pipeline                     0.801289         0.650284  \n",
       "RandomForest                              0.795918         0.657040  \n",
       "DecisionTree                              0.796992         0.638623  \n",
       "DecisionTree Pipeline                     0.799141         0.638298  \n",
       "Euclidean                                 0.750806         0.546875  \n",
       "Manhattan                                 0.750806         0.546875  \n",
       "Euclidean Pipeline                        0.751880         0.549708  \n",
       "Manhattan Pipeline                        0.751880         0.549708  \n",
       "LogisticRegression                        0.677766         0.339207  \n",
       "LogisticRegression Pipeline               0.677766         0.339207  "
      ]
     },
     "execution_count": 205,
     "metadata": {},
     "output_type": "execute_result"
    }
   ],
   "source": [
    "report"
   ]
  },
  {
   "cell_type": "markdown",
   "metadata": {},
   "source": [
    "# 9. Hyperparameter Tuning"
   ]
  },
  {
   "cell_type": "markdown",
   "metadata": {},
   "source": [
    "Setelah kita mengetahui nilai baseline dari ketiga model tersebut, diketahui bahwa model yang cenderung paling bagus adalah precision pada SVM PipeLine"
   ]
  },
  {
   "cell_type": "code",
   "execution_count": 206,
   "metadata": {},
   "outputs": [],
   "source": [
    "param_grid_log = {\n",
    "    'classifier__penalty': ['l1','l2'],\n",
    "    'classifier__C': [0.1, 0.5, 1, 10, 15, 20,25,30],\n",
    "    'classifier__solver' : ['lbfgs', 'liblinear', 'sag', 'saga'],\n",
    "    'classifier__max_iter' : [2,3,4,5, 10, 15],\n",
    "    'classifier__multi_class' : ['auto', 'ovr', 'multinomial']\n",
    "}"
   ]
  },
  {
   "cell_type": "code",
   "execution_count": 207,
   "metadata": {},
   "outputs": [
    {
     "name": "stdout",
     "output_type": "stream",
     "text": [
      "Fitting 5 folds for each of 108 candidates, totalling 540 fits\n"
     ]
    },
    {
     "name": "stdout",
     "output_type": "stream",
     "text": [
      "Best parameters: {'classifier__C': 2.25, 'classifier__degree': 6, 'classifier__gamma': 'scale', 'classifier__kernel': 'rbf', 'classifier__max_iter': -1, 'classifier__random_state': 10}\n",
      "Best Precision score: 0.8491953603592304\n"
     ]
    }
   ],
   "source": [
    "# Define the parameter grid for GridSearchCV\n",
    "param_grid_svc_pipe = {\n",
    "    'classifier__C': [2.25, 1.75, 2],\n",
    "    'classifier__kernel': ['linear', 'rbf'],\n",
    "    'classifier__gamma' : ['scale', 'auto'],\n",
    "    'classifier__max_iter': [-1, 3, 0],\n",
    "    'classifier__degree' : [6, 4, 5],\n",
    "    'classifier__random_state' : [10]\n",
    "}\n",
    "\n",
    "# Create a GridSearchCV object\n",
    "\n",
    "grid_svc_pipe = GridSearchCV(pipeline_svm, param_grid_svc_pipe,verbose=3,refit=True,scoring ='precision', cv=5, return_train_score=True, n_jobs=2)\n",
    "# Fit the GridSearchCV object to the training data\n",
    "grid_svc_pipe.fit(X_train, y_train)\n",
    "\n",
    "# Print the best parameters and the corresponding accuracy score\n",
    "print(\"Best parameters:\", grid_svc_pipe.best_params_)\n",
    "print(\"Best Precision score:\", grid_svc_pipe.best_score_)"
   ]
  },
  {
   "cell_type": "code",
   "execution_count": 208,
   "metadata": {},
   "outputs": [
    {
     "name": "stdout",
     "output_type": "stream",
     "text": [
      "SVM Tuning Pipe - Precision - Train Set :  0.8987012987012987\n",
      "SVM Tuning Pipe- Precision - Test Set  :  0.847457627118644\n",
      "Confusion Matrix      : \n",
      " <sklearn.metrics._plot.confusion_matrix.ConfusionMatrixDisplay object at 0x000001E35AF25C50>\n"
     ]
    },
    {
     "data": {
      "image/png": "[encoded data removed]",
      "text/plain": [
       "<Figure size 640x480 with 2 Axes>"
      ]
     },
     "metadata": {},
     "output_type": "display_data"
    }
   ],
   "source": [
    "# Check Performance Model against Test-Set\n",
    "\n",
    "y_pred_train_gridcv_pipe = grid_svc_pipe.predict(X_train)\n",
    "y_pred_test_gridcv_pipe = grid_svc_pipe.predict(X_test)\n",
    "print('SVM Tuning Pipe - Precision - Train Set : ',precision_score(y_train, y_pred_train_gridcv_pipe))\n",
    "print('SVM Tuning Pipe- Precision - Test Set  : ',precision_score(y_test, y_pred_test_gridcv_pipe))\n",
    "print('Confusion Matrix      : \\n', ConfusionMatrixDisplay.from_estimator(grid_svc_pipe, X_test, y_test, cmap='Reds'))"
   ]
  },
  {
   "cell_type": "markdown",
   "metadata": {},
   "source": [
    "## 9.1 Cross Valdiation"
   ]
  },
  {
   "cell_type": "markdown",
   "metadata": {},
   "source": [
    "Untuk memastikan hasil Hyperparameter Tuning di atas maka akan kita Cross Validation"
   ]
  },
  {
   "cell_type": "code",
   "execution_count": 209,
   "metadata": {},
   "outputs": [
    {
     "name": "stdout",
     "output_type": "stream",
     "text": [
      "Fitting 5 folds for each of 108 candidates, totalling 540 fits\n",
      "Fitting 5 folds for each of 108 candidates, totalling 540 fits\n",
      "Fitting 5 folds for each of 108 candidates, totalling 540 fits\n",
      "Fitting 5 folds for each of 108 candidates, totalling 540 fits\n",
      "Fitting 5 folds for each of 108 candidates, totalling 540 fits\n",
      "Precision Score - All - Cross Validation  :  [0.83802817 0.86227545 0.8373494  0.8516129  0.85276074]\n",
      "Precision Score - Mean - Cross Validation :  0.8484053310256735\n",
      "Precision Score - Std - Cross Validation  :  0.009503235287058405\n",
      "Precision Score - Range of Test-Set       :  0.8389020957386151 - 0.8579085663127319\n"
     ]
    }
   ],
   "source": [
    "pre_score_train_cross_val_grid_svc_pipe = cross_val_score(grid_svc_pipe, \n",
    "                                           X_train, \n",
    "                                           y_train, \n",
    "                                           cv=5,\n",
    "                                           scoring='precision')\n",
    "\n",
    "print('Precision Score - All - Cross Validation  : ', pre_score_train_cross_val_grid_svc_pipe)\n",
    "print('Precision Score - Mean - Cross Validation : ', pre_score_train_cross_val_grid_svc_pipe.mean())\n",
    "print('Precision Score - Std - Cross Validation  : ', pre_score_train_cross_val_grid_svc_pipe.std())\n",
    "print('Precision Score - Range of Test-Set       : ', (pre_score_train_cross_val_grid_svc_pipe.mean()-pre_score_train_cross_val_grid_svc_pipe.std()) ,\n",
    "                                         '-', (pre_score_train_cross_val_grid_svc_pipe.mean()+pre_score_train_cross_val_grid_svc_pipe.std()))"
   ]
  },
  {
   "cell_type": "code",
   "execution_count": 210,
   "metadata": {},
   "outputs": [
    {
     "name": "stdout",
     "output_type": "stream",
     "text": [
      "Accuracy Score\n"
     ]
    },
    {
     "name": "stdout",
     "output_type": "stream",
     "text": [
      "Train Score: 0.8987012987012987\n",
      "Test Score: 0.847457627118644\n",
      "\n",
      "Precision Score\n",
      "Train Precision: 0.8987012987012987\n",
      "Test Precision: 0.847457627118644\n",
      "\n",
      "TEST PERFORMANCE\n",
      "              precision    recall  f1-score   support\n",
      "\n",
      "           0       0.81      0.96      0.88       638\n",
      "           1       0.85      0.51      0.64       293\n",
      "\n",
      "    accuracy                           0.82       931\n",
      "   macro avg       0.83      0.73      0.76       931\n",
      "weighted avg       0.82      0.82      0.80       931\n",
      "\n"
     ]
    }
   ],
   "source": [
    "print(\"Accuracy Score\")\n",
    "gridcv_pipe_best_train_score = grid_svc_pipe.score(X_train, y_train)\n",
    "gridcv_pipe_test_score = grid_svc_pipe.score(X_test, y_test)\n",
    "\n",
    "print('Train Score: {0}\\nTest Score: {1}'.format(gridcv_pipe_best_train_score, gridcv_pipe_test_score))\n",
    "print(\"\")\n",
    "print(\"Precision Score\")\n",
    "train_precision_gridcv_pipe = precision_score(y_train, y_pred_train_gridcv_pipe)\n",
    "test_precision_gridcv_pipe = precision_score(y_test, y_pred_test_gridcv_pipe)\n",
    "\n",
    "print('Train Precision: {0}\\nTest Precision: {1}'.format(train_precision_gridcv_pipe, test_precision_gridcv_pipe))\n",
    "print(\"\")\n",
    "\n",
    "\n",
    "print(\"TEST PERFORMANCE\")\n",
    "print(classification_report(y_test,y_pred_test_gridcv_pipe))"
   ]
  },
  {
   "cell_type": "markdown",
   "metadata": {},
   "source": [
    "kita akan masukkan ke dalam report agar hasil dapat lebih mudah dilihat dan di bandingkan"
   ]
  },
  {
   "cell_type": "code",
   "execution_count": 211,
   "metadata": {},
   "outputs": [],
   "source": [
    "gridcvpipe_dict = {\n",
    "    'Cross Validation Precision Mean' : pre_score_train_cross_val_grid_svc_pipe.mean(),\n",
    "    'train - precision' : precision_score(y_train, y_pred_train_gridcv_pipe),\n",
    "    'train - recall' : recall_score(y_train, y_pred_train_gridcv_pipe),\n",
    "    'train - accuracy' : accuracy_score(y_train, y_pred_train_gridcv_pipe),\n",
    "    'train - f1_score' : f1_score(y_train, y_pred_train_gridcv_pipe),\n",
    "    'test - precision' : precision_score(y_test, y_pred_test_gridcv_pipe),\n",
    "    'test - recall' : recall_score(y_test, y_pred_test_gridcv_pipe),\n",
    "    'test - accuracy_score' : accuracy_score(y_test, y_pred_test_gridcv_pipe),\n",
    "    'test - f1_score' : f1_score(y_test, y_pred_test_gridcv_pipe)\n",
    "}"
   ]
  },
  {
   "cell_type": "code",
   "execution_count": 212,
   "metadata": {},
   "outputs": [],
   "source": [
    "all_reports[\"LogisticRegression\"] = logistic\n",
    "all_reports[\"SVM\"] = svca\n",
    "all_reports[\"DecisionTree\"] = decisiontree\n",
    "all_reports[\"RandomForest\"] = randomf\n",
    "all_reports[\"Euclidean\"] = euclidean\n",
    "all_reports[\"Manhattan\"] = manhattan\n",
    "all_reports[\"Boosting\"] = boosting\n",
    "all_reports[\"GridCV_Pipe\"] = gridcvpipe_dict\n",
    "report = pd.DataFrame(all_reports)\n",
    "report = report.transpose()\n",
    "report = report.sort_values(by='Cross Validation Precision Mean', ascending=False)"
   ]
  },
  {
   "cell_type": "code",
   "execution_count": 213,
   "metadata": {},
   "outputs": [
    {
     "data": {
      "text/html": [
       "<div>\n",
       "<style scoped>\n",
       "    .dataframe tbody tr th:only-of-type {\n",
       "        vertical-align: middle;\n",
       "    }\n",
       "\n",
       "    .dataframe tbody tr th {\n",
       "        vertical-align: top;\n",
       "    }\n",
       "\n",
       "    .dataframe thead th {\n",
       "        text-align: right;\n",
       "    }\n",
       "</style>\n",
       "<table border=\"1\" class=\"dataframe\">\n",
       "  <thead>\n",
       "    <tr style=\"text-align: right;\">\n",
       "      <th></th>\n",
       "      <th>Cross Validation Precision Mean</th>\n",
       "      <th>train - precision</th>\n",
       "      <th>train - recall</th>\n",
       "      <th>train - accuracy</th>\n",
       "      <th>train - f1_score</th>\n",
       "      <th>test - precision</th>\n",
       "      <th>test - recall</th>\n",
       "      <th>test - accuracy_score</th>\n",
       "      <th>test - f1_score</th>\n",
       "    </tr>\n",
       "  </thead>\n",
       "  <tbody>\n",
       "    <tr>\n",
       "      <th>GridCV_Pipe</th>\n",
       "      <td>0.848405</td>\n",
       "      <td>0.898701</td>\n",
       "      <td>0.529457</td>\n",
       "      <td>0.813810</td>\n",
       "      <td>0.666346</td>\n",
       "      <td>0.847458</td>\n",
       "      <td>0.511945</td>\n",
       "      <td>0.817401</td>\n",
       "      <td>0.638298</td>\n",
       "    </tr>\n",
       "    <tr>\n",
       "      <th>SVM</th>\n",
       "      <td>0.828103</td>\n",
       "      <td>0.869888</td>\n",
       "      <td>0.537108</td>\n",
       "      <td>0.809242</td>\n",
       "      <td>0.664144</td>\n",
       "      <td>0.824468</td>\n",
       "      <td>0.529010</td>\n",
       "      <td>0.816327</td>\n",
       "      <td>0.644491</td>\n",
       "    </tr>\n",
       "    <tr>\n",
       "      <th>SVM Pipeline</th>\n",
       "      <td>0.825653</td>\n",
       "      <td>0.869888</td>\n",
       "      <td>0.537108</td>\n",
       "      <td>0.809242</td>\n",
       "      <td>0.664144</td>\n",
       "      <td>0.824468</td>\n",
       "      <td>0.529010</td>\n",
       "      <td>0.816327</td>\n",
       "      <td>0.644491</td>\n",
       "    </tr>\n",
       "    <tr>\n",
       "      <th>Boosting</th>\n",
       "      <td>0.793097</td>\n",
       "      <td>0.793779</td>\n",
       "      <td>0.527161</td>\n",
       "      <td>0.785868</td>\n",
       "      <td>0.633563</td>\n",
       "      <td>0.773196</td>\n",
       "      <td>0.511945</td>\n",
       "      <td>0.799141</td>\n",
       "      <td>0.616016</td>\n",
       "    </tr>\n",
       "    <tr>\n",
       "      <th>Boosting Pipeline</th>\n",
       "      <td>0.793097</td>\n",
       "      <td>0.793779</td>\n",
       "      <td>0.527161</td>\n",
       "      <td>0.785868</td>\n",
       "      <td>0.633563</td>\n",
       "      <td>0.773196</td>\n",
       "      <td>0.511945</td>\n",
       "      <td>0.799141</td>\n",
       "      <td>0.616016</td>\n",
       "    </tr>\n",
       "    <tr>\n",
       "      <th>RandomForest Pipeline</th>\n",
       "      <td>0.733424</td>\n",
       "      <td>0.899425</td>\n",
       "      <td>0.718439</td>\n",
       "      <td>0.872918</td>\n",
       "      <td>0.798809</td>\n",
       "      <td>0.728814</td>\n",
       "      <td>0.587031</td>\n",
       "      <td>0.801289</td>\n",
       "      <td>0.650284</td>\n",
       "    </tr>\n",
       "    <tr>\n",
       "      <th>RandomForest</th>\n",
       "      <td>0.722324</td>\n",
       "      <td>0.880474</td>\n",
       "      <td>0.738332</td>\n",
       "      <td>0.872918</td>\n",
       "      <td>0.803163</td>\n",
       "      <td>0.697318</td>\n",
       "      <td>0.621160</td>\n",
       "      <td>0.795918</td>\n",
       "      <td>0.657040</td>\n",
       "    </tr>\n",
       "    <tr>\n",
       "      <th>DecisionTree</th>\n",
       "      <td>0.716187</td>\n",
       "      <td>0.931677</td>\n",
       "      <td>0.688600</td>\n",
       "      <td>0.872918</td>\n",
       "      <td>0.791905</td>\n",
       "      <td>0.726087</td>\n",
       "      <td>0.569966</td>\n",
       "      <td>0.796992</td>\n",
       "      <td>0.638623</td>\n",
       "    </tr>\n",
       "    <tr>\n",
       "      <th>DecisionTree Pipeline</th>\n",
       "      <td>0.714761</td>\n",
       "      <td>0.931677</td>\n",
       "      <td>0.688600</td>\n",
       "      <td>0.872918</td>\n",
       "      <td>0.791905</td>\n",
       "      <td>0.736607</td>\n",
       "      <td>0.563140</td>\n",
       "      <td>0.799141</td>\n",
       "      <td>0.638298</td>\n",
       "    </tr>\n",
       "    <tr>\n",
       "      <th>Euclidean</th>\n",
       "      <td>0.663475</td>\n",
       "      <td>0.797619</td>\n",
       "      <td>0.563887</td>\n",
       "      <td>0.796615</td>\n",
       "      <td>0.660690</td>\n",
       "      <td>0.639269</td>\n",
       "      <td>0.477816</td>\n",
       "      <td>0.750806</td>\n",
       "      <td>0.546875</td>\n",
       "    </tr>\n",
       "    <tr>\n",
       "      <th>Manhattan</th>\n",
       "      <td>0.663475</td>\n",
       "      <td>0.797619</td>\n",
       "      <td>0.563887</td>\n",
       "      <td>0.796615</td>\n",
       "      <td>0.660690</td>\n",
       "      <td>0.639269</td>\n",
       "      <td>0.477816</td>\n",
       "      <td>0.750806</td>\n",
       "      <td>0.546875</td>\n",
       "    </tr>\n",
       "    <tr>\n",
       "      <th>Euclidean Pipeline</th>\n",
       "      <td>0.649853</td>\n",
       "      <td>0.796336</td>\n",
       "      <td>0.565417</td>\n",
       "      <td>0.796615</td>\n",
       "      <td>0.661298</td>\n",
       "      <td>0.640909</td>\n",
       "      <td>0.481229</td>\n",
       "      <td>0.751880</td>\n",
       "      <td>0.549708</td>\n",
       "    </tr>\n",
       "    <tr>\n",
       "      <th>Manhattan Pipeline</th>\n",
       "      <td>0.649853</td>\n",
       "      <td>0.796336</td>\n",
       "      <td>0.565417</td>\n",
       "      <td>0.796615</td>\n",
       "      <td>0.661298</td>\n",
       "      <td>0.640909</td>\n",
       "      <td>0.481229</td>\n",
       "      <td>0.751880</td>\n",
       "      <td>0.549708</td>\n",
       "    </tr>\n",
       "    <tr>\n",
       "      <th>LogisticRegression</th>\n",
       "      <td>0.515710</td>\n",
       "      <td>0.526066</td>\n",
       "      <td>0.254782</td>\n",
       "      <td>0.657711</td>\n",
       "      <td>0.343299</td>\n",
       "      <td>0.478261</td>\n",
       "      <td>0.262799</td>\n",
       "      <td>0.677766</td>\n",
       "      <td>0.339207</td>\n",
       "    </tr>\n",
       "    <tr>\n",
       "      <th>LogisticRegression Pipeline</th>\n",
       "      <td>0.515710</td>\n",
       "      <td>0.526066</td>\n",
       "      <td>0.254782</td>\n",
       "      <td>0.657711</td>\n",
       "      <td>0.343299</td>\n",
       "      <td>0.478261</td>\n",
       "      <td>0.262799</td>\n",
       "      <td>0.677766</td>\n",
       "      <td>0.339207</td>\n",
       "    </tr>\n",
       "  </tbody>\n",
       "</table>\n",
       "</div>"
      ],
      "text/plain": [
       "                             Cross Validation Precision Mean  \\\n",
       "GridCV_Pipe                                         0.848405   \n",
       "SVM                                                 0.828103   \n",
       "SVM Pipeline                                        0.825653   \n",
       "Boosting                                            0.793097   \n",
       "Boosting Pipeline                                   0.793097   \n",
       "RandomForest Pipeline                               0.733424   \n",
       "RandomForest                                        0.722324   \n",
       "DecisionTree                                        0.716187   \n",
       "DecisionTree Pipeline                               0.714761   \n",
       "Euclidean                                           0.663475   \n",
       "Manhattan                                           0.663475   \n",
       "Euclidean Pipeline                                  0.649853   \n",
       "Manhattan Pipeline                                  0.649853   \n",
       "LogisticRegression                                  0.515710   \n",
       "LogisticRegression Pipeline                         0.515710   \n",
       "\n",
       "                             train - precision  train - recall  \\\n",
       "GridCV_Pipe                           0.898701        0.529457   \n",
       "SVM                                   0.869888        0.537108   \n",
       "SVM Pipeline                          0.869888        0.537108   \n",
       "Boosting                              0.793779        0.527161   \n",
       "Boosting Pipeline                     0.793779        0.527161   \n",
       "RandomForest Pipeline                 0.899425        0.718439   \n",
       "RandomForest                          0.880474        0.738332   \n",
       "DecisionTree                          0.931677        0.688600   \n",
       "DecisionTree Pipeline                 0.931677        0.688600   \n",
       "Euclidean                             0.797619        0.563887   \n",
       "Manhattan                             0.797619        0.563887   \n",
       "Euclidean Pipeline                    0.796336        0.565417   \n",
       "Manhattan Pipeline                    0.796336        0.565417   \n",
       "LogisticRegression                    0.526066        0.254782   \n",
       "LogisticRegression Pipeline           0.526066        0.254782   \n",
       "\n",
       "                             train - accuracy  train - f1_score  \\\n",
       "GridCV_Pipe                          0.813810          0.666346   \n",
       "SVM                                  0.809242          0.664144   \n",
       "SVM Pipeline                         0.809242          0.664144   \n",
       "Boosting                             0.785868          0.633563   \n",
       "Boosting Pipeline                    0.785868          0.633563   \n",
       "RandomForest Pipeline                0.872918          0.798809   \n",
       "RandomForest                         0.872918          0.803163   \n",
       "DecisionTree                         0.872918          0.791905   \n",
       "DecisionTree Pipeline                0.872918          0.791905   \n",
       "Euclidean                            0.796615          0.660690   \n",
       "Manhattan                            0.796615          0.660690   \n",
       "Euclidean Pipeline                   0.796615          0.661298   \n",
       "Manhattan Pipeline                   0.796615          0.661298   \n",
       "LogisticRegression                   0.657711          0.343299   \n",
       "LogisticRegression Pipeline          0.657711          0.343299   \n",
       "\n",
       "                             test - precision  test - recall  \\\n",
       "GridCV_Pipe                          0.847458       0.511945   \n",
       "SVM                                  0.824468       0.529010   \n",
       "SVM Pipeline                         0.824468       0.529010   \n",
       "Boosting                             0.773196       0.511945   \n",
       "Boosting Pipeline                    0.773196       0.511945   \n",
       "RandomForest Pipeline                0.728814       0.587031   \n",
       "RandomForest                         0.697318       0.621160   \n",
       "DecisionTree                         0.726087       0.569966   \n",
       "DecisionTree Pipeline                0.736607       0.563140   \n",
       "Euclidean                            0.639269       0.477816   \n",
       "Manhattan                            0.639269       0.477816   \n",
       "Euclidean Pipeline                   0.640909       0.481229   \n",
       "Manhattan Pipeline                   0.640909       0.481229   \n",
       "LogisticRegression                   0.478261       0.262799   \n",
       "LogisticRegression Pipeline          0.478261       0.262799   \n",
       "\n",
       "                             test - accuracy_score  test - f1_score  \n",
       "GridCV_Pipe                               0.817401         0.638298  \n",
       "SVM                                       0.816327         0.644491  \n",
       "SVM Pipeline                              0.816327         0.644491  \n",
       "Boosting                                  0.799141         0.616016  \n",
       "Boosting Pipeline                         0.799141         0.616016  \n",
       "RandomForest Pipeline                     0.801289         0.650284  \n",
       "RandomForest                              0.795918         0.657040  \n",
       "DecisionTree                              0.796992         0.638623  \n",
       "DecisionTree Pipeline                     0.799141         0.638298  \n",
       "Euclidean                                 0.750806         0.546875  \n",
       "Manhattan                                 0.750806         0.546875  \n",
       "Euclidean Pipeline                        0.751880         0.549708  \n",
       "Manhattan Pipeline                        0.751880         0.549708  \n",
       "LogisticRegression                        0.677766         0.339207  \n",
       "LogisticRegression Pipeline               0.677766         0.339207  "
      ]
     },
     "execution_count": 213,
     "metadata": {},
     "output_type": "execute_result"
    }
   ],
   "source": [
    "report"
   ]
  },
  {
   "cell_type": "markdown",
   "metadata": {},
   "source": [
    "Berdasarkan hasil dari nilai precision cross validation, model SVM pipeline yang telah di hyperparameter tuning lebih baik 0,02% dari model SVM yang telah di hypertuning tanpa di pipeline. Dapat disimpulkan kita akan menggunakan model GridCV_pipe untuk mempredict karyawan yang akan resign / tidak."
   ]
  },
  {
   "cell_type": "markdown",
   "metadata": {},
   "source": [
    "# 10. Model Evaluation"
   ]
  },
  {
   "cell_type": "code",
   "execution_count": 214,
   "metadata": {},
   "outputs": [
    {
     "data": {
      "text/html": [
       "<div>\n",
       "<style scoped>\n",
       "    .dataframe tbody tr th:only-of-type {\n",
       "        vertical-align: middle;\n",
       "    }\n",
       "\n",
       "    .dataframe tbody tr th {\n",
       "        vertical-align: top;\n",
       "    }\n",
       "\n",
       "    .dataframe thead th {\n",
       "        text-align: right;\n",
       "    }\n",
       "</style>\n",
       "<table border=\"1\" class=\"dataframe\">\n",
       "  <thead>\n",
       "    <tr style=\"text-align: right;\">\n",
       "      <th></th>\n",
       "      <th>Cross Validation Precision Mean</th>\n",
       "      <th>train - precision</th>\n",
       "      <th>train - recall</th>\n",
       "      <th>train - accuracy</th>\n",
       "      <th>train - f1_score</th>\n",
       "      <th>test - precision</th>\n",
       "      <th>test - recall</th>\n",
       "      <th>test - accuracy_score</th>\n",
       "      <th>test - f1_score</th>\n",
       "    </tr>\n",
       "  </thead>\n",
       "  <tbody>\n",
       "    <tr>\n",
       "      <th>GridCV_Pipe</th>\n",
       "      <td>0.848405</td>\n",
       "      <td>0.898701</td>\n",
       "      <td>0.529457</td>\n",
       "      <td>0.813810</td>\n",
       "      <td>0.666346</td>\n",
       "      <td>0.847458</td>\n",
       "      <td>0.511945</td>\n",
       "      <td>0.817401</td>\n",
       "      <td>0.638298</td>\n",
       "    </tr>\n",
       "    <tr>\n",
       "      <th>SVM</th>\n",
       "      <td>0.828103</td>\n",
       "      <td>0.869888</td>\n",
       "      <td>0.537108</td>\n",
       "      <td>0.809242</td>\n",
       "      <td>0.664144</td>\n",
       "      <td>0.824468</td>\n",
       "      <td>0.529010</td>\n",
       "      <td>0.816327</td>\n",
       "      <td>0.644491</td>\n",
       "    </tr>\n",
       "    <tr>\n",
       "      <th>SVM Pipeline</th>\n",
       "      <td>0.825653</td>\n",
       "      <td>0.869888</td>\n",
       "      <td>0.537108</td>\n",
       "      <td>0.809242</td>\n",
       "      <td>0.664144</td>\n",
       "      <td>0.824468</td>\n",
       "      <td>0.529010</td>\n",
       "      <td>0.816327</td>\n",
       "      <td>0.644491</td>\n",
       "    </tr>\n",
       "    <tr>\n",
       "      <th>Boosting</th>\n",
       "      <td>0.793097</td>\n",
       "      <td>0.793779</td>\n",
       "      <td>0.527161</td>\n",
       "      <td>0.785868</td>\n",
       "      <td>0.633563</td>\n",
       "      <td>0.773196</td>\n",
       "      <td>0.511945</td>\n",
       "      <td>0.799141</td>\n",
       "      <td>0.616016</td>\n",
       "    </tr>\n",
       "    <tr>\n",
       "      <th>Boosting Pipeline</th>\n",
       "      <td>0.793097</td>\n",
       "      <td>0.793779</td>\n",
       "      <td>0.527161</td>\n",
       "      <td>0.785868</td>\n",
       "      <td>0.633563</td>\n",
       "      <td>0.773196</td>\n",
       "      <td>0.511945</td>\n",
       "      <td>0.799141</td>\n",
       "      <td>0.616016</td>\n",
       "    </tr>\n",
       "    <tr>\n",
       "      <th>RandomForest Pipeline</th>\n",
       "      <td>0.733424</td>\n",
       "      <td>0.899425</td>\n",
       "      <td>0.718439</td>\n",
       "      <td>0.872918</td>\n",
       "      <td>0.798809</td>\n",
       "      <td>0.728814</td>\n",
       "      <td>0.587031</td>\n",
       "      <td>0.801289</td>\n",
       "      <td>0.650284</td>\n",
       "    </tr>\n",
       "    <tr>\n",
       "      <th>RandomForest</th>\n",
       "      <td>0.722324</td>\n",
       "      <td>0.880474</td>\n",
       "      <td>0.738332</td>\n",
       "      <td>0.872918</td>\n",
       "      <td>0.803163</td>\n",
       "      <td>0.697318</td>\n",
       "      <td>0.621160</td>\n",
       "      <td>0.795918</td>\n",
       "      <td>0.657040</td>\n",
       "    </tr>\n",
       "    <tr>\n",
       "      <th>DecisionTree</th>\n",
       "      <td>0.716187</td>\n",
       "      <td>0.931677</td>\n",
       "      <td>0.688600</td>\n",
       "      <td>0.872918</td>\n",
       "      <td>0.791905</td>\n",
       "      <td>0.726087</td>\n",
       "      <td>0.569966</td>\n",
       "      <td>0.796992</td>\n",
       "      <td>0.638623</td>\n",
       "    </tr>\n",
       "    <tr>\n",
       "      <th>DecisionTree Pipeline</th>\n",
       "      <td>0.714761</td>\n",
       "      <td>0.931677</td>\n",
       "      <td>0.688600</td>\n",
       "      <td>0.872918</td>\n",
       "      <td>0.791905</td>\n",
       "      <td>0.736607</td>\n",
       "      <td>0.563140</td>\n",
       "      <td>0.799141</td>\n",
       "      <td>0.638298</td>\n",
       "    </tr>\n",
       "    <tr>\n",
       "      <th>Euclidean</th>\n",
       "      <td>0.663475</td>\n",
       "      <td>0.797619</td>\n",
       "      <td>0.563887</td>\n",
       "      <td>0.796615</td>\n",
       "      <td>0.660690</td>\n",
       "      <td>0.639269</td>\n",
       "      <td>0.477816</td>\n",
       "      <td>0.750806</td>\n",
       "      <td>0.546875</td>\n",
       "    </tr>\n",
       "    <tr>\n",
       "      <th>Manhattan</th>\n",
       "      <td>0.663475</td>\n",
       "      <td>0.797619</td>\n",
       "      <td>0.563887</td>\n",
       "      <td>0.796615</td>\n",
       "      <td>0.660690</td>\n",
       "      <td>0.639269</td>\n",
       "      <td>0.477816</td>\n",
       "      <td>0.750806</td>\n",
       "      <td>0.546875</td>\n",
       "    </tr>\n",
       "    <tr>\n",
       "      <th>Euclidean Pipeline</th>\n",
       "      <td>0.649853</td>\n",
       "      <td>0.796336</td>\n",
       "      <td>0.565417</td>\n",
       "      <td>0.796615</td>\n",
       "      <td>0.661298</td>\n",
       "      <td>0.640909</td>\n",
       "      <td>0.481229</td>\n",
       "      <td>0.751880</td>\n",
       "      <td>0.549708</td>\n",
       "    </tr>\n",
       "    <tr>\n",
       "      <th>Manhattan Pipeline</th>\n",
       "      <td>0.649853</td>\n",
       "      <td>0.796336</td>\n",
       "      <td>0.565417</td>\n",
       "      <td>0.796615</td>\n",
       "      <td>0.661298</td>\n",
       "      <td>0.640909</td>\n",
       "      <td>0.481229</td>\n",
       "      <td>0.751880</td>\n",
       "      <td>0.549708</td>\n",
       "    </tr>\n",
       "    <tr>\n",
       "      <th>LogisticRegression</th>\n",
       "      <td>0.515710</td>\n",
       "      <td>0.526066</td>\n",
       "      <td>0.254782</td>\n",
       "      <td>0.657711</td>\n",
       "      <td>0.343299</td>\n",
       "      <td>0.478261</td>\n",
       "      <td>0.262799</td>\n",
       "      <td>0.677766</td>\n",
       "      <td>0.339207</td>\n",
       "    </tr>\n",
       "    <tr>\n",
       "      <th>LogisticRegression Pipeline</th>\n",
       "      <td>0.515710</td>\n",
       "      <td>0.526066</td>\n",
       "      <td>0.254782</td>\n",
       "      <td>0.657711</td>\n",
       "      <td>0.343299</td>\n",
       "      <td>0.478261</td>\n",
       "      <td>0.262799</td>\n",
       "      <td>0.677766</td>\n",
       "      <td>0.339207</td>\n",
       "    </tr>\n",
       "  </tbody>\n",
       "</table>\n",
       "</div>"
      ],
      "text/plain": [
       "                             Cross Validation Precision Mean  \\\n",
       "GridCV_Pipe                                         0.848405   \n",
       "SVM                                                 0.828103   \n",
       "SVM Pipeline                                        0.825653   \n",
       "Boosting                                            0.793097   \n",
       "Boosting Pipeline                                   0.793097   \n",
       "RandomForest Pipeline                               0.733424   \n",
       "RandomForest                                        0.722324   \n",
       "DecisionTree                                        0.716187   \n",
       "DecisionTree Pipeline                               0.714761   \n",
       "Euclidean                                           0.663475   \n",
       "Manhattan                                           0.663475   \n",
       "Euclidean Pipeline                                  0.649853   \n",
       "Manhattan Pipeline                                  0.649853   \n",
       "LogisticRegression                                  0.515710   \n",
       "LogisticRegression Pipeline                         0.515710   \n",
       "\n",
       "                             train - precision  train - recall  \\\n",
       "GridCV_Pipe                           0.898701        0.529457   \n",
       "SVM                                   0.869888        0.537108   \n",
       "SVM Pipeline                          0.869888        0.537108   \n",
       "Boosting                              0.793779        0.527161   \n",
       "Boosting Pipeline                     0.793779        0.527161   \n",
       "RandomForest Pipeline                 0.899425        0.718439   \n",
       "RandomForest                          0.880474        0.738332   \n",
       "DecisionTree                          0.931677        0.688600   \n",
       "DecisionTree Pipeline                 0.931677        0.688600   \n",
       "Euclidean                             0.797619        0.563887   \n",
       "Manhattan                             0.797619        0.563887   \n",
       "Euclidean Pipeline                    0.796336        0.565417   \n",
       "Manhattan Pipeline                    0.796336        0.565417   \n",
       "LogisticRegression                    0.526066        0.254782   \n",
       "LogisticRegression Pipeline           0.526066        0.254782   \n",
       "\n",
       "                             train - accuracy  train - f1_score  \\\n",
       "GridCV_Pipe                          0.813810          0.666346   \n",
       "SVM                                  0.809242          0.664144   \n",
       "SVM Pipeline                         0.809242          0.664144   \n",
       "Boosting                             0.785868          0.633563   \n",
       "Boosting Pipeline                    0.785868          0.633563   \n",
       "RandomForest Pipeline                0.872918          0.798809   \n",
       "RandomForest                         0.872918          0.803163   \n",
       "DecisionTree                         0.872918          0.791905   \n",
       "DecisionTree Pipeline                0.872918          0.791905   \n",
       "Euclidean                            0.796615          0.660690   \n",
       "Manhattan                            0.796615          0.660690   \n",
       "Euclidean Pipeline                   0.796615          0.661298   \n",
       "Manhattan Pipeline                   0.796615          0.661298   \n",
       "LogisticRegression                   0.657711          0.343299   \n",
       "LogisticRegression Pipeline          0.657711          0.343299   \n",
       "\n",
       "                             test - precision  test - recall  \\\n",
       "GridCV_Pipe                          0.847458       0.511945   \n",
       "SVM                                  0.824468       0.529010   \n",
       "SVM Pipeline                         0.824468       0.529010   \n",
       "Boosting                             0.773196       0.511945   \n",
       "Boosting Pipeline                    0.773196       0.511945   \n",
       "RandomForest Pipeline                0.728814       0.587031   \n",
       "RandomForest                         0.697318       0.621160   \n",
       "DecisionTree                         0.726087       0.569966   \n",
       "DecisionTree Pipeline                0.736607       0.563140   \n",
       "Euclidean                            0.639269       0.477816   \n",
       "Manhattan                            0.639269       0.477816   \n",
       "Euclidean Pipeline                   0.640909       0.481229   \n",
       "Manhattan Pipeline                   0.640909       0.481229   \n",
       "LogisticRegression                   0.478261       0.262799   \n",
       "LogisticRegression Pipeline          0.478261       0.262799   \n",
       "\n",
       "                             test - accuracy_score  test - f1_score  \n",
       "GridCV_Pipe                               0.817401         0.638298  \n",
       "SVM                                       0.816327         0.644491  \n",
       "SVM Pipeline                              0.816327         0.644491  \n",
       "Boosting                                  0.799141         0.616016  \n",
       "Boosting Pipeline                         0.799141         0.616016  \n",
       "RandomForest Pipeline                     0.801289         0.650284  \n",
       "RandomForest                              0.795918         0.657040  \n",
       "DecisionTree                              0.796992         0.638623  \n",
       "DecisionTree Pipeline                     0.799141         0.638298  \n",
       "Euclidean                                 0.750806         0.546875  \n",
       "Manhattan                                 0.750806         0.546875  \n",
       "Euclidean Pipeline                        0.751880         0.549708  \n",
       "Manhattan Pipeline                        0.751880         0.549708  \n",
       "LogisticRegression                        0.677766         0.339207  \n",
       "LogisticRegression Pipeline               0.677766         0.339207  "
      ]
     },
     "execution_count": 214,
     "metadata": {},
     "output_type": "execute_result"
    }
   ],
   "source": [
    "report"
   ]
  },
  {
   "cell_type": "code",
   "execution_count": 215,
   "metadata": {},
   "outputs": [
    {
     "name": "stdout",
     "output_type": "stream",
     "text": [
      "SVM Tuning Pipe - Precision - Train Set :  0.8987012987012987\n",
      "SVM Tuning Pipe- Precision - Test Set  :  0.847457627118644\n",
      "Confusion Matrix      : \n",
      " <sklearn.metrics._plot.confusion_matrix.ConfusionMatrixDisplay object at 0x000001E3546B3150>\n",
      "Accuracy Score\n",
      "Train Score: 0.8987012987012987\n",
      "Test Score: 0.847457627118644\n",
      "\n",
      "Precision Score\n",
      "Train Precision: 0.8987012987012987\n",
      "Test Precision: 0.847457627118644\n",
      "\n",
      "TEST PERFORMANCE\n",
      "              precision    recall  f1-score   support\n",
      "\n",
      "           0       0.81      0.96      0.88       638\n",
      "           1       0.85      0.51      0.64       293\n",
      "\n",
      "    accuracy                           0.82       931\n",
      "   macro avg       0.83      0.73      0.76       931\n",
      "weighted avg       0.82      0.82      0.80       931\n",
      "\n"
     ]
    },
    {
     "data": {
      "image/png": "[encoded data removed]",
      "text/plain": [
       "<Figure size 640x480 with 2 Axes>"
      ]
     },
     "metadata": {},
     "output_type": "display_data"
    }
   ],
   "source": [
    "# Check Performance Model against Test-Set\n",
    "\n",
    "y_pred_train_gridcv_pipe = grid_svc_pipe.predict(X_train)\n",
    "y_pred_test_gridcv_pipe = grid_svc_pipe.predict(X_test)\n",
    "print('SVM Tuning Pipe - Precision - Train Set : ',precision_score(y_train, y_pred_train_gridcv_pipe))\n",
    "print('SVM Tuning Pipe- Precision - Test Set  : ',precision_score(y_test, y_pred_test_gridcv_pipe))\n",
    "print('Confusion Matrix      : \\n', ConfusionMatrixDisplay.from_estimator(grid_svc_pipe, X_test, y_test, cmap='Reds'))\n",
    "\n",
    "print(\"Accuracy Score\")\n",
    "gridcv_pipe_best_train_score = grid_svc_pipe.score(X_train, y_train)\n",
    "gridcv_pipe_test_score = grid_svc_pipe.score(X_test, y_test)\n",
    "\n",
    "print('Train Score: {0}\\nTest Score: {1}'.format(gridcv_pipe_best_train_score, gridcv_pipe_test_score))\n",
    "print(\"\")\n",
    "print(\"Precision Score\")\n",
    "train_precision_gridcv_pipe = precision_score(y_train, y_pred_train_gridcv_pipe)\n",
    "test_precision_gridcv_pipe = precision_score(y_test, y_pred_test_gridcv_pipe)\n",
    "\n",
    "print('Train Precision: {0}\\nTest Precision: {1}'.format(train_precision_gridcv_pipe, test_precision_gridcv_pipe))\n",
    "print(\"\")\n",
    "\n",
    "\n",
    "print(\"TEST PERFORMANCE\")\n",
    "print(classification_report(y_test,y_pred_test_gridcv_pipe))"
   ]
  },
  {
   "cell_type": "markdown",
   "metadata": {},
   "source": [
    "Dari hasil permodelan 8 buah algoritma diketahui nilainya sangat beragam, model yang paling jelek nilai precisionnya adalah model `Logistic Regression Pipeline` yaitu pada train = 0.52 dan pada test = 0.47\n",
    "\n",
    "Dari permodelan juga ditemukan bahwa model gridcv_pipe atau model SVM yang sudah di **Hyperparameter Tuning dan Pipeline** adalah model yang goodfit dan paling bagus diantara model lainnya, karena nilai train =  0.89 dan nilai test = 0.84\n",
    "\n",
    "Precision untuk kategori 0 (Karyawan yang tidak resign) adalah 0.81, yang berarti dari 100 karyawan yang kita prediksi akan resign akan ada 81 yang tidak resign\n",
    "\n",
    "Precision untuk kategori 1 (Karyawan yang resign) adalah 0.85, yang berarti dari 100 karyawan yang kita prediksi akan resign akan ada 85 yang benar-benar resign\n",
    "\n",
    "Kekurangan Model : Model masih masih bisa di tingkatkan lagi dengan menambahkan kolom(variable) baru\n",
    "\n",
    "Future Improvement : Menambah faktor-faktor yang mempengaruhi seorang karyawan akan resign / tidak , Menambah jumlah data agar model dapat lebih baik lagi"
   ]
  },
  {
   "cell_type": "markdown",
   "metadata": {},
   "source": [
    "# 11. Model Saving"
   ]
  },
  {
   "cell_type": "code",
   "execution_count": 216,
   "metadata": {},
   "outputs": [],
   "source": [
    "# Save the files\n",
    "\n",
    "with open(\"model.pkl\", \"wb\") as file_1:\n",
    "    pickle.dump(grid_svc_pipe, file_1)\n",
    "\n",
    "with open(\"model_scaler.pkl\", \"wb\") as file_2:\n",
    "    pickle.dump(scaler, file_2)\n",
    "\n",
    "with open(\"model_encoder_ordinal.pkl\", \"wb\") as file_3:\n",
    "    pickle.dump(encoder, file_3)\n",
    "\n",
    "with open(\"model_encoder_nominal.pkl\", \"wb\") as file_4:\n",
    "    pickle.dump(encodern, file_4)\n",
    "\n",
    "with open(\"list_num_col.txt\", \"wb\") as file_5:\n",
    "    pickle.dump(num_col, file_5)\n",
    "\n",
    "with open(\"list_cat_cols_n.txt\", \"wb\") as file_6:\n",
    "    pickle.dump(cat_col_n, file_6)\n",
    "\n",
    "with open(\"list_cat_cols_o.txt\", \"wb\") as file_7:\n",
    "    pickle.dump(cat_col_o, file_7)\n",
    "\n",
    "with open(\"list_cat_col.txt\", \"wb\") as file_8:\n",
    "    pickle.dump(cat_col, file_8)"
   ]
  },
  {
   "cell_type": "markdown",
   "metadata": {},
   "source": [
    "# 12. Kesimpulan / Conclusion"
   ]
  },
  {
   "cell_type": "markdown",
   "metadata": {},
   "source": [
    "Dalam penelitian ini diketahui mayoritas karyawan bergelar Bachelors 77.4% (3061 karyawan) namun pada dataset ini diketahui pada dataset ini orang yang bergelar Master cenderung akan resign, mayoritas berdomisil di kota Bangalore 47.9%.\n",
    " \n",
    "\n",
    "Penentuan model pada dataset ini adalah SVM Pipeline yang telah di hyperparameter tuning sehingga mendapatkan nilai train sebesar 89% dan test 84%. Dan metric yang di pakai pada penelitian ini adalah precision, karena Presisi digunakan saat perlu menghindari banyak false positive. Ini berguna dalam kasus di mana kesalahan sangat beresiko berisiko.\n",
    "\n",
    "Saran yang bisa diambil untuk mengatasi para karyawan yang resign (terutama pada karyawan yang bergelar Master):\n",
    "\n",
    "1. Exit Interview yang Mendalam:\n",
    "\n",
    "Karena mempertahankan karyawan yang ada (apalagi bergelar tinggi) memerlukan cost yang lebih sedikit daripada harus merekrut karyawan baru.\n",
    "Lakukan exit interview yang mendalam dengan karyawan yang mengundurkan diri. Pertimbangkan untuk menggunakan pihak ketiga atau orang yang independen untuk melakukan wawancara ini agar karyawan merasa lebih nyaman dalam berbicara. Pertanyakan alasan mereka untuk resign, harapan mereka, dan masukan konstruktif untuk perbaikan dan apabila memungkinkan dibujuk agar tetap bertahan\n",
    "\n",
    "2. Retensi Karyawan:\n",
    "\n",
    "Fokus pada upaya retensi karyawan yang ada dengan peningkatan program insentif, keseimbangan work life balance, pelatihan, dan peluang karir. Pastikan karyawan merasa dihargai dan memiliki peluang untuk pertumbuhan karier di perusahaan.\n",
    "\n",
    "3. Evaluasi Kebijakan dan Kepuasan Karyawan:\n",
    "\n",
    "Tinjau kembali kebijakan perusahaan dan jajaran manajemen. Pastikan bahwa karyawan merasa didukung, dihargai, dan memiliki peluang untuk pertumbuhan. Survei kepuasan karyawan dapat membantu Anda memahami perasaan dan kebutuhan karyawan Anda.\n",
    "\n",
    "4. Fleksibilitas dan Penyesuaian:\n",
    "\n",
    "Pertimbangkan untuk memberikan fleksibilitas dalam beban kerja atau lingkungan kerja yang mendukung karyawan yang memiliki komitmen lain di luar pekerjaan(melanjutkan pendidikan). Ini bisa membantu menarik dan mempertahankan bakat berkualifikasi tinggi.\n"
   ]
  },
  {
   "cell_type": "markdown",
   "metadata": {},
   "source": [
    "# 13. Conceptual Problem"
   ]
  },
  {
   "cell_type": "markdown",
   "metadata": {},
   "source": [
    "1. Jelaskan latar belakang adanya bagging dan cara kerja bagging !\n",
    "\n",
    "    Bagging (Bootstrap Aggregating) adalah salah satu metode ensemble dalam machine learning yang bertujuan untuk meningkatkan kinerja model prediktif dengan menggabungkan hasil dari beberapa model yang dibangun berdasarkan sampel data yang diambil secara acak dengan penggantian.\n",
    "\n",
    "    Cara kerja bagging secara sederhana adalah sebagai berikut:\n",
    "\n",
    "    - Bootstrap Sampling: Langkah pertama dalam bagging adalah mengambil sejumlah sampel acak dengan penggantian dari data pelatihan asli. Dalam setiap sampel, beberapa data mungkin muncul lebih dari sekali, sementara yang lain mungkin tidak muncul sama sekali. Ini menciptakan variasi dalam setiap sampel yang diambil.\n",
    "\n",
    "    - Model Pemilihan: Untuk setiap sampel bootstrap, kita membangun model yang sama atau berbeda, seperti pohon keputusan, regresi linier, atau model lainnya. Kita dapat menggunakan algoritma pembelajaran yang sama atau berbeda untuk setiap model.\n",
    "\n",
    "    - Prediksi Gabungan: Setelah membangun sejumlah model, kita menggabungkan hasil prediksi dari masing-masing model tersebut. Dalam kasus klasifikasi, ini bisa dilakukan dengan mengambil mayoritas suara dari semua model (voting), sedangkan dalam regresi, bisa dilakukan dengan mengambil rata-rata prediksi.\n",
    "\n",
    "    - Hasil Akhir: Hasil prediksi gabungan ini adalah output akhir dari metode bagging dan biasanya lebih stabil dan akurat daripada model tunggal.\n",
    "\n",
    "2. Jelaskan perbedaan cara kerja algoritma Random Forest dengan algoritma boosting yang Anda pilih !\n",
    "\n",
    "    Inti perbedaan utama adalah bahwa Random Forest menggunakan pohon-pohon yang dibangun secara independen dengan sampling acak, sementara algoritma boosting, seperti AdaBoost, membangun pohon-pohon secara berjenjang, memfokuskan perhatian pada data yang sulit diprediksi. Kedua metode ini memiliki keunggulan dan kelemahan masing-masing dan cocok untuk situasi yang berbeda dalam machine learning.\n",
    "\n",
    "3. Jelaskan apa yang dimaksud dengan Cross Validation !\n",
    "\n",
    "    Cross-validation adalah salah satu teknik penting dalam evaluasi dan validasi kinerja model machine learning. Tujuan utamanya adalah untuk mengukur sejauh mana model yang telah dibangun dapat menggeneralisasi hasil prediksi ke data yang belum pernah dilihat sebelumnya. Cross-validation melibatkan pembagian dataset menjadi dua bagian utama: bagian pelatihan (training set) dan bagian pengujian (test set), dengan beberapa variasi yang lebih kompleks.\n",
    "\n",
    "    Manfaat utama dari cross-validation adalah sebagai berikut:\n",
    "\n",
    "    - Mengurangi Bias: Dengan melakukan berbagai iterasi pengujian pada subset yang berbeda, cross-validation membantu mengurangi bias yang mungkin muncul jika kita hanya menggunakan satu pemisahan data training dan testing.\n",
    "\n",
    "    - Mengukur Stabilitas: Cross-validation memberikan perkiraan yang lebih stabil tentang kinerja model daripada hanya menggunakan satu set pengujian.\n",
    "\n",
    "    - Pemilihan Model: Ini membantu dalam membandingkan kinerja beberapa model atau algoritma berbeda untuk memilih yang terbaik.\n",
    "\n",
    "    - Mengoptimalkan Parameter: Cross-validation juga berguna untuk mengoptimalkan parameter model. Dengan mencoba berbagai kombinasi parameter pada setiap iterasi, Anda dapat menentukan parameter yang memberikan hasil terbaik.\n",
    "\n",
    "Cross-validation adalah alat penting dalam proses pengembangan model machine learning dan membantu memastikan bahwa model yang dibangun dapat diandalkan dan mampu mengatasi beragam data uji yang mungkin dihadapi di dunia nyata.\n"
   ]
  }
 ],
 "metadata": {
  "kernelspec": {
   "display_name": "base",
   "language": "python",
   "name": "python3"
  },
  "language_info": {
   "codemirror_mode": {
    "name": "ipython",
    "version": 3
   },
   "file_extension": ".py",
   "mimetype": "text/x-python",
   "name": "python",
   "nbconvert_exporter": "python",
   "pygments_lexer": "ipython3",
   "version": "3.11.4"
  }
 },
 "nbformat": 4,
 "nbformat_minor": 2
}
